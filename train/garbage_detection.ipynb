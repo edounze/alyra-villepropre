{
 "cells": [
  {
   "cell_type": "markdown",
   "metadata": {},
   "source": [
    "# Object detection with Keras and TS\n",
    "\n",
    "- Documentation : https://www.tensorflow.org/hub/tutorials/object_detection?hl=fr"
   ]
  },
  {
   "cell_type": "markdown",
   "metadata": {},
   "source": [
    "## Setup"
   ]
  },
  {
   "cell_type": "code",
   "execution_count": 2,
   "metadata": {},
   "outputs": [
    {
     "name": "stdout",
     "output_type": "stream",
     "text": [
      "Note: you may need to restart the kernel to use updated packages.\n",
      "Note: you may need to restart the kernel to use updated packages.\n",
      "Requirement already satisfied: opencv-python-headless==4.5.2.52 in /home/charles/web/alyra/villepropre/vp-server/.venv/lib/python3.9/site-packages (4.5.2.52)\n",
      "Requirement already satisfied: numpy>=1.19.3 in /home/charles/web/alyra/villepropre/vp-server/.venv/lib/python3.9/site-packages (from opencv-python-headless==4.5.2.52) (1.23.3)\n",
      "Note: you may need to restart the kernel to use updated packages.\n",
      "Requirement already satisfied: pycocotools in /home/charles/web/alyra/villepropre/vp-server/.venv/lib/python3.9/site-packages (2.0.7)\n",
      "Requirement already satisfied: matplotlib>=2.1.0 in /home/charles/web/alyra/villepropre/vp-server/.venv/lib/python3.9/site-packages (from pycocotools) (3.4.3)\n",
      "Requirement already satisfied: numpy in /home/charles/web/alyra/villepropre/vp-server/.venv/lib/python3.9/site-packages (from pycocotools) (1.23.3)\n",
      "Requirement already satisfied: cycler>=0.10 in /home/charles/web/alyra/villepropre/vp-server/.venv/lib/python3.9/site-packages (from matplotlib>=2.1.0->pycocotools) (0.12.1)\n",
      "Requirement already satisfied: kiwisolver>=1.0.1 in /home/charles/web/alyra/villepropre/vp-server/.venv/lib/python3.9/site-packages (from matplotlib>=2.1.0->pycocotools) (1.4.5)\n",
      "Requirement already satisfied: pillow>=6.2.0 in /home/charles/web/alyra/villepropre/vp-server/.venv/lib/python3.9/site-packages (from matplotlib>=2.1.0->pycocotools) (10.3.0)\n",
      "Requirement already satisfied: pyparsing>=2.2.1 in /home/charles/web/alyra/villepropre/vp-server/.venv/lib/python3.9/site-packages (from matplotlib>=2.1.0->pycocotools) (3.1.2)\n",
      "Requirement already satisfied: python-dateutil>=2.7 in /home/charles/web/alyra/villepropre/vp-server/.venv/lib/python3.9/site-packages (from matplotlib>=2.1.0->pycocotools) (2.9.0.post0)\n",
      "Requirement already satisfied: six>=1.5 in /home/charles/web/alyra/villepropre/vp-server/.venv/lib/python3.9/site-packages (from python-dateutil>=2.7->matplotlib>=2.1.0->pycocotools) (1.16.0)\n"
     ]
    }
   ],
   "source": [
    "%pip install -q tflite-model-maker\n",
    "%pip install -q tflite-support\n",
    "%pip install opencv-python-headless==4.5.2.52\n",
    "!pip3 install pycocotools\n",
    "\n",
    "\n",
    "\n",
    "try:\n",
    "# pylint: disable=g-import-not-at-top\n",
    "  from pycocotools.coco import COCO\n",
    "  from pycocotools.cocoeval import COCOeval\n",
    "# pylint: enable=g-import-not-at-top\n",
    "except ImportError:\n",
    "  print('Erreur')\n"
   ]
  },
  {
   "cell_type": "code",
   "execution_count": 3,
   "metadata": {},
   "outputs": [
    {
     "name": "stderr",
     "output_type": "stream",
     "text": [
      "2024-04-14 11:07:14.769541: W tensorflow/stream_executor/platform/default/dso_loader.cc:64] Could not load dynamic library 'libcudart.so.11.0'; dlerror: libcudart.so.11.0: cannot open shared object file: No such file or directory\n",
      "2024-04-14 11:07:14.769584: I tensorflow/stream_executor/cuda/cudart_stub.cc:29] Ignore above cudart dlerror if you do not have a GPU set up on your machine.\n",
      "/home/charles/web/alyra/villepropre/vp-server/.venv/lib/python3.9/site-packages/tensorflow_addons/utils/tfa_eol_msg.py:23: UserWarning: \n",
      "\n",
      "TensorFlow Addons (TFA) has ended development and introduction of new features.\n",
      "TFA has entered a minimal maintenance and release mode until a planned end of life in May 2024.\n",
      "Please modify downstream libraries to take dependencies from other repositories in our TensorFlow community (e.g. Keras, Keras-CV, and Keras-NLP). \n",
      "\n",
      "For more information see: https://github.com/tensorflow/addons/issues/2807 \n",
      "\n",
      "  warnings.warn(\n",
      "/home/charles/web/alyra/villepropre/vp-server/.venv/lib/python3.9/site-packages/tensorflow_addons/utils/ensure_tf_install.py:53: UserWarning: Tensorflow Addons supports using Python ops for all Tensorflow versions above or equal to 2.13.0 and strictly below 2.16.0 (nightly versions are not supported). \n",
      " The versions of TensorFlow you are currently using is 2.8.4 and is not supported. \n",
      "Some things might work, some things might not.\n",
      "If you were to encounter a bug, do not file an issue.\n",
      "If you want to make sure you're using a tested and supported configuration, either change the TensorFlow version or the TensorFlow Addons's version. \n",
      "You can find the compatibility matrix in TensorFlow Addon's readme:\n",
      "https://github.com/tensorflow/addons\n",
      "  warnings.warn(\n",
      "/home/charles/web/alyra/villepropre/vp-server/.venv/lib/python3.9/site-packages/tqdm/auto.py:21: TqdmWarning: IProgress not found. Please update jupyter and ipywidgets. See https://ipywidgets.readthedocs.io/en/stable/user_install.html\n",
      "  from .autonotebook import tqdm as notebook_tqdm\n"
     ]
    }
   ],
   "source": [
    "import numpy as np\n",
    "import os\n",
    "\n",
    "from tflite_model_maker.config import QuantizationConfig\n",
    "from tflite_model_maker.config import ExportFormat\n",
    "from tflite_model_maker import model_spec\n",
    "from tflite_model_maker import object_detector\n",
    "\n",
    "import tensorflow as tf\n",
    "assert tf.__version__.startswith('2')\n",
    "\n",
    "tf.get_logger().setLevel('ERROR')\n",
    "from absl import logging\n",
    "logging.set_verbosity(logging.ERROR)"
   ]
  },
  {
   "cell_type": "markdown",
   "metadata": {},
   "source": [
    "## Chargement du jeu de données"
   ]
  },
  {
   "cell_type": "code",
   "execution_count": 4,
   "metadata": {},
   "outputs": [],
   "source": [
    "train_folder = 'datasets/dataset.voc/train'\n",
    "val_folder = 'datasets/dataset.voc/valid'\n",
    "test_folder = 'datasets/dataset.voc/test'\n",
    "\n",
    "# These images are used to train the object detection model to recognize plastic and can\n",
    "train_data = object_detector.DataLoader.from_pascal_voc(\n",
    "    train_folder,\n",
    "    train_folder,\n",
    "    ['plastique','canette']\n",
    ")\n",
    "\n",
    "# These images are used to evaluate the model. \n",
    "# These are images that the model didn't see during the training process. You'll use them to decide when you should stop the training, to avoid overfitting.\n",
    "val_data = object_detector.DataLoader.from_pascal_voc(\n",
    "    val_folder,\n",
    "    val_folder,\n",
    "    # label_map={1: \"plastique\", 2: \"canette\"}\n",
    "    ['plastique','canette']\n",
    ")\n",
    "\n",
    "# These images are used to evaluate the final model performance.\n",
    "test_data = object_detector.DataLoader.from_pascal_voc(\n",
    "    test_folder,\n",
    "    test_folder,\n",
    "    ['plastique','canette']\n",
    ")"
   ]
  },
  {
   "cell_type": "markdown",
   "metadata": {},
   "source": [
    "## Mise en cache des données"
   ]
  },
  {
   "cell_type": "code",
   "execution_count": 5,
   "metadata": {},
   "outputs": [],
   "source": [
    "# AUTOTUNE = tf.data.AUTOTUNE\n",
    "\n",
    "# train_data = train_data.cache().shuffle(1000).prefetch(buffer_size=AUTOTUNE)\n",
    "# val_data = val_data.cache().prefetch(buffer_size=AUTOTUNE)"
   ]
  },
  {
   "cell_type": "markdown",
   "metadata": {},
   "source": [
    "## Selection du modèle"
   ]
  },
  {
   "cell_type": "code",
   "execution_count": 6,
   "metadata": {},
   "outputs": [
    {
     "name": "stderr",
     "output_type": "stream",
     "text": [
      "2024-04-14 11:07:21.080668: W tensorflow/stream_executor/platform/default/dso_loader.cc:64] Could not load dynamic library 'libcuda.so.1'; dlerror: libcuda.so.1: cannot open shared object file: No such file or directory\n",
      "2024-04-14 11:07:21.080725: W tensorflow/stream_executor/cuda/cuda_driver.cc:269] failed call to cuInit: UNKNOWN ERROR (303)\n",
      "2024-04-14 11:07:21.080792: I tensorflow/stream_executor/cuda/cuda_diagnostics.cc:156] kernel driver does not appear to be running on this host (DESKTOP-R17EPGM): /proc/driver/nvidia/version does not exist\n",
      "2024-04-14 11:07:21.081285: I tensorflow/core/platform/cpu_feature_guard.cc:151] This TensorFlow binary is optimized with oneAPI Deep Neural Network Library (oneDNN) to use the following CPU instructions in performance-critical operations:  AVX2 FMA\n",
      "To enable them in other operations, rebuild TensorFlow with the appropriate compiler flags.\n"
     ]
    }
   ],
   "source": [
    "# Liste des modèles possibles : https://www.tensorflow.org/lite/api_docs/python/tflite_model_maker/model_spec\n",
    "# spec = model_spec.get('mobilenet_v2')\n",
    "# spec = model_spec.get('efficientdet_lite4')\n",
    "\n",
    "verbose=1\n",
    "tflite_max_detections=2\n",
    "\n",
    "spec = model_spec.get('efficientdet_lite3')\n",
    "spec.tflite_max_detections=tflite_max_detections\n",
    "spec.verbose=verbose\n"
   ]
  },
  {
   "cell_type": "markdown",
   "metadata": {},
   "source": [
    "## Entrainement du modèle"
   ]
  },
  {
   "cell_type": "code",
   "execution_count": 7,
   "metadata": {},
   "outputs": [
    {
     "name": "stdout",
     "output_type": "stream",
     "text": [
      "Epoch 1/80\n"
     ]
    },
    {
     "name": "stderr",
     "output_type": "stream",
     "text": [
      "2024-04-14 11:07:47.852644: W tensorflow/core/framework/dataset.cc:768] Input of GeneratorDatasetOp::Dataset will not be optimized because the dataset does not implement the AsGraphDefInternal() method needed to apply optimizations.\n"
     ]
    },
    {
     "name": "stdout",
     "output_type": "stream",
     "text": [
      "21/21 [==============================] - ETA: 0s - det_loss: 1.7066 - cls_loss: 1.1134 - box_loss: 0.0119 - reg_l2_loss: 0.0925 - loss: 1.7992 - learning_rate: 0.0072 - gradient_norm: 1.1739"
     ]
    },
    {
     "name": "stderr",
     "output_type": "stream",
     "text": [
      "2024-04-14 11:10:39.078149: W tensorflow/core/framework/dataset.cc:768] Input of GeneratorDatasetOp::Dataset will not be optimized because the dataset does not implement the AsGraphDefInternal() method needed to apply optimizations.\n"
     ]
    },
    {
     "name": "stdout",
     "output_type": "stream",
     "text": [
      "21/21 [==============================] - 185s 7s/step - det_loss: 1.6971 - cls_loss: 1.1100 - box_loss: 0.0117 - reg_l2_loss: 0.0925 - loss: 1.7896 - learning_rate: 0.0071 - gradient_norm: 1.1771 - val_det_loss: 1.4231 - val_cls_loss: 1.0174 - val_box_loss: 0.0081 - val_reg_l2_loss: 0.0925 - val_loss: 1.5156\n",
      "Epoch 2/80\n",
      "21/21 [==============================] - ETA: 0s - det_loss: 1.3683 - cls_loss: 0.9258 - box_loss: 0.0089 - reg_l2_loss: 0.0925 - loss: 1.4609 - learning_rate: 0.0062 - gradient_norm: 2.4138"
     ]
    },
    {
     "name": "stderr",
     "output_type": "stream",
     "text": [
      "2024-04-14 11:13:13.357691: W tensorflow/core/framework/dataset.cc:768] Input of GeneratorDatasetOp::Dataset will not be optimized because the dataset does not implement the AsGraphDefInternal() method needed to apply optimizations.\n"
     ]
    },
    {
     "name": "stdout",
     "output_type": "stream",
     "text": [
      "21/21 [==============================] - 152s 7s/step - det_loss: 1.3524 - cls_loss: 0.9154 - box_loss: 0.0087 - reg_l2_loss: 0.0925 - loss: 1.4450 - learning_rate: 0.0062 - gradient_norm: 2.4156 - val_det_loss: 1.2953 - val_cls_loss: 0.9693 - val_box_loss: 0.0065 - val_reg_l2_loss: 0.0926 - val_loss: 1.3878\n",
      "Epoch 3/80\n",
      "21/21 [==============================] - ETA: 0s - det_loss: 0.9957 - cls_loss: 0.6348 - box_loss: 0.0072 - reg_l2_loss: 0.0926 - loss: 1.0883 - learning_rate: 0.0062 - gradient_norm: 3.6096"
     ]
    },
    {
     "name": "stderr",
     "output_type": "stream",
     "text": [
      "2024-04-14 11:15:16.929317: W tensorflow/core/framework/dataset.cc:768] Input of GeneratorDatasetOp::Dataset will not be optimized because the dataset does not implement the AsGraphDefInternal() method needed to apply optimizations.\n"
     ]
    },
    {
     "name": "stdout",
     "output_type": "stream",
     "text": [
      "21/21 [==============================] - 120s 6s/step - det_loss: 0.9820 - cls_loss: 0.6268 - box_loss: 0.0071 - reg_l2_loss: 0.0926 - loss: 1.0746 - learning_rate: 0.0062 - gradient_norm: 3.5557 - val_det_loss: 0.9519 - val_cls_loss: 0.6101 - val_box_loss: 0.0068 - val_reg_l2_loss: 0.0926 - val_loss: 1.0445\n",
      "Epoch 4/80\n",
      "21/21 [==============================] - ETA: 0s - det_loss: 0.7460 - cls_loss: 0.4636 - box_loss: 0.0056 - reg_l2_loss: 0.0926 - loss: 0.8386 - learning_rate: 0.0062 - gradient_norm: 3.6209"
     ]
    },
    {
     "name": "stderr",
     "output_type": "stream",
     "text": [
      "2024-04-14 11:17:13.705416: W tensorflow/core/framework/dataset.cc:768] Input of GeneratorDatasetOp::Dataset will not be optimized because the dataset does not implement the AsGraphDefInternal() method needed to apply optimizations.\n"
     ]
    },
    {
     "name": "stdout",
     "output_type": "stream",
     "text": [
      "21/21 [==============================] - 116s 6s/step - det_loss: 0.7470 - cls_loss: 0.4627 - box_loss: 0.0057 - reg_l2_loss: 0.0926 - loss: 0.8396 - learning_rate: 0.0062 - gradient_norm: 3.5767 - val_det_loss: 0.8542 - val_cls_loss: 0.5269 - val_box_loss: 0.0065 - val_reg_l2_loss: 0.0926 - val_loss: 0.9468\n",
      "Epoch 5/80\n",
      "21/21 [==============================] - ETA: 0s - det_loss: 0.6522 - cls_loss: 0.4117 - box_loss: 0.0048 - reg_l2_loss: 0.0926 - loss: 0.7448 - learning_rate: 0.0062 - gradient_norm: 3.8184"
     ]
    },
    {
     "name": "stderr",
     "output_type": "stream",
     "text": [
      "2024-04-14 11:19:11.473555: W tensorflow/core/framework/dataset.cc:768] Input of GeneratorDatasetOp::Dataset will not be optimized because the dataset does not implement the AsGraphDefInternal() method needed to apply optimizations.\n"
     ]
    },
    {
     "name": "stdout",
     "output_type": "stream",
     "text": [
      "21/21 [==============================] - 135s 6s/step - det_loss: 0.6523 - cls_loss: 0.4118 - box_loss: 0.0048 - reg_l2_loss: 0.0926 - loss: 0.7450 - learning_rate: 0.0062 - gradient_norm: 4.0015 - val_det_loss: 0.7728 - val_cls_loss: 0.4398 - val_box_loss: 0.0067 - val_reg_l2_loss: 0.0926 - val_loss: 0.8654\n",
      "Epoch 6/80\n",
      "21/21 [==============================] - ETA: 0s - det_loss: 0.6417 - cls_loss: 0.3997 - box_loss: 0.0048 - reg_l2_loss: 0.0926 - loss: 0.7343 - learning_rate: 0.0062 - gradient_norm: 4.3443"
     ]
    },
    {
     "name": "stderr",
     "output_type": "stream",
     "text": [
      "2024-04-14 11:21:26.300844: W tensorflow/core/framework/dataset.cc:768] Input of GeneratorDatasetOp::Dataset will not be optimized because the dataset does not implement the AsGraphDefInternal() method needed to apply optimizations.\n"
     ]
    },
    {
     "name": "stdout",
     "output_type": "stream",
     "text": [
      "21/21 [==============================] - 117s 6s/step - det_loss: 0.6428 - cls_loss: 0.4004 - box_loss: 0.0048 - reg_l2_loss: 0.0926 - loss: 0.7354 - learning_rate: 0.0062 - gradient_norm: 4.4524 - val_det_loss: 0.6924 - val_cls_loss: 0.3984 - val_box_loss: 0.0059 - val_reg_l2_loss: 0.0926 - val_loss: 0.7850\n",
      "Epoch 7/80\n",
      "21/21 [==============================] - ETA: 0s - det_loss: 0.5620 - cls_loss: 0.3524 - box_loss: 0.0042 - reg_l2_loss: 0.0926 - loss: 0.6546 - learning_rate: 0.0061 - gradient_norm: 4.2081"
     ]
    },
    {
     "name": "stderr",
     "output_type": "stream",
     "text": [
      "2024-04-14 11:23:21.534402: W tensorflow/core/framework/dataset.cc:768] Input of GeneratorDatasetOp::Dataset will not be optimized because the dataset does not implement the AsGraphDefInternal() method needed to apply optimizations.\n"
     ]
    },
    {
     "name": "stdout",
     "output_type": "stream",
     "text": [
      "21/21 [==============================] - 115s 6s/step - det_loss: 0.5711 - cls_loss: 0.3569 - box_loss: 0.0043 - reg_l2_loss: 0.0926 - loss: 0.6638 - learning_rate: 0.0061 - gradient_norm: 4.4713 - val_det_loss: 0.6643 - val_cls_loss: 0.3644 - val_box_loss: 0.0060 - val_reg_l2_loss: 0.0927 - val_loss: 0.7569\n",
      "Epoch 8/80\n",
      "21/21 [==============================] - ETA: 0s - det_loss: 0.5370 - cls_loss: 0.3461 - box_loss: 0.0038 - reg_l2_loss: 0.0927 - loss: 0.6296 - learning_rate: 0.0061 - gradient_norm: 3.7948"
     ]
    },
    {
     "name": "stderr",
     "output_type": "stream",
     "text": [
      "2024-04-14 11:25:14.470346: W tensorflow/core/framework/dataset.cc:768] Input of GeneratorDatasetOp::Dataset will not be optimized because the dataset does not implement the AsGraphDefInternal() method needed to apply optimizations.\n"
     ]
    },
    {
     "name": "stdout",
     "output_type": "stream",
     "text": [
      "21/21 [==============================] - 113s 5s/step - det_loss: 0.5360 - cls_loss: 0.3435 - box_loss: 0.0038 - reg_l2_loss: 0.0927 - loss: 0.6287 - learning_rate: 0.0061 - gradient_norm: 3.7488 - val_det_loss: 0.6005 - val_cls_loss: 0.3575 - val_box_loss: 0.0049 - val_reg_l2_loss: 0.0927 - val_loss: 0.6931\n",
      "Epoch 9/80\n",
      "21/21 [==============================] - ETA: 0s - det_loss: 0.5176 - cls_loss: 0.3302 - box_loss: 0.0037 - reg_l2_loss: 0.0927 - loss: 0.6103 - learning_rate: 0.0061 - gradient_norm: 3.6813"
     ]
    },
    {
     "name": "stderr",
     "output_type": "stream",
     "text": [
      "2024-04-14 11:27:03.972909: W tensorflow/core/framework/dataset.cc:768] Input of GeneratorDatasetOp::Dataset will not be optimized because the dataset does not implement the AsGraphDefInternal() method needed to apply optimizations.\n"
     ]
    },
    {
     "name": "stdout",
     "output_type": "stream",
     "text": [
      "21/21 [==============================] - 109s 5s/step - det_loss: 0.5188 - cls_loss: 0.3320 - box_loss: 0.0037 - reg_l2_loss: 0.0927 - loss: 0.6115 - learning_rate: 0.0061 - gradient_norm: 3.6245 - val_det_loss: 0.6301 - val_cls_loss: 0.3716 - val_box_loss: 0.0052 - val_reg_l2_loss: 0.0927 - val_loss: 0.7228\n",
      "Epoch 10/80\n",
      "21/21 [==============================] - ETA: 0s - det_loss: 0.4662 - cls_loss: 0.3100 - box_loss: 0.0031 - reg_l2_loss: 0.0927 - loss: 0.5589 - learning_rate: 0.0060 - gradient_norm: 3.5969"
     ]
    },
    {
     "name": "stderr",
     "output_type": "stream",
     "text": [
      "2024-04-14 11:28:49.219807: W tensorflow/core/framework/dataset.cc:768] Input of GeneratorDatasetOp::Dataset will not be optimized because the dataset does not implement the AsGraphDefInternal() method needed to apply optimizations.\n"
     ]
    },
    {
     "name": "stdout",
     "output_type": "stream",
     "text": [
      "21/21 [==============================] - 111s 5s/step - det_loss: 0.4645 - cls_loss: 0.3097 - box_loss: 0.0031 - reg_l2_loss: 0.0927 - loss: 0.5572 - learning_rate: 0.0060 - gradient_norm: 3.5755 - val_det_loss: 0.6006 - val_cls_loss: 0.3590 - val_box_loss: 0.0048 - val_reg_l2_loss: 0.0927 - val_loss: 0.6933\n",
      "Epoch 11/80\n",
      "21/21 [==============================] - ETA: 0s - det_loss: 0.4506 - cls_loss: 0.2833 - box_loss: 0.0033 - reg_l2_loss: 0.0927 - loss: 0.5433 - learning_rate: 0.0060 - gradient_norm: 3.1408"
     ]
    },
    {
     "name": "stderr",
     "output_type": "stream",
     "text": [
      "2024-04-14 11:30:47.027855: W tensorflow/core/framework/dataset.cc:768] Input of GeneratorDatasetOp::Dataset will not be optimized because the dataset does not implement the AsGraphDefInternal() method needed to apply optimizations.\n"
     ]
    },
    {
     "name": "stdout",
     "output_type": "stream",
     "text": [
      "21/21 [==============================] - 116s 6s/step - det_loss: 0.4481 - cls_loss: 0.2806 - box_loss: 0.0034 - reg_l2_loss: 0.0927 - loss: 0.5408 - learning_rate: 0.0060 - gradient_norm: 3.1208 - val_det_loss: 0.5903 - val_cls_loss: 0.3351 - val_box_loss: 0.0051 - val_reg_l2_loss: 0.0927 - val_loss: 0.6830\n",
      "Epoch 12/80\n",
      "21/21 [==============================] - ETA: 0s - det_loss: 0.4395 - cls_loss: 0.2816 - box_loss: 0.0032 - reg_l2_loss: 0.0927 - loss: 0.5322 - learning_rate: 0.0059 - gradient_norm: 3.5683"
     ]
    },
    {
     "name": "stderr",
     "output_type": "stream",
     "text": [
      "2024-04-14 11:32:36.618638: W tensorflow/core/framework/dataset.cc:768] Input of GeneratorDatasetOp::Dataset will not be optimized because the dataset does not implement the AsGraphDefInternal() method needed to apply optimizations.\n"
     ]
    },
    {
     "name": "stdout",
     "output_type": "stream",
     "text": [
      "21/21 [==============================] - 106s 5s/step - det_loss: 0.4367 - cls_loss: 0.2811 - box_loss: 0.0031 - reg_l2_loss: 0.0927 - loss: 0.5295 - learning_rate: 0.0059 - gradient_norm: 3.4997 - val_det_loss: 0.6550 - val_cls_loss: 0.3236 - val_box_loss: 0.0066 - val_reg_l2_loss: 0.0927 - val_loss: 0.7477\n",
      "Epoch 13/80\n",
      "21/21 [==============================] - ETA: 0s - det_loss: 0.4373 - cls_loss: 0.2677 - box_loss: 0.0034 - reg_l2_loss: 0.0927 - loss: 0.5300 - learning_rate: 0.0059 - gradient_norm: 3.5588"
     ]
    },
    {
     "name": "stderr",
     "output_type": "stream",
     "text": [
      "2024-04-14 11:34:22.315933: W tensorflow/core/framework/dataset.cc:768] Input of GeneratorDatasetOp::Dataset will not be optimized because the dataset does not implement the AsGraphDefInternal() method needed to apply optimizations.\n"
     ]
    },
    {
     "name": "stdout",
     "output_type": "stream",
     "text": [
      "21/21 [==============================] - 105s 5s/step - det_loss: 0.4381 - cls_loss: 0.2698 - box_loss: 0.0034 - reg_l2_loss: 0.0927 - loss: 0.5308 - learning_rate: 0.0059 - gradient_norm: 3.5706 - val_det_loss: 0.5983 - val_cls_loss: 0.3213 - val_box_loss: 0.0055 - val_reg_l2_loss: 0.0927 - val_loss: 0.6910\n",
      "Epoch 14/80\n",
      "21/21 [==============================] - ETA: 0s - det_loss: 0.4539 - cls_loss: 0.2849 - box_loss: 0.0034 - reg_l2_loss: 0.0928 - loss: 0.5467 - learning_rate: 0.0058 - gradient_norm: 4.0035"
     ]
    },
    {
     "name": "stderr",
     "output_type": "stream",
     "text": [
      "2024-04-14 11:36:05.867820: W tensorflow/core/framework/dataset.cc:768] Input of GeneratorDatasetOp::Dataset will not be optimized because the dataset does not implement the AsGraphDefInternal() method needed to apply optimizations.\n"
     ]
    },
    {
     "name": "stdout",
     "output_type": "stream",
     "text": [
      "21/21 [==============================] - 104s 5s/step - det_loss: 0.4503 - cls_loss: 0.2828 - box_loss: 0.0034 - reg_l2_loss: 0.0928 - loss: 0.5431 - learning_rate: 0.0058 - gradient_norm: 3.9952 - val_det_loss: 0.6209 - val_cls_loss: 0.3313 - val_box_loss: 0.0058 - val_reg_l2_loss: 0.0928 - val_loss: 0.7136\n",
      "Epoch 15/80\n",
      "21/21 [==============================] - ETA: 0s - det_loss: 0.3906 - cls_loss: 0.2427 - box_loss: 0.0030 - reg_l2_loss: 0.0928 - loss: 0.4833 - learning_rate: 0.0057 - gradient_norm: 3.6304"
     ]
    },
    {
     "name": "stderr",
     "output_type": "stream",
     "text": [
      "2024-04-14 11:37:48.119919: W tensorflow/core/framework/dataset.cc:768] Input of GeneratorDatasetOp::Dataset will not be optimized because the dataset does not implement the AsGraphDefInternal() method needed to apply optimizations.\n"
     ]
    },
    {
     "name": "stdout",
     "output_type": "stream",
     "text": [
      "21/21 [==============================] - 109s 5s/step - det_loss: 0.3902 - cls_loss: 0.2441 - box_loss: 0.0029 - reg_l2_loss: 0.0928 - loss: 0.4830 - learning_rate: 0.0057 - gradient_norm: 3.6817 - val_det_loss: 0.6255 - val_cls_loss: 0.3314 - val_box_loss: 0.0059 - val_reg_l2_loss: 0.0928 - val_loss: 0.7183\n",
      "Epoch 16/80\n",
      "21/21 [==============================] - ETA: 0s - det_loss: 0.4124 - cls_loss: 0.2536 - box_loss: 0.0032 - reg_l2_loss: 0.0928 - loss: 0.5052 - learning_rate: 0.0057 - gradient_norm: 4.0686"
     ]
    },
    {
     "name": "stderr",
     "output_type": "stream",
     "text": [
      "2024-04-14 11:39:38.570609: W tensorflow/core/framework/dataset.cc:768] Input of GeneratorDatasetOp::Dataset will not be optimized because the dataset does not implement the AsGraphDefInternal() method needed to apply optimizations.\n"
     ]
    },
    {
     "name": "stdout",
     "output_type": "stream",
     "text": [
      "21/21 [==============================] - 105s 5s/step - det_loss: 0.4076 - cls_loss: 0.2507 - box_loss: 0.0031 - reg_l2_loss: 0.0928 - loss: 0.5004 - learning_rate: 0.0057 - gradient_norm: 3.9731 - val_det_loss: 0.6224 - val_cls_loss: 0.3346 - val_box_loss: 0.0058 - val_reg_l2_loss: 0.0928 - val_loss: 0.7152\n",
      "Epoch 17/80\n",
      "21/21 [==============================] - ETA: 0s - det_loss: 0.3991 - cls_loss: 0.2497 - box_loss: 0.0030 - reg_l2_loss: 0.0928 - loss: 0.4919 - learning_rate: 0.0056 - gradient_norm: 3.4056"
     ]
    },
    {
     "name": "stderr",
     "output_type": "stream",
     "text": [
      "2024-04-14 11:41:21.510609: W tensorflow/core/framework/dataset.cc:768] Input of GeneratorDatasetOp::Dataset will not be optimized because the dataset does not implement the AsGraphDefInternal() method needed to apply optimizations.\n"
     ]
    },
    {
     "name": "stdout",
     "output_type": "stream",
     "text": [
      "21/21 [==============================] - 102s 5s/step - det_loss: 0.4053 - cls_loss: 0.2523 - box_loss: 0.0031 - reg_l2_loss: 0.0928 - loss: 0.4981 - learning_rate: 0.0056 - gradient_norm: 3.4584 - val_det_loss: 0.6384 - val_cls_loss: 0.3445 - val_box_loss: 0.0059 - val_reg_l2_loss: 0.0928 - val_loss: 0.7312\n",
      "Epoch 18/80\n",
      "21/21 [==============================] - ETA: 0s - det_loss: 0.3635 - cls_loss: 0.2244 - box_loss: 0.0028 - reg_l2_loss: 0.0928 - loss: 0.4563 - learning_rate: 0.0055 - gradient_norm: 3.3159"
     ]
    },
    {
     "name": "stderr",
     "output_type": "stream",
     "text": [
      "2024-04-14 11:43:01.093326: W tensorflow/core/framework/dataset.cc:768] Input of GeneratorDatasetOp::Dataset will not be optimized because the dataset does not implement the AsGraphDefInternal() method needed to apply optimizations.\n"
     ]
    },
    {
     "name": "stdout",
     "output_type": "stream",
     "text": [
      "21/21 [==============================] - 101s 5s/step - det_loss: 0.3641 - cls_loss: 0.2247 - box_loss: 0.0028 - reg_l2_loss: 0.0928 - loss: 0.4569 - learning_rate: 0.0055 - gradient_norm: 3.3800 - val_det_loss: 0.5672 - val_cls_loss: 0.3275 - val_box_loss: 0.0048 - val_reg_l2_loss: 0.0928 - val_loss: 0.6600\n",
      "Epoch 19/80\n",
      "21/21 [==============================] - ETA: 0s - det_loss: 0.3651 - cls_loss: 0.2268 - box_loss: 0.0028 - reg_l2_loss: 0.0928 - loss: 0.4579 - learning_rate: 0.0054 - gradient_norm: 3.2081"
     ]
    },
    {
     "name": "stderr",
     "output_type": "stream",
     "text": [
      "2024-04-14 11:44:47.974988: W tensorflow/core/framework/dataset.cc:768] Input of GeneratorDatasetOp::Dataset will not be optimized because the dataset does not implement the AsGraphDefInternal() method needed to apply optimizations.\n"
     ]
    },
    {
     "name": "stdout",
     "output_type": "stream",
     "text": [
      "21/21 [==============================] - 106s 5s/step - det_loss: 0.3655 - cls_loss: 0.2277 - box_loss: 0.0028 - reg_l2_loss: 0.0928 - loss: 0.4583 - learning_rate: 0.0054 - gradient_norm: 3.1837 - val_det_loss: 0.4310 - val_cls_loss: 0.2541 - val_box_loss: 0.0035 - val_reg_l2_loss: 0.0928 - val_loss: 0.5238\n",
      "Epoch 20/80\n",
      "21/21 [==============================] - ETA: 0s - det_loss: 0.3600 - cls_loss: 0.2278 - box_loss: 0.0026 - reg_l2_loss: 0.0928 - loss: 0.4528 - learning_rate: 0.0054 - gradient_norm: 3.4090"
     ]
    },
    {
     "name": "stderr",
     "output_type": "stream",
     "text": [
      "2024-04-14 11:46:31.669938: W tensorflow/core/framework/dataset.cc:768] Input of GeneratorDatasetOp::Dataset will not be optimized because the dataset does not implement the AsGraphDefInternal() method needed to apply optimizations.\n"
     ]
    },
    {
     "name": "stdout",
     "output_type": "stream",
     "text": [
      "21/21 [==============================] - 110s 5s/step - det_loss: 0.3615 - cls_loss: 0.2296 - box_loss: 0.0026 - reg_l2_loss: 0.0928 - loss: 0.4543 - learning_rate: 0.0054 - gradient_norm: 3.3420 - val_det_loss: 0.4631 - val_cls_loss: 0.2872 - val_box_loss: 0.0035 - val_reg_l2_loss: 0.0928 - val_loss: 0.5560\n",
      "Epoch 21/80\n",
      "21/21 [==============================] - ETA: 0s - det_loss: 0.3450 - cls_loss: 0.2184 - box_loss: 0.0025 - reg_l2_loss: 0.0928 - loss: 0.4378 - learning_rate: 0.0053 - gradient_norm: 3.2897"
     ]
    },
    {
     "name": "stderr",
     "output_type": "stream",
     "text": [
      "2024-04-14 11:48:21.824336: W tensorflow/core/framework/dataset.cc:768] Input of GeneratorDatasetOp::Dataset will not be optimized because the dataset does not implement the AsGraphDefInternal() method needed to apply optimizations.\n"
     ]
    },
    {
     "name": "stdout",
     "output_type": "stream",
     "text": [
      "21/21 [==============================] - 104s 5s/step - det_loss: 0.3437 - cls_loss: 0.2179 - box_loss: 0.0025 - reg_l2_loss: 0.0928 - loss: 0.4365 - learning_rate: 0.0053 - gradient_norm: 3.2287 - val_det_loss: 0.6180 - val_cls_loss: 0.3830 - val_box_loss: 0.0047 - val_reg_l2_loss: 0.0928 - val_loss: 0.7109\n",
      "Epoch 22/80\n",
      "21/21 [==============================] - ETA: 0s - det_loss: 0.3227 - cls_loss: 0.2088 - box_loss: 0.0023 - reg_l2_loss: 0.0928 - loss: 0.4155 - learning_rate: 0.0052 - gradient_norm: 2.8427"
     ]
    },
    {
     "name": "stderr",
     "output_type": "stream",
     "text": [
      "2024-04-14 11:50:06.242751: W tensorflow/core/framework/dataset.cc:768] Input of GeneratorDatasetOp::Dataset will not be optimized because the dataset does not implement the AsGraphDefInternal() method needed to apply optimizations.\n"
     ]
    },
    {
     "name": "stdout",
     "output_type": "stream",
     "text": [
      "21/21 [==============================] - 106s 5s/step - det_loss: 0.3241 - cls_loss: 0.2097 - box_loss: 0.0023 - reg_l2_loss: 0.0928 - loss: 0.4169 - learning_rate: 0.0052 - gradient_norm: 2.9166 - val_det_loss: 0.5967 - val_cls_loss: 0.3414 - val_box_loss: 0.0051 - val_reg_l2_loss: 0.0928 - val_loss: 0.6895\n",
      "Epoch 23/80\n",
      "21/21 [==============================] - ETA: 0s - det_loss: 0.3200 - cls_loss: 0.2029 - box_loss: 0.0023 - reg_l2_loss: 0.0929 - loss: 0.4129 - learning_rate: 0.0051 - gradient_norm: 3.4957"
     ]
    },
    {
     "name": "stderr",
     "output_type": "stream",
     "text": [
      "2024-04-14 11:51:51.638015: W tensorflow/core/framework/dataset.cc:768] Input of GeneratorDatasetOp::Dataset will not be optimized because the dataset does not implement the AsGraphDefInternal() method needed to apply optimizations.\n"
     ]
    },
    {
     "name": "stdout",
     "output_type": "stream",
     "text": [
      "21/21 [==============================] - 104s 5s/step - det_loss: 0.3173 - cls_loss: 0.2014 - box_loss: 0.0023 - reg_l2_loss: 0.0929 - loss: 0.4101 - learning_rate: 0.0051 - gradient_norm: 3.4430 - val_det_loss: 0.5435 - val_cls_loss: 0.3301 - val_box_loss: 0.0043 - val_reg_l2_loss: 0.0929 - val_loss: 0.6364\n",
      "Epoch 24/80\n",
      "21/21 [==============================] - ETA: 0s - det_loss: 0.3763 - cls_loss: 0.2324 - box_loss: 0.0029 - reg_l2_loss: 0.0929 - loss: 0.4692 - learning_rate: 0.0050 - gradient_norm: 4.5779"
     ]
    },
    {
     "name": "stderr",
     "output_type": "stream",
     "text": [
      "2024-04-14 11:53:33.865283: W tensorflow/core/framework/dataset.cc:768] Input of GeneratorDatasetOp::Dataset will not be optimized because the dataset does not implement the AsGraphDefInternal() method needed to apply optimizations.\n"
     ]
    },
    {
     "name": "stdout",
     "output_type": "stream",
     "text": [
      "21/21 [==============================] - 102s 5s/step - det_loss: 0.3734 - cls_loss: 0.2312 - box_loss: 0.0028 - reg_l2_loss: 0.0929 - loss: 0.4662 - learning_rate: 0.0050 - gradient_norm: 4.4524 - val_det_loss: 0.5509 - val_cls_loss: 0.3393 - val_box_loss: 0.0042 - val_reg_l2_loss: 0.0929 - val_loss: 0.6437\n",
      "Epoch 25/80\n",
      "21/21 [==============================] - ETA: 0s - det_loss: 0.3522 - cls_loss: 0.2202 - box_loss: 0.0026 - reg_l2_loss: 0.0929 - loss: 0.4451 - learning_rate: 0.0049 - gradient_norm: 3.5044"
     ]
    },
    {
     "name": "stderr",
     "output_type": "stream",
     "text": [
      "2024-04-14 11:55:18.192584: W tensorflow/core/framework/dataset.cc:768] Input of GeneratorDatasetOp::Dataset will not be optimized because the dataset does not implement the AsGraphDefInternal() method needed to apply optimizations.\n"
     ]
    },
    {
     "name": "stdout",
     "output_type": "stream",
     "text": [
      "21/21 [==============================] - 110s 5s/step - det_loss: 0.3500 - cls_loss: 0.2192 - box_loss: 0.0026 - reg_l2_loss: 0.0929 - loss: 0.4429 - learning_rate: 0.0049 - gradient_norm: 3.4755 - val_det_loss: 0.5563 - val_cls_loss: 0.3521 - val_box_loss: 0.0041 - val_reg_l2_loss: 0.0929 - val_loss: 0.6492\n",
      "Epoch 26/80\n",
      "21/21 [==============================] - ETA: 0s - det_loss: 0.3450 - cls_loss: 0.2156 - box_loss: 0.0026 - reg_l2_loss: 0.0929 - loss: 0.4379 - learning_rate: 0.0048 - gradient_norm: 3.4298"
     ]
    },
    {
     "name": "stderr",
     "output_type": "stream",
     "text": [
      "2024-04-14 11:57:07.149017: W tensorflow/core/framework/dataset.cc:768] Input of GeneratorDatasetOp::Dataset will not be optimized because the dataset does not implement the AsGraphDefInternal() method needed to apply optimizations.\n"
     ]
    },
    {
     "name": "stdout",
     "output_type": "stream",
     "text": [
      "21/21 [==============================] - 103s 5s/step - det_loss: 0.3425 - cls_loss: 0.2149 - box_loss: 0.0026 - reg_l2_loss: 0.0929 - loss: 0.4353 - learning_rate: 0.0048 - gradient_norm: 3.4018 - val_det_loss: 0.4370 - val_cls_loss: 0.2707 - val_box_loss: 0.0033 - val_reg_l2_loss: 0.0929 - val_loss: 0.5298\n",
      "Epoch 27/80\n",
      "21/21 [==============================] - ETA: 0s - det_loss: 0.3508 - cls_loss: 0.2242 - box_loss: 0.0025 - reg_l2_loss: 0.0929 - loss: 0.4437 - learning_rate: 0.0047 - gradient_norm: 3.8109"
     ]
    },
    {
     "name": "stderr",
     "output_type": "stream",
     "text": [
      "2024-04-14 11:58:50.873735: W tensorflow/core/framework/dataset.cc:768] Input of GeneratorDatasetOp::Dataset will not be optimized because the dataset does not implement the AsGraphDefInternal() method needed to apply optimizations.\n"
     ]
    },
    {
     "name": "stdout",
     "output_type": "stream",
     "text": [
      "21/21 [==============================] - 103s 5s/step - det_loss: 0.3476 - cls_loss: 0.2222 - box_loss: 0.0025 - reg_l2_loss: 0.0929 - loss: 0.4405 - learning_rate: 0.0047 - gradient_norm: 3.7603 - val_det_loss: 0.4978 - val_cls_loss: 0.3202 - val_box_loss: 0.0036 - val_reg_l2_loss: 0.0929 - val_loss: 0.5907\n",
      "Epoch 28/80\n",
      "21/21 [==============================] - ETA: 0s - det_loss: 0.3320 - cls_loss: 0.2036 - box_loss: 0.0026 - reg_l2_loss: 0.0929 - loss: 0.4249 - learning_rate: 0.0046 - gradient_norm: 3.3104"
     ]
    },
    {
     "name": "stderr",
     "output_type": "stream",
     "text": [
      "2024-04-14 12:00:33.059595: W tensorflow/core/framework/dataset.cc:768] Input of GeneratorDatasetOp::Dataset will not be optimized because the dataset does not implement the AsGraphDefInternal() method needed to apply optimizations.\n"
     ]
    },
    {
     "name": "stdout",
     "output_type": "stream",
     "text": [
      "21/21 [==============================] - 102s 5s/step - det_loss: 0.3283 - cls_loss: 0.2013 - box_loss: 0.0025 - reg_l2_loss: 0.0929 - loss: 0.4212 - learning_rate: 0.0046 - gradient_norm: 3.2731 - val_det_loss: 0.4459 - val_cls_loss: 0.2783 - val_box_loss: 0.0034 - val_reg_l2_loss: 0.0929 - val_loss: 0.5388\n",
      "Epoch 29/80\n",
      "21/21 [==============================] - ETA: 0s - det_loss: 0.3159 - cls_loss: 0.1974 - box_loss: 0.0024 - reg_l2_loss: 0.0929 - loss: 0.4088 - learning_rate: 0.0045 - gradient_norm: 3.4559"
     ]
    },
    {
     "name": "stderr",
     "output_type": "stream",
     "text": [
      "2024-04-14 12:02:15.468139: W tensorflow/core/framework/dataset.cc:768] Input of GeneratorDatasetOp::Dataset will not be optimized because the dataset does not implement the AsGraphDefInternal() method needed to apply optimizations.\n"
     ]
    },
    {
     "name": "stdout",
     "output_type": "stream",
     "text": [
      "21/21 [==============================] - 103s 5s/step - det_loss: 0.3141 - cls_loss: 0.1959 - box_loss: 0.0024 - reg_l2_loss: 0.0929 - loss: 0.4070 - learning_rate: 0.0044 - gradient_norm: 3.4111 - val_det_loss: 0.3884 - val_cls_loss: 0.2419 - val_box_loss: 0.0029 - val_reg_l2_loss: 0.0929 - val_loss: 0.4813\n",
      "Epoch 30/80\n",
      "21/21 [==============================] - ETA: 0s - det_loss: 0.3177 - cls_loss: 0.2093 - box_loss: 0.0022 - reg_l2_loss: 0.0929 - loss: 0.4106 - learning_rate: 0.0043 - gradient_norm: 3.5886"
     ]
    },
    {
     "name": "stderr",
     "output_type": "stream",
     "text": [
      "2024-04-14 12:03:59.138460: W tensorflow/core/framework/dataset.cc:768] Input of GeneratorDatasetOp::Dataset will not be optimized because the dataset does not implement the AsGraphDefInternal() method needed to apply optimizations.\n"
     ]
    },
    {
     "name": "stdout",
     "output_type": "stream",
     "text": [
      "21/21 [==============================] - 109s 5s/step - det_loss: 0.3162 - cls_loss: 0.2086 - box_loss: 0.0022 - reg_l2_loss: 0.0929 - loss: 0.4091 - learning_rate: 0.0043 - gradient_norm: 3.5131 - val_det_loss: 0.4306 - val_cls_loss: 0.2686 - val_box_loss: 0.0032 - val_reg_l2_loss: 0.0929 - val_loss: 0.5235\n",
      "Epoch 31/80\n",
      "21/21 [==============================] - ETA: 0s - det_loss: 0.3070 - cls_loss: 0.1988 - box_loss: 0.0022 - reg_l2_loss: 0.0929 - loss: 0.3999 - learning_rate: 0.0042 - gradient_norm: 3.5910"
     ]
    },
    {
     "name": "stderr",
     "output_type": "stream",
     "text": [
      "2024-04-14 12:05:46.938388: W tensorflow/core/framework/dataset.cc:768] Input of GeneratorDatasetOp::Dataset will not be optimized because the dataset does not implement the AsGraphDefInternal() method needed to apply optimizations.\n"
     ]
    },
    {
     "name": "stdout",
     "output_type": "stream",
     "text": [
      "21/21 [==============================] - 102s 5s/step - det_loss: 0.3065 - cls_loss: 0.1979 - box_loss: 0.0022 - reg_l2_loss: 0.0929 - loss: 0.3995 - learning_rate: 0.0042 - gradient_norm: 3.5522 - val_det_loss: 0.4445 - val_cls_loss: 0.2696 - val_box_loss: 0.0035 - val_reg_l2_loss: 0.0929 - val_loss: 0.5374\n",
      "Epoch 32/80\n",
      "21/21 [==============================] - ETA: 0s - det_loss: 0.2966 - cls_loss: 0.1916 - box_loss: 0.0021 - reg_l2_loss: 0.0929 - loss: 0.3895 - learning_rate: 0.0041 - gradient_norm: 3.1458"
     ]
    },
    {
     "name": "stderr",
     "output_type": "stream",
     "text": [
      "2024-04-14 12:07:28.577388: W tensorflow/core/framework/dataset.cc:768] Input of GeneratorDatasetOp::Dataset will not be optimized because the dataset does not implement the AsGraphDefInternal() method needed to apply optimizations.\n"
     ]
    },
    {
     "name": "stdout",
     "output_type": "stream",
     "text": [
      "21/21 [==============================] - 102s 5s/step - det_loss: 0.2978 - cls_loss: 0.1923 - box_loss: 0.0021 - reg_l2_loss: 0.0929 - loss: 0.3907 - learning_rate: 0.0041 - gradient_norm: 3.0983 - val_det_loss: 0.3988 - val_cls_loss: 0.2481 - val_box_loss: 0.0030 - val_reg_l2_loss: 0.0929 - val_loss: 0.4917\n",
      "Epoch 33/80\n",
      "21/21 [==============================] - ETA: 0s - det_loss: 0.3465 - cls_loss: 0.2192 - box_loss: 0.0025 - reg_l2_loss: 0.0929 - loss: 0.4394 - learning_rate: 0.0040 - gradient_norm: 4.4590"
     ]
    },
    {
     "name": "stderr",
     "output_type": "stream",
     "text": [
      "2024-04-14 12:09:11.130793: W tensorflow/core/framework/dataset.cc:768] Input of GeneratorDatasetOp::Dataset will not be optimized because the dataset does not implement the AsGraphDefInternal() method needed to apply optimizations.\n"
     ]
    },
    {
     "name": "stdout",
     "output_type": "stream",
     "text": [
      "21/21 [==============================] - 102s 5s/step - det_loss: 0.3457 - cls_loss: 0.2194 - box_loss: 0.0025 - reg_l2_loss: 0.0929 - loss: 0.4387 - learning_rate: 0.0040 - gradient_norm: 4.4252 - val_det_loss: 0.3367 - val_cls_loss: 0.2034 - val_box_loss: 0.0027 - val_reg_l2_loss: 0.0929 - val_loss: 0.4296\n",
      "Epoch 34/80\n",
      "21/21 [==============================] - ETA: 0s - det_loss: 0.2863 - cls_loss: 0.1877 - box_loss: 0.0020 - reg_l2_loss: 0.0929 - loss: 0.3792 - learning_rate: 0.0039 - gradient_norm: 3.5633"
     ]
    },
    {
     "name": "stderr",
     "output_type": "stream",
     "text": [
      "2024-04-14 12:10:53.337518: W tensorflow/core/framework/dataset.cc:768] Input of GeneratorDatasetOp::Dataset will not be optimized because the dataset does not implement the AsGraphDefInternal() method needed to apply optimizations.\n"
     ]
    },
    {
     "name": "stdout",
     "output_type": "stream",
     "text": [
      "21/21 [==============================] - 103s 5s/step - det_loss: 0.2845 - cls_loss: 0.1863 - box_loss: 0.0020 - reg_l2_loss: 0.0929 - loss: 0.3774 - learning_rate: 0.0039 - gradient_norm: 3.4796 - val_det_loss: 0.3432 - val_cls_loss: 0.2050 - val_box_loss: 0.0028 - val_reg_l2_loss: 0.0929 - val_loss: 0.4361\n",
      "Epoch 35/80\n",
      "21/21 [==============================] - ETA: 0s - det_loss: 0.3101 - cls_loss: 0.2001 - box_loss: 0.0022 - reg_l2_loss: 0.0929 - loss: 0.4031 - learning_rate: 0.0037 - gradient_norm: 3.8162"
     ]
    },
    {
     "name": "stderr",
     "output_type": "stream",
     "text": [
      "2024-04-14 12:12:35.801303: W tensorflow/core/framework/dataset.cc:768] Input of GeneratorDatasetOp::Dataset will not be optimized because the dataset does not implement the AsGraphDefInternal() method needed to apply optimizations.\n"
     ]
    },
    {
     "name": "stdout",
     "output_type": "stream",
     "text": [
      "21/21 [==============================] - 108s 5s/step - det_loss: 0.3069 - cls_loss: 0.1986 - box_loss: 0.0022 - reg_l2_loss: 0.0929 - loss: 0.3999 - learning_rate: 0.0037 - gradient_norm: 3.7839 - val_det_loss: 0.3627 - val_cls_loss: 0.2173 - val_box_loss: 0.0029 - val_reg_l2_loss: 0.0929 - val_loss: 0.4557\n",
      "Epoch 36/80\n",
      "21/21 [==============================] - ETA: 0s - det_loss: 0.2998 - cls_loss: 0.1889 - box_loss: 0.0022 - reg_l2_loss: 0.0929 - loss: 0.3928 - learning_rate: 0.0036 - gradient_norm: 3.3598"
     ]
    },
    {
     "name": "stderr",
     "output_type": "stream",
     "text": [
      "2024-04-14 12:14:23.742484: W tensorflow/core/framework/dataset.cc:768] Input of GeneratorDatasetOp::Dataset will not be optimized because the dataset does not implement the AsGraphDefInternal() method needed to apply optimizations.\n"
     ]
    },
    {
     "name": "stdout",
     "output_type": "stream",
     "text": [
      "21/21 [==============================] - 103s 5s/step - det_loss: 0.3018 - cls_loss: 0.1909 - box_loss: 0.0022 - reg_l2_loss: 0.0930 - loss: 0.3948 - learning_rate: 0.0036 - gradient_norm: 3.4117 - val_det_loss: 0.3390 - val_cls_loss: 0.1955 - val_box_loss: 0.0029 - val_reg_l2_loss: 0.0930 - val_loss: 0.4319\n",
      "Epoch 37/80\n",
      "21/21 [==============================] - ETA: 0s - det_loss: 0.2778 - cls_loss: 0.1788 - box_loss: 0.0020 - reg_l2_loss: 0.0930 - loss: 0.3708 - learning_rate: 0.0035 - gradient_norm: 3.3244"
     ]
    },
    {
     "name": "stderr",
     "output_type": "stream",
     "text": [
      "2024-04-14 12:16:07.238582: W tensorflow/core/framework/dataset.cc:768] Input of GeneratorDatasetOp::Dataset will not be optimized because the dataset does not implement the AsGraphDefInternal() method needed to apply optimizations.\n"
     ]
    },
    {
     "name": "stdout",
     "output_type": "stream",
     "text": [
      "21/21 [==============================] - 108s 5s/step - det_loss: 0.2759 - cls_loss: 0.1775 - box_loss: 0.0020 - reg_l2_loss: 0.0930 - loss: 0.3689 - learning_rate: 0.0035 - gradient_norm: 3.2554 - val_det_loss: 0.3995 - val_cls_loss: 0.2334 - val_box_loss: 0.0033 - val_reg_l2_loss: 0.0930 - val_loss: 0.4924\n",
      "Epoch 38/80\n",
      "21/21 [==============================] - ETA: 0s - det_loss: 0.2740 - cls_loss: 0.1759 - box_loss: 0.0020 - reg_l2_loss: 0.0930 - loss: 0.3669 - learning_rate: 0.0034 - gradient_norm: 3.1795"
     ]
    },
    {
     "name": "stderr",
     "output_type": "stream",
     "text": [
      "2024-04-14 12:17:54.492543: W tensorflow/core/framework/dataset.cc:768] Input of GeneratorDatasetOp::Dataset will not be optimized because the dataset does not implement the AsGraphDefInternal() method needed to apply optimizations.\n"
     ]
    },
    {
     "name": "stdout",
     "output_type": "stream",
     "text": [
      "21/21 [==============================] - 102s 5s/step - det_loss: 0.2751 - cls_loss: 0.1751 - box_loss: 0.0020 - reg_l2_loss: 0.0930 - loss: 0.3680 - learning_rate: 0.0034 - gradient_norm: 3.1292 - val_det_loss: 0.3473 - val_cls_loss: 0.2208 - val_box_loss: 0.0025 - val_reg_l2_loss: 0.0930 - val_loss: 0.4402\n",
      "Epoch 39/80\n",
      "21/21 [==============================] - ETA: 0s - det_loss: 0.2612 - cls_loss: 0.1720 - box_loss: 0.0018 - reg_l2_loss: 0.0930 - loss: 0.3542 - learning_rate: 0.0033 - gradient_norm: 2.9884"
     ]
    },
    {
     "name": "stderr",
     "output_type": "stream",
     "text": [
      "2024-04-14 12:19:37.086393: W tensorflow/core/framework/dataset.cc:768] Input of GeneratorDatasetOp::Dataset will not be optimized because the dataset does not implement the AsGraphDefInternal() method needed to apply optimizations.\n"
     ]
    },
    {
     "name": "stdout",
     "output_type": "stream",
     "text": [
      "21/21 [==============================] - 103s 5s/step - det_loss: 0.2611 - cls_loss: 0.1710 - box_loss: 0.0018 - reg_l2_loss: 0.0930 - loss: 0.3541 - learning_rate: 0.0032 - gradient_norm: 2.9748 - val_det_loss: 0.3793 - val_cls_loss: 0.2225 - val_box_loss: 0.0031 - val_reg_l2_loss: 0.0930 - val_loss: 0.4723\n",
      "Epoch 40/80\n",
      "21/21 [==============================] - ETA: 0s - det_loss: 0.2646 - cls_loss: 0.1707 - box_loss: 0.0019 - reg_l2_loss: 0.0930 - loss: 0.3575 - learning_rate: 0.0031 - gradient_norm: 3.0520"
     ]
    },
    {
     "name": "stderr",
     "output_type": "stream",
     "text": [
      "2024-04-14 12:21:19.930728: W tensorflow/core/framework/dataset.cc:768] Input of GeneratorDatasetOp::Dataset will not be optimized because the dataset does not implement the AsGraphDefInternal() method needed to apply optimizations.\n"
     ]
    },
    {
     "name": "stdout",
     "output_type": "stream",
     "text": [
      "21/21 [==============================] - 108s 5s/step - det_loss: 0.2639 - cls_loss: 0.1710 - box_loss: 0.0019 - reg_l2_loss: 0.0930 - loss: 0.3569 - learning_rate: 0.0031 - gradient_norm: 2.9972 - val_det_loss: 0.3454 - val_cls_loss: 0.2186 - val_box_loss: 0.0025 - val_reg_l2_loss: 0.0930 - val_loss: 0.4384\n",
      "Epoch 41/80\n",
      "21/21 [==============================] - ETA: 0s - det_loss: 0.2766 - cls_loss: 0.1863 - box_loss: 0.0018 - reg_l2_loss: 0.0930 - loss: 0.3696 - learning_rate: 0.0030 - gradient_norm: 3.2463"
     ]
    },
    {
     "name": "stderr",
     "output_type": "stream",
     "text": [
      "2024-04-14 12:23:08.439447: W tensorflow/core/framework/dataset.cc:768] Input of GeneratorDatasetOp::Dataset will not be optimized because the dataset does not implement the AsGraphDefInternal() method needed to apply optimizations.\n"
     ]
    },
    {
     "name": "stdout",
     "output_type": "stream",
     "text": [
      "21/21 [==============================] - 103s 5s/step - det_loss: 0.2831 - cls_loss: 0.1908 - box_loss: 0.0018 - reg_l2_loss: 0.0930 - loss: 0.3760 - learning_rate: 0.0030 - gradient_norm: 3.4432 - val_det_loss: 0.2839 - val_cls_loss: 0.1832 - val_box_loss: 0.0020 - val_reg_l2_loss: 0.0930 - val_loss: 0.3768\n",
      "Epoch 42/80\n",
      "21/21 [==============================] - ETA: 0s - det_loss: 0.2803 - cls_loss: 0.1810 - box_loss: 0.0020 - reg_l2_loss: 0.0930 - loss: 0.3732 - learning_rate: 0.0029 - gradient_norm: 3.5289"
     ]
    },
    {
     "name": "stderr",
     "output_type": "stream",
     "text": [
      "2024-04-14 12:24:50.398991: W tensorflow/core/framework/dataset.cc:768] Input of GeneratorDatasetOp::Dataset will not be optimized because the dataset does not implement the AsGraphDefInternal() method needed to apply optimizations.\n"
     ]
    },
    {
     "name": "stdout",
     "output_type": "stream",
     "text": [
      "21/21 [==============================] - 103s 5s/step - det_loss: 0.2801 - cls_loss: 0.1804 - box_loss: 0.0020 - reg_l2_loss: 0.0930 - loss: 0.3731 - learning_rate: 0.0029 - gradient_norm: 3.4813 - val_det_loss: 0.2816 - val_cls_loss: 0.1870 - val_box_loss: 0.0019 - val_reg_l2_loss: 0.0930 - val_loss: 0.3746\n",
      "Epoch 43/80\n",
      "21/21 [==============================] - ETA: 0s - det_loss: 0.2504 - cls_loss: 0.1711 - box_loss: 0.0016 - reg_l2_loss: 0.0930 - loss: 0.3434 - learning_rate: 0.0028 - gradient_norm: 2.6798"
     ]
    },
    {
     "name": "stderr",
     "output_type": "stream",
     "text": [
      "2024-04-14 12:26:33.612756: W tensorflow/core/framework/dataset.cc:768] Input of GeneratorDatasetOp::Dataset will not be optimized because the dataset does not implement the AsGraphDefInternal() method needed to apply optimizations.\n"
     ]
    },
    {
     "name": "stdout",
     "output_type": "stream",
     "text": [
      "21/21 [==============================] - 102s 5s/step - det_loss: 0.2475 - cls_loss: 0.1695 - box_loss: 0.0016 - reg_l2_loss: 0.0930 - loss: 0.3404 - learning_rate: 0.0028 - gradient_norm: 2.6355 - val_det_loss: 0.3093 - val_cls_loss: 0.1934 - val_box_loss: 0.0023 - val_reg_l2_loss: 0.0930 - val_loss: 0.4023\n",
      "Epoch 44/80\n",
      "21/21 [==============================] - ETA: 0s - det_loss: 0.2444 - cls_loss: 0.1619 - box_loss: 0.0016 - reg_l2_loss: 0.0930 - loss: 0.3373 - learning_rate: 0.0026 - gradient_norm: 2.7110"
     ]
    },
    {
     "name": "stderr",
     "output_type": "stream",
     "text": [
      "2024-04-14 12:28:15.172261: W tensorflow/core/framework/dataset.cc:768] Input of GeneratorDatasetOp::Dataset will not be optimized because the dataset does not implement the AsGraphDefInternal() method needed to apply optimizations.\n"
     ]
    },
    {
     "name": "stdout",
     "output_type": "stream",
     "text": [
      "21/21 [==============================] - 102s 5s/step - det_loss: 0.2429 - cls_loss: 0.1616 - box_loss: 0.0016 - reg_l2_loss: 0.0930 - loss: 0.3359 - learning_rate: 0.0026 - gradient_norm: 2.6711 - val_det_loss: 0.3125 - val_cls_loss: 0.1942 - val_box_loss: 0.0024 - val_reg_l2_loss: 0.0930 - val_loss: 0.4054\n",
      "Epoch 45/80\n",
      "21/21 [==============================] - ETA: 0s - det_loss: 0.2580 - cls_loss: 0.1693 - box_loss: 0.0018 - reg_l2_loss: 0.0930 - loss: 0.3509 - learning_rate: 0.0025 - gradient_norm: 3.5240"
     ]
    },
    {
     "name": "stderr",
     "output_type": "stream",
     "text": [
      "2024-04-14 12:29:57.669588: W tensorflow/core/framework/dataset.cc:768] Input of GeneratorDatasetOp::Dataset will not be optimized because the dataset does not implement the AsGraphDefInternal() method needed to apply optimizations.\n"
     ]
    },
    {
     "name": "stdout",
     "output_type": "stream",
     "text": [
      "21/21 [==============================] - 109s 5s/step - det_loss: 0.2551 - cls_loss: 0.1676 - box_loss: 0.0017 - reg_l2_loss: 0.0930 - loss: 0.3481 - learning_rate: 0.0025 - gradient_norm: 3.4335 - val_det_loss: 0.2653 - val_cls_loss: 0.1843 - val_box_loss: 0.0016 - val_reg_l2_loss: 0.0930 - val_loss: 0.3583\n",
      "Epoch 46/80\n",
      "21/21 [==============================] - ETA: 0s - det_loss: 0.2610 - cls_loss: 0.1707 - box_loss: 0.0018 - reg_l2_loss: 0.0930 - loss: 0.3540 - learning_rate: 0.0024 - gradient_norm: 2.9951"
     ]
    },
    {
     "name": "stderr",
     "output_type": "stream",
     "text": [
      "2024-04-14 12:31:45.745618: W tensorflow/core/framework/dataset.cc:768] Input of GeneratorDatasetOp::Dataset will not be optimized because the dataset does not implement the AsGraphDefInternal() method needed to apply optimizations.\n"
     ]
    },
    {
     "name": "stdout",
     "output_type": "stream",
     "text": [
      "21/21 [==============================] - 102s 5s/step - det_loss: 0.2619 - cls_loss: 0.1711 - box_loss: 0.0018 - reg_l2_loss: 0.0930 - loss: 0.3549 - learning_rate: 0.0024 - gradient_norm: 3.1833 - val_det_loss: 0.2865 - val_cls_loss: 0.1829 - val_box_loss: 0.0021 - val_reg_l2_loss: 0.0930 - val_loss: 0.3795\n",
      "Epoch 47/80\n",
      "21/21 [==============================] - ETA: 0s - det_loss: 0.2496 - cls_loss: 0.1682 - box_loss: 0.0016 - reg_l2_loss: 0.0930 - loss: 0.3426 - learning_rate: 0.0023 - gradient_norm: 3.0604"
     ]
    },
    {
     "name": "stderr",
     "output_type": "stream",
     "text": [
      "2024-04-14 12:33:28.190106: W tensorflow/core/framework/dataset.cc:768] Input of GeneratorDatasetOp::Dataset will not be optimized because the dataset does not implement the AsGraphDefInternal() method needed to apply optimizations.\n"
     ]
    },
    {
     "name": "stdout",
     "output_type": "stream",
     "text": [
      "21/21 [==============================] - 102s 5s/step - det_loss: 0.2488 - cls_loss: 0.1670 - box_loss: 0.0016 - reg_l2_loss: 0.0930 - loss: 0.3417 - learning_rate: 0.0023 - gradient_norm: 3.0439 - val_det_loss: 0.2766 - val_cls_loss: 0.1849 - val_box_loss: 0.0018 - val_reg_l2_loss: 0.0930 - val_loss: 0.3696\n",
      "Epoch 48/80\n",
      "21/21 [==============================] - ETA: 0s - det_loss: 0.2763 - cls_loss: 0.1833 - box_loss: 0.0019 - reg_l2_loss: 0.0930 - loss: 0.3692 - learning_rate: 0.0022 - gradient_norm: 3.3305"
     ]
    },
    {
     "name": "stderr",
     "output_type": "stream",
     "text": [
      "2024-04-14 12:35:10.510634: W tensorflow/core/framework/dataset.cc:768] Input of GeneratorDatasetOp::Dataset will not be optimized because the dataset does not implement the AsGraphDefInternal() method needed to apply optimizations.\n"
     ]
    },
    {
     "name": "stdout",
     "output_type": "stream",
     "text": [
      "21/21 [==============================] - 103s 5s/step - det_loss: 0.2924 - cls_loss: 0.1948 - box_loss: 0.0020 - reg_l2_loss: 0.0930 - loss: 0.3854 - learning_rate: 0.0021 - gradient_norm: 3.6337 - val_det_loss: 0.2644 - val_cls_loss: 0.1783 - val_box_loss: 0.0017 - val_reg_l2_loss: 0.0930 - val_loss: 0.3573\n",
      "Epoch 49/80\n",
      "21/21 [==============================] - ETA: 0s - det_loss: 0.2594 - cls_loss: 0.1677 - box_loss: 0.0018 - reg_l2_loss: 0.0930 - loss: 0.3523 - learning_rate: 0.0020 - gradient_norm: 3.4031"
     ]
    },
    {
     "name": "stderr",
     "output_type": "stream",
     "text": [
      "2024-04-14 12:36:53.442449: W tensorflow/core/framework/dataset.cc:768] Input of GeneratorDatasetOp::Dataset will not be optimized because the dataset does not implement the AsGraphDefInternal() method needed to apply optimizations.\n"
     ]
    },
    {
     "name": "stdout",
     "output_type": "stream",
     "text": [
      "21/21 [==============================] - 103s 5s/step - det_loss: 0.2648 - cls_loss: 0.1702 - box_loss: 0.0019 - reg_l2_loss: 0.0930 - loss: 0.3577 - learning_rate: 0.0020 - gradient_norm: 3.6752 - val_det_loss: 0.2887 - val_cls_loss: 0.1953 - val_box_loss: 0.0019 - val_reg_l2_loss: 0.0930 - val_loss: 0.3817\n",
      "Epoch 50/80\n",
      "21/21 [==============================] - ETA: 0s - det_loss: 0.2505 - cls_loss: 0.1652 - box_loss: 0.0017 - reg_l2_loss: 0.0930 - loss: 0.3435 - learning_rate: 0.0019 - gradient_norm: 3.1109"
     ]
    },
    {
     "name": "stderr",
     "output_type": "stream",
     "text": [
      "2024-04-14 12:38:36.355207: W tensorflow/core/framework/dataset.cc:768] Input of GeneratorDatasetOp::Dataset will not be optimized because the dataset does not implement the AsGraphDefInternal() method needed to apply optimizations.\n"
     ]
    },
    {
     "name": "stdout",
     "output_type": "stream",
     "text": [
      "21/21 [==============================] - 108s 5s/step - det_loss: 0.2517 - cls_loss: 0.1647 - box_loss: 0.0017 - reg_l2_loss: 0.0930 - loss: 0.3447 - learning_rate: 0.0019 - gradient_norm: 3.0908 - val_det_loss: 0.2944 - val_cls_loss: 0.1881 - val_box_loss: 0.0021 - val_reg_l2_loss: 0.0930 - val_loss: 0.3873\n",
      "Epoch 51/80\n",
      "21/21 [==============================] - ETA: 0s - det_loss: 0.2695 - cls_loss: 0.1783 - box_loss: 0.0018 - reg_l2_loss: 0.0930 - loss: 0.3625 - learning_rate: 0.0018 - gradient_norm: 3.6689"
     ]
    },
    {
     "name": "stderr",
     "output_type": "stream",
     "text": [
      "2024-04-14 12:40:25.515617: W tensorflow/core/framework/dataset.cc:768] Input of GeneratorDatasetOp::Dataset will not be optimized because the dataset does not implement the AsGraphDefInternal() method needed to apply optimizations.\n"
     ]
    },
    {
     "name": "stdout",
     "output_type": "stream",
     "text": [
      "21/21 [==============================] - 103s 5s/step - det_loss: 0.2724 - cls_loss: 0.1816 - box_loss: 0.0018 - reg_l2_loss: 0.0930 - loss: 0.3654 - learning_rate: 0.0018 - gradient_norm: 3.9240 - val_det_loss: 0.2772 - val_cls_loss: 0.1776 - val_box_loss: 0.0020 - val_reg_l2_loss: 0.0930 - val_loss: 0.3702\n",
      "Epoch 52/80\n",
      "21/21 [==============================] - ETA: 0s - det_loss: 0.2493 - cls_loss: 0.1684 - box_loss: 0.0016 - reg_l2_loss: 0.0930 - loss: 0.3423 - learning_rate: 0.0017 - gradient_norm: 2.8988"
     ]
    },
    {
     "name": "stderr",
     "output_type": "stream",
     "text": [
      "2024-04-14 12:42:09.247434: W tensorflow/core/framework/dataset.cc:768] Input of GeneratorDatasetOp::Dataset will not be optimized because the dataset does not implement the AsGraphDefInternal() method needed to apply optimizations.\n"
     ]
    },
    {
     "name": "stdout",
     "output_type": "stream",
     "text": [
      "21/21 [==============================] - 104s 5s/step - det_loss: 0.2510 - cls_loss: 0.1698 - box_loss: 0.0016 - reg_l2_loss: 0.0930 - loss: 0.3440 - learning_rate: 0.0017 - gradient_norm: 2.8623 - val_det_loss: 0.2860 - val_cls_loss: 0.1850 - val_box_loss: 0.0020 - val_reg_l2_loss: 0.0930 - val_loss: 0.3789\n",
      "Epoch 53/80\n",
      "21/21 [==============================] - ETA: 0s - det_loss: 0.2481 - cls_loss: 0.1679 - box_loss: 0.0016 - reg_l2_loss: 0.0930 - loss: 0.3411 - learning_rate: 0.0016 - gradient_norm: 2.6810"
     ]
    },
    {
     "name": "stderr",
     "output_type": "stream",
     "text": [
      "2024-04-14 12:43:51.632294: W tensorflow/core/framework/dataset.cc:768] Input of GeneratorDatasetOp::Dataset will not be optimized because the dataset does not implement the AsGraphDefInternal() method needed to apply optimizations.\n"
     ]
    },
    {
     "name": "stdout",
     "output_type": "stream",
     "text": [
      "21/21 [==============================] - 103s 5s/step - det_loss: 0.2480 - cls_loss: 0.1676 - box_loss: 0.0016 - reg_l2_loss: 0.0930 - loss: 0.3409 - learning_rate: 0.0016 - gradient_norm: 2.6563 - val_det_loss: 0.3017 - val_cls_loss: 0.1887 - val_box_loss: 0.0023 - val_reg_l2_loss: 0.0930 - val_loss: 0.3947\n",
      "Epoch 54/80\n",
      "21/21 [==============================] - ETA: 0s - det_loss: 0.2375 - cls_loss: 0.1550 - box_loss: 0.0016 - reg_l2_loss: 0.0930 - loss: 0.3304 - learning_rate: 0.0015 - gradient_norm: 2.8325"
     ]
    },
    {
     "name": "stderr",
     "output_type": "stream",
     "text": [
      "2024-04-14 12:45:35.615665: W tensorflow/core/framework/dataset.cc:768] Input of GeneratorDatasetOp::Dataset will not be optimized because the dataset does not implement the AsGraphDefInternal() method needed to apply optimizations.\n"
     ]
    },
    {
     "name": "stdout",
     "output_type": "stream",
     "text": [
      "21/21 [==============================] - 103s 5s/step - det_loss: 0.2381 - cls_loss: 0.1549 - box_loss: 0.0017 - reg_l2_loss: 0.0930 - loss: 0.3310 - learning_rate: 0.0015 - gradient_norm: 2.8734 - val_det_loss: 0.3067 - val_cls_loss: 0.1947 - val_box_loss: 0.0022 - val_reg_l2_loss: 0.0930 - val_loss: 0.3997\n",
      "Epoch 55/80\n",
      "21/21 [==============================] - ETA: 0s - det_loss: 0.2456 - cls_loss: 0.1615 - box_loss: 0.0017 - reg_l2_loss: 0.0930 - loss: 0.3386 - learning_rate: 0.0014 - gradient_norm: 2.8412"
     ]
    },
    {
     "name": "stderr",
     "output_type": "stream",
     "text": [
      "2024-04-14 12:47:18.156371: W tensorflow/core/framework/dataset.cc:768] Input of GeneratorDatasetOp::Dataset will not be optimized because the dataset does not implement the AsGraphDefInternal() method needed to apply optimizations.\n"
     ]
    },
    {
     "name": "stdout",
     "output_type": "stream",
     "text": [
      "21/21 [==============================] - 109s 5s/step - det_loss: 0.2427 - cls_loss: 0.1600 - box_loss: 0.0017 - reg_l2_loss: 0.0930 - loss: 0.3356 - learning_rate: 0.0014 - gradient_norm: 2.7829 - val_det_loss: 0.3529 - val_cls_loss: 0.2223 - val_box_loss: 0.0026 - val_reg_l2_loss: 0.0930 - val_loss: 0.4458\n",
      "Epoch 56/80\n",
      "21/21 [==============================] - ETA: 0s - det_loss: 0.2286 - cls_loss: 0.1530 - box_loss: 0.0015 - reg_l2_loss: 0.0930 - loss: 0.3216 - learning_rate: 0.0013 - gradient_norm: 2.5198"
     ]
    },
    {
     "name": "stderr",
     "output_type": "stream",
     "text": [
      "2024-04-14 12:49:07.044253: W tensorflow/core/framework/dataset.cc:768] Input of GeneratorDatasetOp::Dataset will not be optimized because the dataset does not implement the AsGraphDefInternal() method needed to apply optimizations.\n"
     ]
    },
    {
     "name": "stdout",
     "output_type": "stream",
     "text": [
      "21/21 [==============================] - 104s 5s/step - det_loss: 0.2257 - cls_loss: 0.1513 - box_loss: 0.0015 - reg_l2_loss: 0.0930 - loss: 0.3186 - learning_rate: 0.0013 - gradient_norm: 2.4907 - val_det_loss: 0.2765 - val_cls_loss: 0.1813 - val_box_loss: 0.0019 - val_reg_l2_loss: 0.0930 - val_loss: 0.3695\n",
      "Epoch 57/80\n",
      "21/21 [==============================] - ETA: 0s - det_loss: 0.2138 - cls_loss: 0.1473 - box_loss: 0.0013 - reg_l2_loss: 0.0930 - loss: 0.3068 - learning_rate: 0.0012 - gradient_norm: 2.2753"
     ]
    },
    {
     "name": "stderr",
     "output_type": "stream",
     "text": [
      "2024-04-14 12:50:51.301304: W tensorflow/core/framework/dataset.cc:768] Input of GeneratorDatasetOp::Dataset will not be optimized because the dataset does not implement the AsGraphDefInternal() method needed to apply optimizations.\n"
     ]
    },
    {
     "name": "stdout",
     "output_type": "stream",
     "text": [
      "21/21 [==============================] - 103s 5s/step - det_loss: 0.2119 - cls_loss: 0.1462 - box_loss: 0.0013 - reg_l2_loss: 0.0930 - loss: 0.3048 - learning_rate: 0.0012 - gradient_norm: 2.2716 - val_det_loss: 0.2986 - val_cls_loss: 0.1798 - val_box_loss: 0.0024 - val_reg_l2_loss: 0.0930 - val_loss: 0.3916\n",
      "Epoch 58/80\n",
      "21/21 [==============================] - ETA: 0s - det_loss: 0.2330 - cls_loss: 0.1590 - box_loss: 0.0015 - reg_l2_loss: 0.0930 - loss: 0.3260 - learning_rate: 0.0011 - gradient_norm: 2.6801"
     ]
    },
    {
     "name": "stderr",
     "output_type": "stream",
     "text": [
      "2024-04-14 12:52:33.511127: W tensorflow/core/framework/dataset.cc:768] Input of GeneratorDatasetOp::Dataset will not be optimized because the dataset does not implement the AsGraphDefInternal() method needed to apply optimizations.\n"
     ]
    },
    {
     "name": "stdout",
     "output_type": "stream",
     "text": [
      "21/21 [==============================] - 103s 5s/step - det_loss: 0.2321 - cls_loss: 0.1585 - box_loss: 0.0015 - reg_l2_loss: 0.0930 - loss: 0.3251 - learning_rate: 0.0011 - gradient_norm: 2.6636 - val_det_loss: 0.2924 - val_cls_loss: 0.1795 - val_box_loss: 0.0023 - val_reg_l2_loss: 0.0930 - val_loss: 0.3853\n",
      "Epoch 59/80\n",
      "21/21 [==============================] - ETA: 0s - det_loss: 0.2376 - cls_loss: 0.1618 - box_loss: 0.0015 - reg_l2_loss: 0.0930 - loss: 0.3306 - learning_rate: 9.8446e-04 - gradient_norm: 3.1612"
     ]
    },
    {
     "name": "stderr",
     "output_type": "stream",
     "text": [
      "2024-04-14 12:54:16.253466: W tensorflow/core/framework/dataset.cc:768] Input of GeneratorDatasetOp::Dataset will not be optimized because the dataset does not implement the AsGraphDefInternal() method needed to apply optimizations.\n"
     ]
    },
    {
     "name": "stdout",
     "output_type": "stream",
     "text": [
      "21/21 [==============================] - 103s 5s/step - det_loss: 0.2356 - cls_loss: 0.1609 - box_loss: 0.0015 - reg_l2_loss: 0.0930 - loss: 0.3286 - learning_rate: 9.8252e-04 - gradient_norm: 3.0877 - val_det_loss: 0.2874 - val_cls_loss: 0.1834 - val_box_loss: 0.0021 - val_reg_l2_loss: 0.0930 - val_loss: 0.3804\n",
      "Epoch 60/80\n",
      "21/21 [==============================] - ETA: 0s - det_loss: 0.2223 - cls_loss: 0.1527 - box_loss: 0.0014 - reg_l2_loss: 0.0930 - loss: 0.3153 - learning_rate: 8.9565e-04 - gradient_norm: 2.9871"
     ]
    },
    {
     "name": "stderr",
     "output_type": "stream",
     "text": [
      "2024-04-14 12:55:58.636322: W tensorflow/core/framework/dataset.cc:768] Input of GeneratorDatasetOp::Dataset will not be optimized because the dataset does not implement the AsGraphDefInternal() method needed to apply optimizations.\n"
     ]
    },
    {
     "name": "stdout",
     "output_type": "stream",
     "text": [
      "21/21 [==============================] - 109s 5s/step - det_loss: 0.2227 - cls_loss: 0.1532 - box_loss: 0.0014 - reg_l2_loss: 0.0930 - loss: 0.3156 - learning_rate: 8.9378e-04 - gradient_norm: 2.9568 - val_det_loss: 0.3018 - val_cls_loss: 0.1867 - val_box_loss: 0.0023 - val_reg_l2_loss: 0.0930 - val_loss: 0.3947\n",
      "Epoch 61/80\n",
      "21/21 [==============================] - ETA: 0s - det_loss: 0.2165 - cls_loss: 0.1462 - box_loss: 0.0014 - reg_l2_loss: 0.0930 - loss: 0.3095 - learning_rate: 8.1036e-04 - gradient_norm: 2.8118"
     ]
    },
    {
     "name": "stderr",
     "output_type": "stream",
     "text": [
      "2024-04-14 12:57:47.459980: W tensorflow/core/framework/dataset.cc:768] Input of GeneratorDatasetOp::Dataset will not be optimized because the dataset does not implement the AsGraphDefInternal() method needed to apply optimizations.\n"
     ]
    },
    {
     "name": "stdout",
     "output_type": "stream",
     "text": [
      "21/21 [==============================] - 103s 5s/step - det_loss: 0.2163 - cls_loss: 0.1458 - box_loss: 0.0014 - reg_l2_loss: 0.0930 - loss: 0.3093 - learning_rate: 8.0857e-04 - gradient_norm: 2.9870 - val_det_loss: 0.3108 - val_cls_loss: 0.1867 - val_box_loss: 0.0025 - val_reg_l2_loss: 0.0930 - val_loss: 0.4038\n",
      "Epoch 62/80\n",
      "21/21 [==============================] - ETA: 0s - det_loss: 0.2213 - cls_loss: 0.1525 - box_loss: 0.0014 - reg_l2_loss: 0.0930 - loss: 0.3143 - learning_rate: 7.2873e-04 - gradient_norm: 3.0416"
     ]
    },
    {
     "name": "stderr",
     "output_type": "stream",
     "text": [
      "2024-04-14 12:59:30.665370: W tensorflow/core/framework/dataset.cc:768] Input of GeneratorDatasetOp::Dataset will not be optimized because the dataset does not implement the AsGraphDefInternal() method needed to apply optimizations.\n"
     ]
    },
    {
     "name": "stdout",
     "output_type": "stream",
     "text": [
      "21/21 [==============================] - 103s 5s/step - det_loss: 0.2220 - cls_loss: 0.1535 - box_loss: 0.0014 - reg_l2_loss: 0.0930 - loss: 0.3150 - learning_rate: 7.2702e-04 - gradient_norm: 3.0977 - val_det_loss: 0.2862 - val_cls_loss: 0.1756 - val_box_loss: 0.0022 - val_reg_l2_loss: 0.0930 - val_loss: 0.3792\n",
      "Epoch 63/80\n",
      "21/21 [==============================] - ETA: 0s - det_loss: 0.2293 - cls_loss: 0.1577 - box_loss: 0.0014 - reg_l2_loss: 0.0930 - loss: 0.3223 - learning_rate: 6.5090e-04 - gradient_norm: 3.0216"
     ]
    },
    {
     "name": "stderr",
     "output_type": "stream",
     "text": [
      "2024-04-14 13:01:14.253829: W tensorflow/core/framework/dataset.cc:768] Input of GeneratorDatasetOp::Dataset will not be optimized because the dataset does not implement the AsGraphDefInternal() method needed to apply optimizations.\n"
     ]
    },
    {
     "name": "stdout",
     "output_type": "stream",
     "text": [
      "21/21 [==============================] - 104s 5s/step - det_loss: 0.2327 - cls_loss: 0.1609 - box_loss: 0.0014 - reg_l2_loss: 0.0930 - loss: 0.3256 - learning_rate: 6.4927e-04 - gradient_norm: 3.1824 - val_det_loss: 0.3042 - val_cls_loss: 0.1874 - val_box_loss: 0.0023 - val_reg_l2_loss: 0.0930 - val_loss: 0.3972\n",
      "Epoch 64/80\n",
      "21/21 [==============================] - ETA: 0s - det_loss: 0.2263 - cls_loss: 0.1522 - box_loss: 0.0015 - reg_l2_loss: 0.0930 - loss: 0.3192 - learning_rate: 5.7697e-04 - gradient_norm: 2.6647"
     ]
    },
    {
     "name": "stderr",
     "output_type": "stream",
     "text": [
      "2024-04-14 13:02:57.760789: W tensorflow/core/framework/dataset.cc:768] Input of GeneratorDatasetOp::Dataset will not be optimized because the dataset does not implement the AsGraphDefInternal() method needed to apply optimizations.\n"
     ]
    },
    {
     "name": "stdout",
     "output_type": "stream",
     "text": [
      "21/21 [==============================] - 103s 5s/step - det_loss: 0.2245 - cls_loss: 0.1514 - box_loss: 0.0015 - reg_l2_loss: 0.0930 - loss: 0.3175 - learning_rate: 5.7542e-04 - gradient_norm: 2.6124 - val_det_loss: 0.3108 - val_cls_loss: 0.1881 - val_box_loss: 0.0025 - val_reg_l2_loss: 0.0930 - val_loss: 0.4037\n",
      "Epoch 65/80\n",
      "21/21 [==============================] - ETA: 0s - det_loss: 0.2187 - cls_loss: 0.1528 - box_loss: 0.0013 - reg_l2_loss: 0.0930 - loss: 0.3117 - learning_rate: 5.0707e-04 - gradient_norm: 2.5763"
     ]
    },
    {
     "name": "stderr",
     "output_type": "stream",
     "text": [
      "2024-04-14 13:04:40.489458: W tensorflow/core/framework/dataset.cc:768] Input of GeneratorDatasetOp::Dataset will not be optimized because the dataset does not implement the AsGraphDefInternal() method needed to apply optimizations.\n"
     ]
    },
    {
     "name": "stdout",
     "output_type": "stream",
     "text": [
      "21/21 [==============================] - 109s 5s/step - det_loss: 0.2180 - cls_loss: 0.1522 - box_loss: 0.0013 - reg_l2_loss: 0.0930 - loss: 0.3110 - learning_rate: 5.0561e-04 - gradient_norm: 2.5295 - val_det_loss: 0.3106 - val_cls_loss: 0.1891 - val_box_loss: 0.0024 - val_reg_l2_loss: 0.0930 - val_loss: 0.4035\n",
      "Epoch 66/80\n",
      "21/21 [==============================] - ETA: 0s - det_loss: 0.2588 - cls_loss: 0.1690 - box_loss: 0.0018 - reg_l2_loss: 0.0930 - loss: 0.3518 - learning_rate: 4.4131e-04 - gradient_norm: 2.9568"
     ]
    },
    {
     "name": "stderr",
     "output_type": "stream",
     "text": [
      "2024-04-14 13:06:28.468614: W tensorflow/core/framework/dataset.cc:768] Input of GeneratorDatasetOp::Dataset will not be optimized because the dataset does not implement the AsGraphDefInternal() method needed to apply optimizations.\n"
     ]
    },
    {
     "name": "stdout",
     "output_type": "stream",
     "text": [
      "21/21 [==============================] - 103s 5s/step - det_loss: 0.2575 - cls_loss: 0.1683 - box_loss: 0.0018 - reg_l2_loss: 0.0930 - loss: 0.3505 - learning_rate: 4.3995e-04 - gradient_norm: 2.9599 - val_det_loss: 0.3003 - val_cls_loss: 0.1883 - val_box_loss: 0.0022 - val_reg_l2_loss: 0.0930 - val_loss: 0.3933\n",
      "Epoch 67/80\n",
      "21/21 [==============================] - ETA: 0s - det_loss: 0.2206 - cls_loss: 0.1459 - box_loss: 0.0015 - reg_l2_loss: 0.0930 - loss: 0.3136 - learning_rate: 3.7980e-04 - gradient_norm: 2.5948"
     ]
    },
    {
     "name": "stderr",
     "output_type": "stream",
     "text": [
      "2024-04-14 13:08:11.656302: W tensorflow/core/framework/dataset.cc:768] Input of GeneratorDatasetOp::Dataset will not be optimized because the dataset does not implement the AsGraphDefInternal() method needed to apply optimizations.\n"
     ]
    },
    {
     "name": "stdout",
     "output_type": "stream",
     "text": [
      "21/21 [==============================] - 102s 5s/step - det_loss: 0.2210 - cls_loss: 0.1454 - box_loss: 0.0015 - reg_l2_loss: 0.0930 - loss: 0.3139 - learning_rate: 3.7852e-04 - gradient_norm: 2.5514 - val_det_loss: 0.2912 - val_cls_loss: 0.1832 - val_box_loss: 0.0022 - val_reg_l2_loss: 0.0930 - val_loss: 0.3842\n",
      "Epoch 68/80\n",
      "21/21 [==============================] - ETA: 0s - det_loss: 0.2221 - cls_loss: 0.1483 - box_loss: 0.0015 - reg_l2_loss: 0.0930 - loss: 0.3150 - learning_rate: 3.2262e-04 - gradient_norm: 2.4474"
     ]
    },
    {
     "name": "stderr",
     "output_type": "stream",
     "text": [
      "2024-04-14 13:09:54.621989: W tensorflow/core/framework/dataset.cc:768] Input of GeneratorDatasetOp::Dataset will not be optimized because the dataset does not implement the AsGraphDefInternal() method needed to apply optimizations.\n"
     ]
    },
    {
     "name": "stdout",
     "output_type": "stream",
     "text": [
      "21/21 [==============================] - 103s 5s/step - det_loss: 0.2213 - cls_loss: 0.1477 - box_loss: 0.0015 - reg_l2_loss: 0.0930 - loss: 0.3143 - learning_rate: 3.2144e-04 - gradient_norm: 2.4359 - val_det_loss: 0.2880 - val_cls_loss: 0.1797 - val_box_loss: 0.0022 - val_reg_l2_loss: 0.0930 - val_loss: 0.3809\n",
      "Epoch 69/80\n",
      "21/21 [==============================] - ETA: 0s - det_loss: 0.2268 - cls_loss: 0.1589 - box_loss: 0.0014 - reg_l2_loss: 0.0930 - loss: 0.3197 - learning_rate: 2.6988e-04 - gradient_norm: 2.7791"
     ]
    },
    {
     "name": "stderr",
     "output_type": "stream",
     "text": [
      "2024-04-14 13:11:37.620232: W tensorflow/core/framework/dataset.cc:768] Input of GeneratorDatasetOp::Dataset will not be optimized because the dataset does not implement the AsGraphDefInternal() method needed to apply optimizations.\n"
     ]
    },
    {
     "name": "stdout",
     "output_type": "stream",
     "text": [
      "21/21 [==============================] - 103s 5s/step - det_loss: 0.2282 - cls_loss: 0.1599 - box_loss: 0.0014 - reg_l2_loss: 0.0930 - loss: 0.3211 - learning_rate: 2.6880e-04 - gradient_norm: 2.7696 - val_det_loss: 0.2913 - val_cls_loss: 0.1794 - val_box_loss: 0.0022 - val_reg_l2_loss: 0.0930 - val_loss: 0.3842\n",
      "Epoch 70/80\n",
      "21/21 [==============================] - ETA: 0s - det_loss: 0.2141 - cls_loss: 0.1448 - box_loss: 0.0014 - reg_l2_loss: 0.0930 - loss: 0.3071 - learning_rate: 2.2165e-04 - gradient_norm: 2.6946"
     ]
    },
    {
     "name": "stderr",
     "output_type": "stream",
     "text": [
      "2024-04-14 13:13:20.086504: W tensorflow/core/framework/dataset.cc:768] Input of GeneratorDatasetOp::Dataset will not be optimized because the dataset does not implement the AsGraphDefInternal() method needed to apply optimizations.\n"
     ]
    },
    {
     "name": "stdout",
     "output_type": "stream",
     "text": [
      "21/21 [==============================] - 109s 5s/step - det_loss: 0.2153 - cls_loss: 0.1453 - box_loss: 0.0014 - reg_l2_loss: 0.0930 - loss: 0.3082 - learning_rate: 2.2067e-04 - gradient_norm: 2.7917 - val_det_loss: 0.2968 - val_cls_loss: 0.1824 - val_box_loss: 0.0023 - val_reg_l2_loss: 0.0930 - val_loss: 0.3897\n",
      "Epoch 71/80\n",
      "21/21 [==============================] - ETA: 0s - det_loss: 0.2127 - cls_loss: 0.1432 - box_loss: 0.0014 - reg_l2_loss: 0.0930 - loss: 0.3056 - learning_rate: 1.7801e-04 - gradient_norm: 2.1702"
     ]
    },
    {
     "name": "stderr",
     "output_type": "stream",
     "text": [
      "2024-04-14 13:15:08.782146: W tensorflow/core/framework/dataset.cc:768] Input of GeneratorDatasetOp::Dataset will not be optimized because the dataset does not implement the AsGraphDefInternal() method needed to apply optimizations.\n"
     ]
    },
    {
     "name": "stdout",
     "output_type": "stream",
     "text": [
      "21/21 [==============================] - 102s 5s/step - det_loss: 0.2147 - cls_loss: 0.1437 - box_loss: 0.0014 - reg_l2_loss: 0.0930 - loss: 0.3077 - learning_rate: 1.7713e-04 - gradient_norm: 2.1900 - val_det_loss: 0.2914 - val_cls_loss: 0.1800 - val_box_loss: 0.0022 - val_reg_l2_loss: 0.0930 - val_loss: 0.3844\n",
      "Epoch 72/80\n",
      "21/21 [==============================] - ETA: 0s - det_loss: 0.2111 - cls_loss: 0.1471 - box_loss: 0.0013 - reg_l2_loss: 0.0930 - loss: 0.3040 - learning_rate: 1.3903e-04 - gradient_norm: 2.5617"
     ]
    },
    {
     "name": "stderr",
     "output_type": "stream",
     "text": [
      "2024-04-14 13:16:50.904895: W tensorflow/core/framework/dataset.cc:768] Input of GeneratorDatasetOp::Dataset will not be optimized because the dataset does not implement the AsGraphDefInternal() method needed to apply optimizations.\n"
     ]
    },
    {
     "name": "stdout",
     "output_type": "stream",
     "text": [
      "21/21 [==============================] - 102s 5s/step - det_loss: 0.2132 - cls_loss: 0.1489 - box_loss: 0.0013 - reg_l2_loss: 0.0930 - loss: 0.3061 - learning_rate: 1.3825e-04 - gradient_norm: 2.5449 - val_det_loss: 0.2905 - val_cls_loss: 0.1793 - val_box_loss: 0.0022 - val_reg_l2_loss: 0.0930 - val_loss: 0.3834\n",
      "Epoch 73/80\n",
      "21/21 [==============================] - ETA: 0s - det_loss: 0.2371 - cls_loss: 0.1542 - box_loss: 0.0017 - reg_l2_loss: 0.0930 - loss: 0.3300 - learning_rate: 1.0477e-04 - gradient_norm: 2.9433"
     ]
    },
    {
     "name": "stderr",
     "output_type": "stream",
     "text": [
      "2024-04-14 13:18:33.012538: W tensorflow/core/framework/dataset.cc:768] Input of GeneratorDatasetOp::Dataset will not be optimized because the dataset does not implement the AsGraphDefInternal() method needed to apply optimizations.\n"
     ]
    },
    {
     "name": "stdout",
     "output_type": "stream",
     "text": [
      "21/21 [==============================] - 103s 5s/step - det_loss: 0.2371 - cls_loss: 0.1533 - box_loss: 0.0017 - reg_l2_loss: 0.0930 - loss: 0.3300 - learning_rate: 1.0410e-04 - gradient_norm: 2.8948 - val_det_loss: 0.2925 - val_cls_loss: 0.1797 - val_box_loss: 0.0023 - val_reg_l2_loss: 0.0930 - val_loss: 0.3855\n",
      "Epoch 74/80\n",
      "21/21 [==============================] - ETA: 0s - det_loss: 0.2054 - cls_loss: 0.1407 - box_loss: 0.0013 - reg_l2_loss: 0.0930 - loss: 0.2983 - learning_rate: 7.5293e-05 - gradient_norm: 2.1069"
     ]
    },
    {
     "name": "stderr",
     "output_type": "stream",
     "text": [
      "2024-04-14 13:20:16.958717: W tensorflow/core/framework/dataset.cc:768] Input of GeneratorDatasetOp::Dataset will not be optimized because the dataset does not implement the AsGraphDefInternal() method needed to apply optimizations.\n"
     ]
    },
    {
     "name": "stdout",
     "output_type": "stream",
     "text": [
      "21/21 [==============================] - 103s 5s/step - det_loss: 0.2034 - cls_loss: 0.1400 - box_loss: 0.0013 - reg_l2_loss: 0.0930 - loss: 0.2963 - learning_rate: 7.4723e-05 - gradient_norm: 2.1302 - val_det_loss: 0.2942 - val_cls_loss: 0.1794 - val_box_loss: 0.0023 - val_reg_l2_loss: 0.0930 - val_loss: 0.3871\n",
      "Epoch 75/80\n",
      "21/21 [==============================] - ETA: 0s - det_loss: 0.2287 - cls_loss: 0.1543 - box_loss: 0.0015 - reg_l2_loss: 0.0930 - loss: 0.3216 - learning_rate: 5.0634e-05 - gradient_norm: 2.6333"
     ]
    },
    {
     "name": "stderr",
     "output_type": "stream",
     "text": [
      "2024-04-14 13:21:59.542643: W tensorflow/core/framework/dataset.cc:768] Input of GeneratorDatasetOp::Dataset will not be optimized because the dataset does not implement the AsGraphDefInternal() method needed to apply optimizations.\n"
     ]
    },
    {
     "name": "stdout",
     "output_type": "stream",
     "text": [
      "21/21 [==============================] - 109s 5s/step - det_loss: 0.2283 - cls_loss: 0.1542 - box_loss: 0.0015 - reg_l2_loss: 0.0930 - loss: 0.3213 - learning_rate: 5.0168e-05 - gradient_norm: 2.6219 - val_det_loss: 0.2925 - val_cls_loss: 0.1790 - val_box_loss: 0.0023 - val_reg_l2_loss: 0.0930 - val_loss: 0.3854\n",
      "Epoch 76/80\n",
      "21/21 [==============================] - ETA: 0s - det_loss: 0.2223 - cls_loss: 0.1501 - box_loss: 0.0014 - reg_l2_loss: 0.0930 - loss: 0.3152 - learning_rate: 3.0836e-05 - gradient_norm: 3.0072"
     ]
    },
    {
     "name": "stderr",
     "output_type": "stream",
     "text": [
      "2024-04-14 13:23:48.180196: W tensorflow/core/framework/dataset.cc:768] Input of GeneratorDatasetOp::Dataset will not be optimized because the dataset does not implement the AsGraphDefInternal() method needed to apply optimizations.\n"
     ]
    },
    {
     "name": "stdout",
     "output_type": "stream",
     "text": [
      "21/21 [==============================] - 103s 5s/step - det_loss: 0.2238 - cls_loss: 0.1507 - box_loss: 0.0015 - reg_l2_loss: 0.0930 - loss: 0.3167 - learning_rate: 3.0476e-05 - gradient_norm: 3.0839 - val_det_loss: 0.2933 - val_cls_loss: 0.1797 - val_box_loss: 0.0023 - val_reg_l2_loss: 0.0930 - val_loss: 0.3863\n",
      "Epoch 77/80\n",
      "21/21 [==============================] - ETA: 0s - det_loss: 0.2126 - cls_loss: 0.1418 - box_loss: 0.0014 - reg_l2_loss: 0.0930 - loss: 0.3056 - learning_rate: 1.5930e-05 - gradient_norm: 2.7439"
     ]
    },
    {
     "name": "stderr",
     "output_type": "stream",
     "text": [
      "2024-04-14 13:25:30.393485: W tensorflow/core/framework/dataset.cc:768] Input of GeneratorDatasetOp::Dataset will not be optimized because the dataset does not implement the AsGraphDefInternal() method needed to apply optimizations.\n"
     ]
    },
    {
     "name": "stdout",
     "output_type": "stream",
     "text": [
      "21/21 [==============================] - 103s 5s/step - det_loss: 0.2107 - cls_loss: 0.1411 - box_loss: 0.0014 - reg_l2_loss: 0.0930 - loss: 0.3037 - learning_rate: 1.5677e-05 - gradient_norm: 2.7057 - val_det_loss: 0.2926 - val_cls_loss: 0.1794 - val_box_loss: 0.0023 - val_reg_l2_loss: 0.0930 - val_loss: 0.3855\n",
      "Epoch 78/80\n",
      "21/21 [==============================] - ETA: 0s - det_loss: 0.2126 - cls_loss: 0.1432 - box_loss: 0.0014 - reg_l2_loss: 0.0930 - loss: 0.3056 - learning_rate: 5.9408e-06 - gradient_norm: 2.4837"
     ]
    },
    {
     "name": "stderr",
     "output_type": "stream",
     "text": [
      "2024-04-14 13:27:13.187295: W tensorflow/core/framework/dataset.cc:768] Input of GeneratorDatasetOp::Dataset will not be optimized because the dataset does not implement the AsGraphDefInternal() method needed to apply optimizations.\n"
     ]
    },
    {
     "name": "stdout",
     "output_type": "stream",
     "text": [
      "21/21 [==============================] - 102s 5s/step - det_loss: 0.2168 - cls_loss: 0.1470 - box_loss: 0.0014 - reg_l2_loss: 0.0930 - loss: 0.3097 - learning_rate: 5.7941e-06 - gradient_norm: 2.5079 - val_det_loss: 0.2919 - val_cls_loss: 0.1793 - val_box_loss: 0.0023 - val_reg_l2_loss: 0.0930 - val_loss: 0.3849\n",
      "Epoch 79/80\n",
      "21/21 [==============================] - ETA: 0s - det_loss: 0.2190 - cls_loss: 0.1483 - box_loss: 0.0014 - reg_l2_loss: 0.0930 - loss: 0.3120 - learning_rate: 8.8335e-07 - gradient_norm: 2.3860"
     ]
    },
    {
     "name": "stderr",
     "output_type": "stream",
     "text": [
      "2024-04-14 13:28:55.147388: W tensorflow/core/framework/dataset.cc:768] Input of GeneratorDatasetOp::Dataset will not be optimized because the dataset does not implement the AsGraphDefInternal() method needed to apply optimizations.\n"
     ]
    },
    {
     "name": "stdout",
     "output_type": "stream",
     "text": [
      "21/21 [==============================] - 102s 5s/step - det_loss: 0.2182 - cls_loss: 0.1481 - box_loss: 0.0014 - reg_l2_loss: 0.0930 - loss: 0.3112 - learning_rate: 8.4345e-07 - gradient_norm: 2.3649 - val_det_loss: 0.2902 - val_cls_loss: 0.1785 - val_box_loss: 0.0022 - val_reg_l2_loss: 0.0930 - val_loss: 0.3832\n",
      "Epoch 80/80\n",
      "21/21 [==============================] - ETA: 0s - det_loss: 0.2422 - cls_loss: 0.1645 - box_loss: 0.0016 - reg_l2_loss: 0.0930 - loss: 0.3352 - learning_rate: 7.6571e-07 - gradient_norm: 3.0450"
     ]
    },
    {
     "name": "stderr",
     "output_type": "stream",
     "text": [
      "2024-04-14 13:30:38.030167: W tensorflow/core/framework/dataset.cc:768] Input of GeneratorDatasetOp::Dataset will not be optimized because the dataset does not implement the AsGraphDefInternal() method needed to apply optimizations.\n"
     ]
    },
    {
     "name": "stdout",
     "output_type": "stream",
     "text": [
      "21/21 [==============================] - 109s 5s/step - det_loss: 0.2436 - cls_loss: 0.1648 - box_loss: 0.0016 - reg_l2_loss: 0.0930 - loss: 0.3366 - learning_rate: 8.3276e-07 - gradient_norm: 3.0056 - val_det_loss: 0.2890 - val_cls_loss: 0.1777 - val_box_loss: 0.0022 - val_reg_l2_loss: 0.0930 - val_loss: 0.3819\n"
     ]
    }
   ],
   "source": [
    "# Entraîner entièrement le modèle (fine-tuning) ?\n",
    "train_whole_model=True\n",
    "epochs=50\n",
    "batch_size=5\n",
    "model = object_detector.create(train_data, \n",
    "                               validation_data=val_data,\n",
    "                               model_spec=spec, \n",
    "                               train_whole_model=train_whole_model,\n",
    "                               epochs=epochs,\n",
    "                               batch_size=batch_size\n",
    "                               )\n"
   ]
  },
  {
   "cell_type": "code",
   "execution_count": 8,
   "metadata": {},
   "outputs": [
    {
     "name": "stdout",
     "output_type": "stream",
     "text": [
      "Model: \"\"\n",
      "_________________________________________________________________\n",
      " Layer (type)                Output Shape              Param #   \n",
      "=================================================================\n",
      " keras_layer (KerasLayer)    multiple                  8315968   \n",
      "                                                                 \n",
      " class_net/class-predict (Se  multiple                 4338      \n",
      " parableConv2D)                                                  \n",
      "                                                                 \n",
      " box_net/box-predict (Separa  multiple                 7236      \n",
      " bleConv2D)                                                      \n",
      "                                                                 \n",
      "=================================================================\n",
      "Total params: 8,327,542\n",
      "Trainable params: 8,223,350\n",
      "Non-trainable params: 104,192\n",
      "_________________________________________________________________\n"
     ]
    }
   ],
   "source": [
    "summary = model.summary()\n",
    "summary"
   ]
  },
  {
   "cell_type": "markdown",
   "metadata": {},
   "source": [
    "## Evaluation du modèle"
   ]
  },
  {
   "cell_type": "code",
   "execution_count": 9,
   "metadata": {},
   "outputs": [
    {
     "name": "stderr",
     "output_type": "stream",
     "text": [
      "2024-04-14 13:31:03.140838: W tensorflow/core/framework/cpu_allocator_impl.cc:82] Allocation of 1132462080 exceeds 10% of free system memory.\n"
     ]
    },
    {
     "name": "stdout",
     "output_type": "stream",
     "text": [
      "1/1 [==============================] - 14s 14s/step\n",
      "\n"
     ]
    },
    {
     "data": {
      "image/png": "[encoded data removed]",
      "text/plain": [
       "<Figure size 640x480 with 1 Axes>"
      ]
     },
     "metadata": {},
     "output_type": "display_data"
    }
   ],
   "source": [
    "# https://cocodataset.org/#detection-eval\n",
    "# val_loss, val_accuracy = model.evaluate(val_data)\n",
    "\n",
    "evaluation = model.evaluate(val_data)\n",
    "\n",
    "def plotEvaluation(eval, title=\"Résultats de l\\'évaluation du modèle'\"):\n",
    "    import matplotlib.pyplot as plt\n",
    "    plt.bar(eval.keys(), eval.values(), color='skyblue')\n",
    "    plt.xlabel('Métrique')\n",
    "    plt.ylabel('Valeur')\n",
    "    plt.title(title)\n",
    "    plt.xticks(rotation=45, ha=\"right\")\n",
    "    plt.tight_layout()\n",
    "    plt.show()\n",
    "\n",
    "plotEvaluation(evaluation)"
   ]
  },
  {
   "cell_type": "markdown",
   "metadata": {},
   "source": [
    "## Export du modèle au format Tensorflow lite"
   ]
  },
  {
   "cell_type": "code",
   "execution_count": 18,
   "metadata": {},
   "outputs": [
    {
     "name": "stderr",
     "output_type": "stream",
     "text": [
      "2024-04-14 19:55:59.392087: W tensorflow/core/common_runtime/graph_constructor.cc:803] Node 'resample_p7/PartitionedCall' has 1 outputs but the _output_shapes attribute specifies shapes for 3 outputs. Output shapes may be inaccurate.\n",
      "2024-04-14 19:56:21.950732: W tensorflow/compiler/mlir/lite/python/tf_tfl_flatbuffer_helpers.cc:357] Ignored output_format.\n",
      "2024-04-14 19:56:21.950780: W tensorflow/compiler/mlir/lite/python/tf_tfl_flatbuffer_helpers.cc:360] Ignored drop_control_dependency.\n",
      "2024-04-14 19:56:21.950982: I tensorflow/cc/saved_model/reader.cc:43] Reading SavedModel from: /tmp/tmpf4pucpo6\n",
      "2024-04-14 19:56:22.083338: I tensorflow/cc/saved_model/reader.cc:78] Reading meta graph with tags { serve }\n",
      "2024-04-14 19:56:22.083375: I tensorflow/cc/saved_model/reader.cc:119] Reading SavedModel debug info (if present) from: /tmp/tmpf4pucpo6\n",
      "2024-04-14 19:56:22.515526: I tensorflow/cc/saved_model/loader.cc:228] Restoring SavedModel bundle.\n",
      "2024-04-14 19:56:26.350691: I tensorflow/cc/saved_model/loader.cc:212] Running initialization op on SavedModel bundle at path: /tmp/tmpf4pucpo6\n",
      "2024-04-14 19:56:28.006073: I tensorflow/cc/saved_model/loader.cc:301] SavedModel load for tags { serve }; Status: success: OK. Took 6055092 microseconds.\n",
      "2024-04-14 19:56:33.349688: I tensorflow/compiler/mlir/lite/flatbuffer_export.cc:1963] Estimated count of arithmetic ops: 13.698 G  ops, equivalently 6.849 G  MACs\n",
      "\n"
     ]
    },
    {
     "name": "stdout",
     "output_type": "stream",
     "text": [
      "Estimated count of arithmetic ops: 13.698 G  ops, equivalently 6.849 G  MACs\n"
     ]
    }
   ],
   "source": [
    "config = QuantizationConfig.for_float16()\n",
    "model.export(export_dir='bin/', \n",
    "             tflite_filename='greengardians.tflite', \n",
    "            quantization_config=config\n",
    "             )\n",
    "# model.export(export_dir='bin/', \n",
    "#              quantization_config=config,\n",
    "#              export_format=[ExportFormat.SAVED_MODEL, ExportFormat.LABEL])\n"
   ]
  },
  {
   "cell_type": "markdown",
   "metadata": {},
   "source": [
    "## Evaluation du modèle entrainé"
   ]
  },
  {
   "cell_type": "code",
   "execution_count": 11,
   "metadata": {},
   "outputs": [
    {
     "name": "stderr",
     "output_type": "stream",
     "text": [
      "INFO: Created TensorFlow Lite XNNPACK delegate for CPU.\n"
     ]
    },
    {
     "name": "stdout",
     "output_type": "stream",
     "text": [
      "16/16 [==============================] - 253s 16s/step\n",
      "\n"
     ]
    },
    {
     "data": {
      "image/png": "[encoded data removed]",
      "text/plain": [
       "<Figure size 640x480 with 1 Axes>"
      ]
     },
     "metadata": {},
     "output_type": "display_data"
    }
   ],
   "source": [
    "model_path = 'bin/greengardians.tflite'\n",
    "evaluation_lite = model.evaluate_tflite(model_path, test_data)\n",
    "\n",
    "plotEvaluation(evaluation_lite)"
   ]
  },
  {
   "cell_type": "code",
   "execution_count": 12,
   "metadata": {},
   "outputs": [],
   "source": [
    "# NUMBER_OF_TPUS =  2\n",
    "\n",
    "# !edgetpu_compiler 'bin/greengardians.tflite' --num_segments=$NUMBER_OF_TPUS"
   ]
  },
  {
   "cell_type": "markdown",
   "metadata": {},
   "source": [
    "## Utilitaires"
   ]
  },
  {
   "cell_type": "code",
   "execution_count": 13,
   "metadata": {},
   "outputs": [
    {
     "name": "stdout",
     "output_type": "stream",
     "text": [
      "classes ['plastique', 'canette']\n"
     ]
    }
   ],
   "source": [
    "import cv2\n",
    "\n",
    "from PIL import Image\n",
    "\n",
    "# Load the labels into a list\n",
    "classes = ['???'] * model.model_spec.config.num_classes\n",
    "label_map = model.model_spec.config.label_map\n",
    "for label_id, label_name in label_map.as_dict().items():\n",
    "  classes[label_id-1] = label_name\n",
    "\n",
    "# classes = {0: \"plastique\", 1: \"canette\"}\n",
    "print('classes', classes)\n",
    "\n",
    "# Define a list of colors for visualization\n",
    "COLORS = np.random.randint(0, 255, size=(len(classes), 3), dtype=np.uint8)\n",
    "\n",
    "def preprocess_image(image_path, input_size):\n",
    "  \"\"\"Preprocess the input image to feed to the TFLite model\"\"\"\n",
    "  img = tf.io.read_file(image_path)\n",
    "  img = tf.io.decode_image(img, channels=3)\n",
    "  img = tf.image.convert_image_dtype(img, tf.uint8)\n",
    "  original_image = img\n",
    "  resized_img = tf.image.resize(img, input_size)\n",
    "  resized_img = resized_img[tf.newaxis, :]\n",
    "  resized_img = tf.cast(resized_img, dtype=tf.uint8)\n",
    "  return resized_img, original_image\n",
    "\n",
    "\n",
    "def detect_objects(interpreter, image, threshold):\n",
    "  \"\"\"Returns a list of detection results, each a dictionary of object info.\"\"\"\n",
    "\n",
    "  signature_fn = interpreter.get_signature_runner()\n",
    "\n",
    "  # Feed the input image to the model\n",
    "  output = signature_fn(images=image)\n",
    "\n",
    "\n",
    "  # Get all outputs from the model\n",
    "  count = int(np.squeeze(output['output_0']))\n",
    "  scores = np.squeeze(output['output_1'])\n",
    "  classes = np.squeeze(output['output_2'])\n",
    "  boxes = np.squeeze(output['output_3'])\n",
    "\n",
    "\n",
    "  results = []\n",
    "  for i in range(count):\n",
    "    if scores[i] >= threshold:\n",
    "      result = {\n",
    "        'bounding_box': boxes[i],\n",
    "        'class_id': classes[i],\n",
    "        'score': scores[i]\n",
    "      }\n",
    "      results.append(result)\n",
    "  return results\n",
    "\n",
    "def run_odt_and_draw_results(image_path, interpreter, threshold=0.5):\n",
    "  \"\"\"Run object detection on the input image and draw the detection results\"\"\"\n",
    "  # Load the input shape required by the model\n",
    "  _, input_height, input_width, _ = interpreter.get_input_details()[0]['shape']\n",
    "\n",
    "  # Load the input image and preprocess it\n",
    "  preprocessed_image, original_image = preprocess_image(\n",
    "      image_path,\n",
    "      (input_height, input_width)\n",
    "    )\n",
    "\n",
    "  # Run object detection on the input image\n",
    "  results = detect_objects(interpreter, preprocessed_image, threshold=threshold)\n",
    "\n",
    "  print('results', results)\n",
    "\n",
    "  # Plot the detection results on the input image\n",
    "  original_image_np = original_image.numpy().astype(np.uint8)\n",
    "  for obj in results:\n",
    "    # Convert the object bounding box from relative coordinates to absolute\n",
    "    # coordinates based on the original image resolution\n",
    "    ymin, xmin, ymax, xmax = obj['bounding_box']\n",
    "    xmin = int(xmin * original_image_np.shape[1])\n",
    "    xmax = int(xmax * original_image_np.shape[1])\n",
    "    ymin = int(ymin * original_image_np.shape[0])\n",
    "    ymax = int(ymax * original_image_np.shape[0])\n",
    "\n",
    "    # Find the class index of the current object\n",
    "    class_id = int(obj['class_id'])\n",
    "\n",
    "    # Draw the bounding box and label on the image\n",
    "    color = [int(c) for c in COLORS[class_id]]\n",
    "    cv2.rectangle(original_image_np, (xmin, ymin), (xmax, ymax), color, 2)\n",
    "    # Make adjustments to make the label visible for all objects\n",
    "    y = ymin - 15 if ymin - 15 > 15 else ymin + 15\n",
    "    label = \"{}: {:.0f}%\".format(classes[class_id], obj['score'] * 100)\n",
    "    cv2.putText(original_image_np, label, (xmin, y),\n",
    "        cv2.FONT_HERSHEY_SIMPLEX, 0.5, color, 2)\n",
    "\n",
    "  # Return the final image\n",
    "  original_uint8 = original_image_np.astype(np.uint8)\n",
    "  return original_uint8"
   ]
  },
  {
   "cell_type": "markdown",
   "metadata": {},
   "source": [
    "## Prediction"
   ]
  },
  {
   "cell_type": "code",
   "execution_count": 14,
   "metadata": {},
   "outputs": [
    {
     "name": "stdout",
     "output_type": "stream",
     "text": [
      "/home/charles/web/alyra/villepropre/vp-server/train/datasets/dataset.voc/test//IMG_20231025_095831_jpg.rf.6d8b19314ae50b80d846813b15ce03f8.jpg\n",
      "results [{'bounding_box': array([0.3531137, 0.5489751, 0.6094619, 0.7468078], dtype=float32), 'class_id': 1.0, 'score': 0.87109375}, {'bounding_box': array([0.26512876, 0.27983716, 0.55047476, 0.4694048 ], dtype=float32), 'class_id': 1.0, 'score': 0.71484375}, {'bounding_box': array([-0.00199068,  0.7689454 ,  0.6395478 ,  0.99664384], dtype=float32), 'class_id': 0.0, 'score': 0.51171875}]\n"
     ]
    }
   ],
   "source": [
    "# Load the TFLite model\n",
    "import os, random\n",
    "from pathlib import Path\n",
    "model_path = 'bin/greengardians.tflite'\n",
    "\n",
    "interpreter = tf.lite.Interpreter(model_path=model_path)\n",
    "interpreter.allocate_tensors()\n",
    "\n",
    "# # Run inference and draw detection result on the local copy of the original file\n",
    "DETECTION_THRESHOLD = 0.5\n",
    "          \n",
    "PROJECT_FOLDER = Path(Path.cwd())\n",
    "image_folder = str(PROJECT_FOLDER) + '/datasets/dataset.voc/test/'\n",
    "# imageToPredict = 'datasets/dataset.voc/test/IMG_20231025_095509_jpg.rf.c83cb3628dda974ef28a37ce404b9ab7.jpg'\n",
    "                                                          \n",
    "l_detection_result_image = []\n",
    "files = [image_folder +'/'+ f for f in os.listdir(image_folder) if f.endswith('.jpg')]\n",
    "\n",
    "# imageToPredict = 'datasets/dataset.voc/test/IMG_20231025_095509_jpg.rf.c83cb3628dda974ef28a37ce404b9ab7.jpg'\n",
    "imageToPredict = random.choice(files)\n",
    "print(imageToPredict)\n",
    "detection_result_image = run_odt_and_draw_results(\n",
    "        imageToPredict,\n",
    "        interpreter,\n",
    "        threshold=DETECTION_THRESHOLD\n",
    ")\n",
    "# for file in files:\n",
    "#     detection_result_image = run_odt_and_draw_results(\n",
    "#         file,\n",
    "#         interpreter,\n",
    "#         threshold=DETECTION_THRESHOLD\n",
    "#     )\n",
    "#     l_detection_result_image.append(detection_result_image)"
   ]
  },
  {
   "cell_type": "code",
   "execution_count": 15,
   "metadata": {},
   "outputs": [
    {
     "ename": "TypeError",
     "evalue": "Image data of dtype <U142 cannot be converted to float",
     "output_type": "error",
     "traceback": [
      "\u001b[0;31m---------------------------------------------------------------------------\u001b[0m",
      "\u001b[0;31mTypeError\u001b[0m                                 Traceback (most recent call last)",
      "Cell \u001b[0;32mIn[15], line 3\u001b[0m\n\u001b[1;32m      1\u001b[0m \u001b[38;5;28;01mimport\u001b[39;00m \u001b[38;5;21;01mmatplotlib\u001b[39;00m\u001b[38;5;21;01m.\u001b[39;00m\u001b[38;5;21;01mpyplot\u001b[39;00m \u001b[38;5;28;01mas\u001b[39;00m \u001b[38;5;21;01mplt\u001b[39;00m\n\u001b[1;32m      2\u001b[0m plt\u001b[38;5;241m.\u001b[39mfigure(figsize\u001b[38;5;241m=\u001b[39m(\u001b[38;5;241m5\u001b[39m, \u001b[38;5;241m5\u001b[39m))\n\u001b[0;32m----> 3\u001b[0m \u001b[43mplt\u001b[49m\u001b[38;5;241;43m.\u001b[39;49m\u001b[43mimshow\u001b[49m\u001b[43m(\u001b[49m\u001b[43mimageToPredict\u001b[49m\u001b[43m)\u001b[49m\n\u001b[1;32m      4\u001b[0m plt\u001b[38;5;241m.\u001b[39mshow()\n\u001b[1;32m      5\u001b[0m plt\u001b[38;5;241m.\u001b[39mclose()\n",
      "File \u001b[0;32m~/web/alyra/villepropre/vp-server/.venv/lib/python3.9/site-packages/matplotlib/pyplot.py:2903\u001b[0m, in \u001b[0;36mimshow\u001b[0;34m(X, cmap, norm, aspect, interpolation, alpha, vmin, vmax, origin, extent, filternorm, filterrad, resample, url, data, **kwargs)\u001b[0m\n\u001b[1;32m   2897\u001b[0m \u001b[38;5;129m@_copy_docstring_and_deprecators\u001b[39m(Axes\u001b[38;5;241m.\u001b[39mimshow)\n\u001b[1;32m   2898\u001b[0m \u001b[38;5;28;01mdef\u001b[39;00m \u001b[38;5;21mimshow\u001b[39m(\n\u001b[1;32m   2899\u001b[0m         X, cmap\u001b[38;5;241m=\u001b[39m\u001b[38;5;28;01mNone\u001b[39;00m, norm\u001b[38;5;241m=\u001b[39m\u001b[38;5;28;01mNone\u001b[39;00m, aspect\u001b[38;5;241m=\u001b[39m\u001b[38;5;28;01mNone\u001b[39;00m, interpolation\u001b[38;5;241m=\u001b[39m\u001b[38;5;28;01mNone\u001b[39;00m,\n\u001b[1;32m   2900\u001b[0m         alpha\u001b[38;5;241m=\u001b[39m\u001b[38;5;28;01mNone\u001b[39;00m, vmin\u001b[38;5;241m=\u001b[39m\u001b[38;5;28;01mNone\u001b[39;00m, vmax\u001b[38;5;241m=\u001b[39m\u001b[38;5;28;01mNone\u001b[39;00m, origin\u001b[38;5;241m=\u001b[39m\u001b[38;5;28;01mNone\u001b[39;00m, extent\u001b[38;5;241m=\u001b[39m\u001b[38;5;28;01mNone\u001b[39;00m, \u001b[38;5;241m*\u001b[39m,\n\u001b[1;32m   2901\u001b[0m         filternorm\u001b[38;5;241m=\u001b[39m\u001b[38;5;28;01mTrue\u001b[39;00m, filterrad\u001b[38;5;241m=\u001b[39m\u001b[38;5;241m4.0\u001b[39m, resample\u001b[38;5;241m=\u001b[39m\u001b[38;5;28;01mNone\u001b[39;00m, url\u001b[38;5;241m=\u001b[39m\u001b[38;5;28;01mNone\u001b[39;00m,\n\u001b[1;32m   2902\u001b[0m         data\u001b[38;5;241m=\u001b[39m\u001b[38;5;28;01mNone\u001b[39;00m, \u001b[38;5;241m*\u001b[39m\u001b[38;5;241m*\u001b[39mkwargs):\n\u001b[0;32m-> 2903\u001b[0m     __ret \u001b[38;5;241m=\u001b[39m \u001b[43mgca\u001b[49m\u001b[43m(\u001b[49m\u001b[43m)\u001b[49m\u001b[38;5;241;43m.\u001b[39;49m\u001b[43mimshow\u001b[49m\u001b[43m(\u001b[49m\n\u001b[1;32m   2904\u001b[0m \u001b[43m        \u001b[49m\u001b[43mX\u001b[49m\u001b[43m,\u001b[49m\u001b[43m \u001b[49m\u001b[43mcmap\u001b[49m\u001b[38;5;241;43m=\u001b[39;49m\u001b[43mcmap\u001b[49m\u001b[43m,\u001b[49m\u001b[43m \u001b[49m\u001b[43mnorm\u001b[49m\u001b[38;5;241;43m=\u001b[39;49m\u001b[43mnorm\u001b[49m\u001b[43m,\u001b[49m\u001b[43m \u001b[49m\u001b[43maspect\u001b[49m\u001b[38;5;241;43m=\u001b[39;49m\u001b[43maspect\u001b[49m\u001b[43m,\u001b[49m\n\u001b[1;32m   2905\u001b[0m \u001b[43m        \u001b[49m\u001b[43minterpolation\u001b[49m\u001b[38;5;241;43m=\u001b[39;49m\u001b[43minterpolation\u001b[49m\u001b[43m,\u001b[49m\u001b[43m \u001b[49m\u001b[43malpha\u001b[49m\u001b[38;5;241;43m=\u001b[39;49m\u001b[43malpha\u001b[49m\u001b[43m,\u001b[49m\u001b[43m \u001b[49m\u001b[43mvmin\u001b[49m\u001b[38;5;241;43m=\u001b[39;49m\u001b[43mvmin\u001b[49m\u001b[43m,\u001b[49m\n\u001b[1;32m   2906\u001b[0m \u001b[43m        \u001b[49m\u001b[43mvmax\u001b[49m\u001b[38;5;241;43m=\u001b[39;49m\u001b[43mvmax\u001b[49m\u001b[43m,\u001b[49m\u001b[43m \u001b[49m\u001b[43morigin\u001b[49m\u001b[38;5;241;43m=\u001b[39;49m\u001b[43morigin\u001b[49m\u001b[43m,\u001b[49m\u001b[43m \u001b[49m\u001b[43mextent\u001b[49m\u001b[38;5;241;43m=\u001b[39;49m\u001b[43mextent\u001b[49m\u001b[43m,\u001b[49m\n\u001b[1;32m   2907\u001b[0m \u001b[43m        \u001b[49m\u001b[43mfilternorm\u001b[49m\u001b[38;5;241;43m=\u001b[39;49m\u001b[43mfilternorm\u001b[49m\u001b[43m,\u001b[49m\u001b[43m \u001b[49m\u001b[43mfilterrad\u001b[49m\u001b[38;5;241;43m=\u001b[39;49m\u001b[43mfilterrad\u001b[49m\u001b[43m,\u001b[49m\u001b[43m \u001b[49m\u001b[43mresample\u001b[49m\u001b[38;5;241;43m=\u001b[39;49m\u001b[43mresample\u001b[49m\u001b[43m,\u001b[49m\n\u001b[1;32m   2908\u001b[0m \u001b[43m        \u001b[49m\u001b[43murl\u001b[49m\u001b[38;5;241;43m=\u001b[39;49m\u001b[43murl\u001b[49m\u001b[43m,\u001b[49m\u001b[43m \u001b[49m\u001b[38;5;241;43m*\u001b[39;49m\u001b[38;5;241;43m*\u001b[39;49m\u001b[43m(\u001b[49m\u001b[43m{\u001b[49m\u001b[38;5;124;43m\"\u001b[39;49m\u001b[38;5;124;43mdata\u001b[39;49m\u001b[38;5;124;43m\"\u001b[39;49m\u001b[43m:\u001b[49m\u001b[43m \u001b[49m\u001b[43mdata\u001b[49m\u001b[43m}\u001b[49m\u001b[43m \u001b[49m\u001b[38;5;28;43;01mif\u001b[39;49;00m\u001b[43m \u001b[49m\u001b[43mdata\u001b[49m\u001b[43m \u001b[49m\u001b[38;5;129;43;01mis\u001b[39;49;00m\u001b[43m \u001b[49m\u001b[38;5;129;43;01mnot\u001b[39;49;00m\u001b[43m \u001b[49m\u001b[38;5;28;43;01mNone\u001b[39;49;00m\u001b[43m \u001b[49m\u001b[38;5;28;43;01melse\u001b[39;49;00m\u001b[43m \u001b[49m\u001b[43m{\u001b[49m\u001b[43m}\u001b[49m\u001b[43m)\u001b[49m\u001b[43m,\u001b[49m\n\u001b[1;32m   2909\u001b[0m \u001b[43m        \u001b[49m\u001b[38;5;241;43m*\u001b[39;49m\u001b[38;5;241;43m*\u001b[39;49m\u001b[43mkwargs\u001b[49m\u001b[43m)\u001b[49m\n\u001b[1;32m   2910\u001b[0m     sci(__ret)\n\u001b[1;32m   2911\u001b[0m     \u001b[38;5;28;01mreturn\u001b[39;00m __ret\n",
      "File \u001b[0;32m~/web/alyra/villepropre/vp-server/.venv/lib/python3.9/site-packages/matplotlib/__init__.py:1361\u001b[0m, in \u001b[0;36m_preprocess_data.<locals>.inner\u001b[0;34m(ax, data, *args, **kwargs)\u001b[0m\n\u001b[1;32m   1358\u001b[0m \u001b[38;5;129m@functools\u001b[39m\u001b[38;5;241m.\u001b[39mwraps(func)\n\u001b[1;32m   1359\u001b[0m \u001b[38;5;28;01mdef\u001b[39;00m \u001b[38;5;21minner\u001b[39m(ax, \u001b[38;5;241m*\u001b[39margs, data\u001b[38;5;241m=\u001b[39m\u001b[38;5;28;01mNone\u001b[39;00m, \u001b[38;5;241m*\u001b[39m\u001b[38;5;241m*\u001b[39mkwargs):\n\u001b[1;32m   1360\u001b[0m     \u001b[38;5;28;01mif\u001b[39;00m data \u001b[38;5;129;01mis\u001b[39;00m \u001b[38;5;28;01mNone\u001b[39;00m:\n\u001b[0;32m-> 1361\u001b[0m         \u001b[38;5;28;01mreturn\u001b[39;00m \u001b[43mfunc\u001b[49m\u001b[43m(\u001b[49m\u001b[43max\u001b[49m\u001b[43m,\u001b[49m\u001b[43m \u001b[49m\u001b[38;5;241;43m*\u001b[39;49m\u001b[38;5;28;43mmap\u001b[39;49m\u001b[43m(\u001b[49m\u001b[43msanitize_sequence\u001b[49m\u001b[43m,\u001b[49m\u001b[43m \u001b[49m\u001b[43margs\u001b[49m\u001b[43m)\u001b[49m\u001b[43m,\u001b[49m\u001b[43m \u001b[49m\u001b[38;5;241;43m*\u001b[39;49m\u001b[38;5;241;43m*\u001b[39;49m\u001b[43mkwargs\u001b[49m\u001b[43m)\u001b[49m\n\u001b[1;32m   1363\u001b[0m     bound \u001b[38;5;241m=\u001b[39m new_sig\u001b[38;5;241m.\u001b[39mbind(ax, \u001b[38;5;241m*\u001b[39margs, \u001b[38;5;241m*\u001b[39m\u001b[38;5;241m*\u001b[39mkwargs)\n\u001b[1;32m   1364\u001b[0m     auto_label \u001b[38;5;241m=\u001b[39m (bound\u001b[38;5;241m.\u001b[39marguments\u001b[38;5;241m.\u001b[39mget(label_namer)\n\u001b[1;32m   1365\u001b[0m                   \u001b[38;5;129;01mor\u001b[39;00m bound\u001b[38;5;241m.\u001b[39mkwargs\u001b[38;5;241m.\u001b[39mget(label_namer))\n",
      "File \u001b[0;32m~/web/alyra/villepropre/vp-server/.venv/lib/python3.9/site-packages/matplotlib/axes/_axes.py:5609\u001b[0m, in \u001b[0;36mAxes.imshow\u001b[0;34m(self, X, cmap, norm, aspect, interpolation, alpha, vmin, vmax, origin, extent, filternorm, filterrad, resample, url, **kwargs)\u001b[0m\n\u001b[1;32m   5604\u001b[0m \u001b[38;5;28mself\u001b[39m\u001b[38;5;241m.\u001b[39mset_aspect(aspect)\n\u001b[1;32m   5605\u001b[0m im \u001b[38;5;241m=\u001b[39m mimage\u001b[38;5;241m.\u001b[39mAxesImage(\u001b[38;5;28mself\u001b[39m, cmap, norm, interpolation, origin, extent,\n\u001b[1;32m   5606\u001b[0m                       filternorm\u001b[38;5;241m=\u001b[39mfilternorm, filterrad\u001b[38;5;241m=\u001b[39mfilterrad,\n\u001b[1;32m   5607\u001b[0m                       resample\u001b[38;5;241m=\u001b[39mresample, \u001b[38;5;241m*\u001b[39m\u001b[38;5;241m*\u001b[39mkwargs)\n\u001b[0;32m-> 5609\u001b[0m \u001b[43mim\u001b[49m\u001b[38;5;241;43m.\u001b[39;49m\u001b[43mset_data\u001b[49m\u001b[43m(\u001b[49m\u001b[43mX\u001b[49m\u001b[43m)\u001b[49m\n\u001b[1;32m   5610\u001b[0m im\u001b[38;5;241m.\u001b[39mset_alpha(alpha)\n\u001b[1;32m   5611\u001b[0m \u001b[38;5;28;01mif\u001b[39;00m im\u001b[38;5;241m.\u001b[39mget_clip_path() \u001b[38;5;129;01mis\u001b[39;00m \u001b[38;5;28;01mNone\u001b[39;00m:\n\u001b[1;32m   5612\u001b[0m     \u001b[38;5;66;03m# image does not already have clipping set, clip to axes patch\u001b[39;00m\n",
      "File \u001b[0;32m~/web/alyra/villepropre/vp-server/.venv/lib/python3.9/site-packages/matplotlib/image.py:700\u001b[0m, in \u001b[0;36m_ImageBase.set_data\u001b[0;34m(self, A)\u001b[0m\n\u001b[1;32m    696\u001b[0m \u001b[38;5;28mself\u001b[39m\u001b[38;5;241m.\u001b[39m_A \u001b[38;5;241m=\u001b[39m cbook\u001b[38;5;241m.\u001b[39msafe_masked_invalid(A, copy\u001b[38;5;241m=\u001b[39m\u001b[38;5;28;01mTrue\u001b[39;00m)\n\u001b[1;32m    698\u001b[0m \u001b[38;5;28;01mif\u001b[39;00m (\u001b[38;5;28mself\u001b[39m\u001b[38;5;241m.\u001b[39m_A\u001b[38;5;241m.\u001b[39mdtype \u001b[38;5;241m!=\u001b[39m np\u001b[38;5;241m.\u001b[39muint8 \u001b[38;5;129;01mand\u001b[39;00m\n\u001b[1;32m    699\u001b[0m         \u001b[38;5;129;01mnot\u001b[39;00m np\u001b[38;5;241m.\u001b[39mcan_cast(\u001b[38;5;28mself\u001b[39m\u001b[38;5;241m.\u001b[39m_A\u001b[38;5;241m.\u001b[39mdtype, \u001b[38;5;28mfloat\u001b[39m, \u001b[38;5;124m\"\u001b[39m\u001b[38;5;124msame_kind\u001b[39m\u001b[38;5;124m\"\u001b[39m)):\n\u001b[0;32m--> 700\u001b[0m     \u001b[38;5;28;01mraise\u001b[39;00m \u001b[38;5;167;01mTypeError\u001b[39;00m(\u001b[38;5;124m\"\u001b[39m\u001b[38;5;124mImage data of dtype \u001b[39m\u001b[38;5;132;01m{}\u001b[39;00m\u001b[38;5;124m cannot be converted to \u001b[39m\u001b[38;5;124m\"\u001b[39m\n\u001b[1;32m    701\u001b[0m                     \u001b[38;5;124m\"\u001b[39m\u001b[38;5;124mfloat\u001b[39m\u001b[38;5;124m\"\u001b[39m\u001b[38;5;241m.\u001b[39mformat(\u001b[38;5;28mself\u001b[39m\u001b[38;5;241m.\u001b[39m_A\u001b[38;5;241m.\u001b[39mdtype))\n\u001b[1;32m    703\u001b[0m \u001b[38;5;28;01mif\u001b[39;00m \u001b[38;5;28mself\u001b[39m\u001b[38;5;241m.\u001b[39m_A\u001b[38;5;241m.\u001b[39mndim \u001b[38;5;241m==\u001b[39m \u001b[38;5;241m3\u001b[39m \u001b[38;5;129;01mand\u001b[39;00m \u001b[38;5;28mself\u001b[39m\u001b[38;5;241m.\u001b[39m_A\u001b[38;5;241m.\u001b[39mshape[\u001b[38;5;241m-\u001b[39m\u001b[38;5;241m1\u001b[39m] \u001b[38;5;241m==\u001b[39m \u001b[38;5;241m1\u001b[39m:\n\u001b[1;32m    704\u001b[0m     \u001b[38;5;66;03m# If just one dimension assume scalar and apply colormap\u001b[39;00m\n\u001b[1;32m    705\u001b[0m     \u001b[38;5;28mself\u001b[39m\u001b[38;5;241m.\u001b[39m_A \u001b[38;5;241m=\u001b[39m \u001b[38;5;28mself\u001b[39m\u001b[38;5;241m.\u001b[39m_A[:, :, \u001b[38;5;241m0\u001b[39m]\n",
      "\u001b[0;31mTypeError\u001b[0m: Image data of dtype <U142 cannot be converted to float"
     ]
    },
    {
     "data": {
      "image/png": "[encoded data removed]",
      "text/plain": [
       "<Figure size 500x500 with 1 Axes>"
      ]
     },
     "metadata": {},
     "output_type": "display_data"
    }
   ],
   "source": [
    "import matplotlib.pyplot as plt\n",
    "plt.figure(figsize=(5, 5))\n",
    "plt.imshow(imageToPredict)\n",
    "plt.show()\n",
    "plt.close()\n",
    "# test_validation_folder = str(PROJECT_FOLDER) + '/datasets/dataset.voc/test_val/'\n",
    "\n",
    "# # Show all the detection result\n",
    "# for image in l_detection_result_image:\n",
    "#     plt.figure(figsize=(5, 5))\n",
    "#     plt.imshow(image)\n",
    "#     plt.show()\n",
    "#     # Save the image in the validation folder    \n",
    "#     plt.close()"
   ]
  }
 ],
 "metadata": {
  "kernelspec": {
   "display_name": ".venv",
   "language": "python",
   "name": "python3"
  },
  "language_info": {
   "codemirror_mode": {
    "name": "ipython",
    "version": 3
   },
   "file_extension": ".py",
   "mimetype": "text/x-python",
   "name": "python",
   "nbconvert_exporter": "python",
   "pygments_lexer": "ipython3",
   "version": "3.9.19"
  }
 },
 "nbformat": 4,
 "nbformat_minor": 2
}
