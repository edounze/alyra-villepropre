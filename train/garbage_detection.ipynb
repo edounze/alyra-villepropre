{
 "cells": [
  {
   "cell_type": "markdown",
   "metadata": {},
   "source": [
    "# Object detection with Keras and TS\n",
    "\n",
    "- Documentation : https://www.tensorflow.org/hub/tutorials/object_detection?hl=fr"
   ]
  },
  {
   "cell_type": "markdown",
   "metadata": {},
   "source": [
    "## Setup"
   ]
  },
  {
   "cell_type": "code",
   "execution_count": 20,
   "metadata": {},
   "outputs": [
    {
     "name": "stdout",
     "output_type": "stream",
     "text": [
      "Note: you may need to restart the kernel to use updated packages.\n",
      "Note: you may need to restart the kernel to use updated packages.\n",
      "Requirement already satisfied: opencv-python-headless==4.5.2.52 in /home/charles/web/alyra/villepropre/vp-server/.venv/lib/python3.9/site-packages (4.5.2.52)\n",
      "Requirement already satisfied: numpy>=1.19.3 in /home/charles/web/alyra/villepropre/vp-server/.venv/lib/python3.9/site-packages (from opencv-python-headless==4.5.2.52) (1.23.3)\n",
      "Note: you may need to restart the kernel to use updated packages.\n",
      "Requirement already satisfied: pycocotools in /home/charles/web/alyra/villepropre/vp-server/.venv/lib/python3.9/site-packages (2.0.7)\n",
      "Requirement already satisfied: matplotlib>=2.1.0 in /home/charles/web/alyra/villepropre/vp-server/.venv/lib/python3.9/site-packages (from pycocotools) (3.4.3)\n",
      "Requirement already satisfied: numpy in /home/charles/web/alyra/villepropre/vp-server/.venv/lib/python3.9/site-packages (from pycocotools) (1.23.3)\n",
      "Requirement already satisfied: cycler>=0.10 in /home/charles/web/alyra/villepropre/vp-server/.venv/lib/python3.9/site-packages (from matplotlib>=2.1.0->pycocotools) (0.12.1)\n",
      "Requirement already satisfied: kiwisolver>=1.0.1 in /home/charles/web/alyra/villepropre/vp-server/.venv/lib/python3.9/site-packages (from matplotlib>=2.1.0->pycocotools) (1.4.5)\n",
      "Requirement already satisfied: pillow>=6.2.0 in /home/charles/web/alyra/villepropre/vp-server/.venv/lib/python3.9/site-packages (from matplotlib>=2.1.0->pycocotools) (10.3.0)\n",
      "Requirement already satisfied: pyparsing>=2.2.1 in /home/charles/web/alyra/villepropre/vp-server/.venv/lib/python3.9/site-packages (from matplotlib>=2.1.0->pycocotools) (3.1.2)\n",
      "Requirement already satisfied: python-dateutil>=2.7 in /home/charles/web/alyra/villepropre/vp-server/.venv/lib/python3.9/site-packages (from matplotlib>=2.1.0->pycocotools) (2.9.0.post0)\n",
      "Requirement already satisfied: six>=1.5 in /home/charles/web/alyra/villepropre/vp-server/.venv/lib/python3.9/site-packages (from python-dateutil>=2.7->matplotlib>=2.1.0->pycocotools) (1.16.0)\n"
     ]
    }
   ],
   "source": [
    "%pip install -q tflite-model-maker\n",
    "%pip install -q tflite-support\n",
    "%pip install opencv-python-headless==4.5.2.52\n",
    "!pip3 install pycocotools\n",
    "\n",
    "\n",
    "\n",
    "try:\n",
    "# pylint: disable=g-import-not-at-top\n",
    "  from pycocotools.coco import COCO\n",
    "  from pycocotools.cocoeval import COCOeval\n",
    "# pylint: enable=g-import-not-at-top\n",
    "except ImportError:\n",
    "  print('Erreur')\n"
   ]
  },
  {
   "cell_type": "code",
   "execution_count": 21,
   "metadata": {},
   "outputs": [],
   "source": [
    "import numpy as np\n",
    "import os\n",
    "\n",
    "from tflite_model_maker.config import QuantizationConfig\n",
    "from tflite_model_maker.config import ExportFormat\n",
    "from tflite_model_maker import model_spec\n",
    "from tflite_model_maker import object_detector\n",
    "\n",
    "import tensorflow as tf\n",
    "assert tf.__version__.startswith('2')\n",
    "\n",
    "tf.get_logger().setLevel('ERROR')\n",
    "from absl import logging\n",
    "logging.set_verbosity(logging.ERROR)"
   ]
  },
  {
   "cell_type": "markdown",
   "metadata": {},
   "source": [
    "## Chargement du jeu de données"
   ]
  },
  {
   "cell_type": "code",
   "execution_count": 22,
   "metadata": {},
   "outputs": [],
   "source": [
    "train_folder = 'datasets/dataset.voc/train'\n",
    "val_folder = 'datasets/dataset.voc/valid'\n",
    "test_folder = 'datasets/dataset.voc/test'\n",
    "\n",
    "# These images are used to train the object detection model to recognize plastic and can\n",
    "train_data = object_detector.DataLoader.from_pascal_voc(\n",
    "    train_folder,\n",
    "    train_folder,\n",
    "    ['plastique','canette']\n",
    ")\n",
    "\n",
    "# These images are used to evaluate the model. \n",
    "# These are images that the model didn't see during the training process. You'll use them to decide when you should stop the training, to avoid overfitting.\n",
    "val_data = object_detector.DataLoader.from_pascal_voc(\n",
    "    val_folder,\n",
    "    val_folder,\n",
    "    # label_map={1: \"plastique\", 2: \"canette\"}\n",
    "    ['plastique','canette']\n",
    ")\n",
    "\n",
    "# These images are used to evaluate the final model performance.\n",
    "test_data = object_detector.DataLoader.from_pascal_voc(\n",
    "    test_folder,\n",
    "    test_folder,\n",
    "    ['plastique','canette']\n",
    ")"
   ]
  },
  {
   "cell_type": "markdown",
   "metadata": {},
   "source": [
    "## Mise en cache des données"
   ]
  },
  {
   "cell_type": "code",
   "execution_count": 23,
   "metadata": {},
   "outputs": [],
   "source": [
    "# AUTOTUNE = tf.data.AUTOTUNE\n",
    "\n",
    "# train_data = train_data.cache().shuffle(1000).prefetch(buffer_size=AUTOTUNE)\n",
    "# val_data = val_data.cache().prefetch(buffer_size=AUTOTUNE)"
   ]
  },
  {
   "cell_type": "markdown",
   "metadata": {},
   "source": [
    "## Selection du modèle"
   ]
  },
  {
   "cell_type": "code",
   "execution_count": 24,
   "metadata": {},
   "outputs": [],
   "source": [
    "# Liste des modèles possibles : https://www.tensorflow.org/lite/api_docs/python/tflite_model_maker/model_spec\n",
    "# spec = model_spec.get('mobilenet_v2')\n",
    "# spec = model_spec.get('efficientdet_lite4')\n",
    "\n",
    "verbose=1\n",
    "tflite_max_detections=2\n",
    "\n",
    "spec = model_spec.get('efficientdet_lite4')\n",
    "spec.tflite_max_detections=tflite_max_detections\n",
    "spec.verbose=verbose\n"
   ]
  },
  {
   "cell_type": "markdown",
   "metadata": {},
   "source": [
    "## Entrainement du modèle"
   ]
  },
  {
   "cell_type": "code",
   "execution_count": 25,
   "metadata": {},
   "outputs": [
    {
     "name": "stdout",
     "output_type": "stream",
     "text": [
      "Epoch 1/50\n"
     ]
    },
    {
     "name": "stderr",
     "output_type": "stream",
     "text": [
      "2024-04-15 14:50:17.777688: W tensorflow/core/framework/dataset.cc:768] Input of GeneratorDatasetOp::Dataset will not be optimized because the dataset does not implement the AsGraphDefInternal() method needed to apply optimizations.\n"
     ]
    },
    {
     "name": "stdout",
     "output_type": "stream",
     "text": [
      "21/21 [==============================] - ETA: 0s - det_loss: 1.7074 - cls_loss: 1.1199 - box_loss: 0.0117 - reg_l2_loss: 0.0063 - loss: 1.7137 - learning_rate: 0.0072 - gradient_norm: 0.8257"
     ]
    },
    {
     "name": "stderr",
     "output_type": "stream",
     "text": [
      "2024-04-15 14:51:30.468281: W tensorflow/core/framework/dataset.cc:768] Input of GeneratorDatasetOp::Dataset will not be optimized because the dataset does not implement the AsGraphDefInternal() method needed to apply optimizations.\n"
     ]
    },
    {
     "name": "stdout",
     "output_type": "stream",
     "text": [
      "21/21 [==============================] - 82s 3s/step - det_loss: 1.7033 - cls_loss: 1.1177 - box_loss: 0.0117 - reg_l2_loss: 0.0063 - loss: 1.7097 - learning_rate: 0.0071 - gradient_norm: 0.8229 - val_det_loss: 1.4439 - val_cls_loss: 1.0215 - val_box_loss: 0.0084 - val_reg_l2_loss: 0.0063 - val_loss: 1.4503\n",
      "Epoch 2/50\n",
      "21/21 [==============================] - ETA: 0s - det_loss: 1.3912 - cls_loss: 0.9343 - box_loss: 0.0091 - reg_l2_loss: 0.0064 - loss: 1.3975 - learning_rate: 0.0062 - gradient_norm: 1.1623"
     ]
    },
    {
     "name": "stderr",
     "output_type": "stream",
     "text": [
      "2024-04-15 14:52:21.566264: W tensorflow/core/framework/dataset.cc:768] Input of GeneratorDatasetOp::Dataset will not be optimized because the dataset does not implement the AsGraphDefInternal() method needed to apply optimizations.\n"
     ]
    },
    {
     "name": "stdout",
     "output_type": "stream",
     "text": [
      "21/21 [==============================] - 50s 2s/step - det_loss: 1.3855 - cls_loss: 0.9285 - box_loss: 0.0091 - reg_l2_loss: 0.0064 - loss: 1.3919 - learning_rate: 0.0062 - gradient_norm: 1.1591 - val_det_loss: 1.1980 - val_cls_loss: 0.8155 - val_box_loss: 0.0076 - val_reg_l2_loss: 0.0064 - val_loss: 1.2044\n",
      "Epoch 3/50\n",
      "21/21 [==============================] - ETA: 0s - det_loss: 1.1568 - cls_loss: 0.7412 - box_loss: 0.0083 - reg_l2_loss: 0.0064 - loss: 1.1632 - learning_rate: 0.0062 - gradient_norm: 1.4906"
     ]
    },
    {
     "name": "stderr",
     "output_type": "stream",
     "text": [
      "2024-04-15 14:53:22.785663: W tensorflow/core/framework/dataset.cc:768] Input of GeneratorDatasetOp::Dataset will not be optimized because the dataset does not implement the AsGraphDefInternal() method needed to apply optimizations.\n"
     ]
    },
    {
     "name": "stdout",
     "output_type": "stream",
     "text": [
      "21/21 [==============================] - 59s 3s/step - det_loss: 1.1592 - cls_loss: 0.7431 - box_loss: 0.0083 - reg_l2_loss: 0.0064 - loss: 1.1656 - learning_rate: 0.0062 - gradient_norm: 1.5082 - val_det_loss: 0.9758 - val_cls_loss: 0.6401 - val_box_loss: 0.0067 - val_reg_l2_loss: 0.0064 - val_loss: 0.9822\n",
      "Epoch 4/50\n",
      "21/21 [==============================] - ETA: 0s - det_loss: 0.9967 - cls_loss: 0.6417 - box_loss: 0.0071 - reg_l2_loss: 0.0064 - loss: 1.0031 - learning_rate: 0.0062 - gradient_norm: 1.5728"
     ]
    },
    {
     "name": "stderr",
     "output_type": "stream",
     "text": [
      "2024-04-15 14:54:16.995818: W tensorflow/core/framework/dataset.cc:768] Input of GeneratorDatasetOp::Dataset will not be optimized because the dataset does not implement the AsGraphDefInternal() method needed to apply optimizations.\n"
     ]
    },
    {
     "name": "stdout",
     "output_type": "stream",
     "text": [
      "21/21 [==============================] - 55s 3s/step - det_loss: 0.9901 - cls_loss: 0.6365 - box_loss: 0.0071 - reg_l2_loss: 0.0064 - loss: 0.9965 - learning_rate: 0.0062 - gradient_norm: 1.5599 - val_det_loss: 1.0183 - val_cls_loss: 0.6235 - val_box_loss: 0.0079 - val_reg_l2_loss: 0.0064 - val_loss: 1.0247\n",
      "Epoch 5/50\n",
      "21/21 [==============================] - ETA: 0s - det_loss: 0.9546 - cls_loss: 0.6116 - box_loss: 0.0069 - reg_l2_loss: 0.0064 - loss: 0.9610 - learning_rate: 0.0061 - gradient_norm: 1.6620"
     ]
    },
    {
     "name": "stderr",
     "output_type": "stream",
     "text": [
      "2024-04-15 14:55:08.135810: W tensorflow/core/framework/dataset.cc:768] Input of GeneratorDatasetOp::Dataset will not be optimized because the dataset does not implement the AsGraphDefInternal() method needed to apply optimizations.\n"
     ]
    },
    {
     "name": "stdout",
     "output_type": "stream",
     "text": [
      "21/21 [==============================] - 60s 3s/step - det_loss: 0.9533 - cls_loss: 0.6119 - box_loss: 0.0068 - reg_l2_loss: 0.0064 - loss: 0.9597 - learning_rate: 0.0061 - gradient_norm: 1.6531 - val_det_loss: 0.9176 - val_cls_loss: 0.5401 - val_box_loss: 0.0075 - val_reg_l2_loss: 0.0064 - val_loss: 0.9240\n",
      "Epoch 6/50\n",
      "21/21 [==============================] - ETA: 0s - det_loss: 0.9020 - cls_loss: 0.5662 - box_loss: 0.0067 - reg_l2_loss: 0.0064 - loss: 0.9084 - learning_rate: 0.0061 - gradient_norm: 1.4997"
     ]
    },
    {
     "name": "stderr",
     "output_type": "stream",
     "text": [
      "2024-04-15 14:56:05.850965: W tensorflow/core/framework/dataset.cc:768] Input of GeneratorDatasetOp::Dataset will not be optimized because the dataset does not implement the AsGraphDefInternal() method needed to apply optimizations.\n"
     ]
    },
    {
     "name": "stdout",
     "output_type": "stream",
     "text": [
      "21/21 [==============================] - 48s 2s/step - det_loss: 0.9109 - cls_loss: 0.5703 - box_loss: 0.0068 - reg_l2_loss: 0.0064 - loss: 0.9173 - learning_rate: 0.0061 - gradient_norm: 1.4960 - val_det_loss: 0.8959 - val_cls_loss: 0.5136 - val_box_loss: 0.0076 - val_reg_l2_loss: 0.0064 - val_loss: 0.9024\n",
      "Epoch 7/50\n",
      "21/21 [==============================] - ETA: 0s - det_loss: 0.8598 - cls_loss: 0.5539 - box_loss: 0.0061 - reg_l2_loss: 0.0064 - loss: 0.8663 - learning_rate: 0.0060 - gradient_norm: 1.7720"
     ]
    },
    {
     "name": "stderr",
     "output_type": "stream",
     "text": [
      "2024-04-15 14:56:54.990984: W tensorflow/core/framework/dataset.cc:768] Input of GeneratorDatasetOp::Dataset will not be optimized because the dataset does not implement the AsGraphDefInternal() method needed to apply optimizations.\n"
     ]
    },
    {
     "name": "stdout",
     "output_type": "stream",
     "text": [
      "21/21 [==============================] - 50s 2s/step - det_loss: 0.8533 - cls_loss: 0.5514 - box_loss: 0.0060 - reg_l2_loss: 0.0064 - loss: 0.8598 - learning_rate: 0.0060 - gradient_norm: 1.7593 - val_det_loss: 0.8711 - val_cls_loss: 0.5262 - val_box_loss: 0.0069 - val_reg_l2_loss: 0.0064 - val_loss: 0.8775\n",
      "Epoch 8/50\n",
      "21/21 [==============================] - ETA: 0s - det_loss: 0.8176 - cls_loss: 0.5167 - box_loss: 0.0060 - reg_l2_loss: 0.0064 - loss: 0.8240 - learning_rate: 0.0059 - gradient_norm: 1.7003"
     ]
    },
    {
     "name": "stderr",
     "output_type": "stream",
     "text": [
      "2024-04-15 14:57:49.568173: W tensorflow/core/framework/dataset.cc:768] Input of GeneratorDatasetOp::Dataset will not be optimized because the dataset does not implement the AsGraphDefInternal() method needed to apply optimizations.\n"
     ]
    },
    {
     "name": "stdout",
     "output_type": "stream",
     "text": [
      "21/21 [==============================] - 55s 3s/step - det_loss: 0.8261 - cls_loss: 0.5227 - box_loss: 0.0061 - reg_l2_loss: 0.0064 - loss: 0.8325 - learning_rate: 0.0059 - gradient_norm: 1.6971 - val_det_loss: 0.9610 - val_cls_loss: 0.5999 - val_box_loss: 0.0072 - val_reg_l2_loss: 0.0064 - val_loss: 0.9674\n",
      "Epoch 9/50\n",
      "21/21 [==============================] - ETA: 0s - det_loss: 0.8622 - cls_loss: 0.5406 - box_loss: 0.0064 - reg_l2_loss: 0.0064 - loss: 0.8686 - learning_rate: 0.0058 - gradient_norm: 2.0745"
     ]
    },
    {
     "name": "stderr",
     "output_type": "stream",
     "text": [
      "2024-04-15 14:58:40.002144: W tensorflow/core/framework/dataset.cc:768] Input of GeneratorDatasetOp::Dataset will not be optimized because the dataset does not implement the AsGraphDefInternal() method needed to apply optimizations.\n"
     ]
    },
    {
     "name": "stdout",
     "output_type": "stream",
     "text": [
      "21/21 [==============================] - 55s 3s/step - det_loss: 0.8613 - cls_loss: 0.5398 - box_loss: 0.0064 - reg_l2_loss: 0.0064 - loss: 0.8678 - learning_rate: 0.0058 - gradient_norm: 2.0633 - val_det_loss: 0.8370 - val_cls_loss: 0.5030 - val_box_loss: 0.0067 - val_reg_l2_loss: 0.0064 - val_loss: 0.8434\n",
      "Epoch 10/50\n",
      "21/21 [==============================] - ETA: 0s - det_loss: 0.7692 - cls_loss: 0.4865 - box_loss: 0.0057 - reg_l2_loss: 0.0064 - loss: 0.7757 - learning_rate: 0.0057 - gradient_norm: 1.5975"
     ]
    },
    {
     "name": "stderr",
     "output_type": "stream",
     "text": [
      "2024-04-15 14:59:36.556213: W tensorflow/core/framework/dataset.cc:768] Input of GeneratorDatasetOp::Dataset will not be optimized because the dataset does not implement the AsGraphDefInternal() method needed to apply optimizations.\n"
     ]
    },
    {
     "name": "stdout",
     "output_type": "stream",
     "text": [
      "21/21 [==============================] - 60s 3s/step - det_loss: 0.7642 - cls_loss: 0.4831 - box_loss: 0.0056 - reg_l2_loss: 0.0064 - loss: 0.7706 - learning_rate: 0.0057 - gradient_norm: 1.5799 - val_det_loss: 0.8705 - val_cls_loss: 0.5175 - val_box_loss: 0.0071 - val_reg_l2_loss: 0.0064 - val_loss: 0.8769\n",
      "Epoch 11/50\n",
      "21/21 [==============================] - ETA: 0s - det_loss: 0.7833 - cls_loss: 0.5042 - box_loss: 0.0056 - reg_l2_loss: 0.0064 - loss: 0.7898 - learning_rate: 0.0056 - gradient_norm: 1.7205"
     ]
    },
    {
     "name": "stderr",
     "output_type": "stream",
     "text": [
      "2024-04-15 15:00:36.300464: W tensorflow/core/framework/dataset.cc:768] Input of GeneratorDatasetOp::Dataset will not be optimized because the dataset does not implement the AsGraphDefInternal() method needed to apply optimizations.\n"
     ]
    },
    {
     "name": "stdout",
     "output_type": "stream",
     "text": [
      "21/21 [==============================] - 52s 2s/step - det_loss: 0.7880 - cls_loss: 0.5078 - box_loss: 0.0056 - reg_l2_loss: 0.0064 - loss: 0.7944 - learning_rate: 0.0056 - gradient_norm: 1.7130 - val_det_loss: 0.8664 - val_cls_loss: 0.5073 - val_box_loss: 0.0072 - val_reg_l2_loss: 0.0064 - val_loss: 0.8728\n",
      "Epoch 12/50\n",
      "21/21 [==============================] - ETA: 0s - det_loss: 0.7429 - cls_loss: 0.4630 - box_loss: 0.0056 - reg_l2_loss: 0.0064 - loss: 0.7494 - learning_rate: 0.0054 - gradient_norm: 1.6419"
     ]
    },
    {
     "name": "stderr",
     "output_type": "stream",
     "text": [
      "2024-04-15 15:01:27.342758: W tensorflow/core/framework/dataset.cc:768] Input of GeneratorDatasetOp::Dataset will not be optimized because the dataset does not implement the AsGraphDefInternal() method needed to apply optimizations.\n"
     ]
    },
    {
     "name": "stdout",
     "output_type": "stream",
     "text": [
      "21/21 [==============================] - 51s 2s/step - det_loss: 0.7430 - cls_loss: 0.4632 - box_loss: 0.0056 - reg_l2_loss: 0.0064 - loss: 0.7495 - learning_rate: 0.0054 - gradient_norm: 1.6537 - val_det_loss: 0.8737 - val_cls_loss: 0.5005 - val_box_loss: 0.0075 - val_reg_l2_loss: 0.0064 - val_loss: 0.8801\n",
      "Epoch 13/50\n",
      "21/21 [==============================] - ETA: 0s - det_loss: 0.7517 - cls_loss: 0.4744 - box_loss: 0.0055 - reg_l2_loss: 0.0065 - loss: 0.7581 - learning_rate: 0.0053 - gradient_norm: 1.6635"
     ]
    },
    {
     "name": "stderr",
     "output_type": "stream",
     "text": [
      "2024-04-15 15:02:20.277761: W tensorflow/core/framework/dataset.cc:768] Input of GeneratorDatasetOp::Dataset will not be optimized because the dataset does not implement the AsGraphDefInternal() method needed to apply optimizations.\n"
     ]
    },
    {
     "name": "stdout",
     "output_type": "stream",
     "text": [
      "21/21 [==============================] - 53s 3s/step - det_loss: 0.7516 - cls_loss: 0.4734 - box_loss: 0.0056 - reg_l2_loss: 0.0065 - loss: 0.7580 - learning_rate: 0.0053 - gradient_norm: 1.6707 - val_det_loss: 0.8680 - val_cls_loss: 0.5188 - val_box_loss: 0.0070 - val_reg_l2_loss: 0.0065 - val_loss: 0.8744\n",
      "Epoch 14/50\n",
      "21/21 [==============================] - ETA: 0s - det_loss: 0.6980 - cls_loss: 0.4542 - box_loss: 0.0049 - reg_l2_loss: 0.0065 - loss: 0.7044 - learning_rate: 0.0052 - gradient_norm: 1.6985"
     ]
    },
    {
     "name": "stderr",
     "output_type": "stream",
     "text": [
      "2024-04-15 15:03:07.734327: W tensorflow/core/framework/dataset.cc:768] Input of GeneratorDatasetOp::Dataset will not be optimized because the dataset does not implement the AsGraphDefInternal() method needed to apply optimizations.\n"
     ]
    },
    {
     "name": "stdout",
     "output_type": "stream",
     "text": [
      "21/21 [==============================] - 47s 2s/step - det_loss: 0.6979 - cls_loss: 0.4544 - box_loss: 0.0049 - reg_l2_loss: 0.0065 - loss: 0.7044 - learning_rate: 0.0052 - gradient_norm: 1.7024 - val_det_loss: 0.8913 - val_cls_loss: 0.5185 - val_box_loss: 0.0075 - val_reg_l2_loss: 0.0065 - val_loss: 0.8978\n",
      "Epoch 15/50\n",
      "21/21 [==============================] - ETA: 0s - det_loss: 0.6768 - cls_loss: 0.4299 - box_loss: 0.0049 - reg_l2_loss: 0.0065 - loss: 0.6832 - learning_rate: 0.0050 - gradient_norm: 1.6683"
     ]
    },
    {
     "name": "stderr",
     "output_type": "stream",
     "text": [
      "2024-04-15 15:03:56.434400: W tensorflow/core/framework/dataset.cc:768] Input of GeneratorDatasetOp::Dataset will not be optimized because the dataset does not implement the AsGraphDefInternal() method needed to apply optimizations.\n"
     ]
    },
    {
     "name": "stdout",
     "output_type": "stream",
     "text": [
      "21/21 [==============================] - 56s 3s/step - det_loss: 0.6775 - cls_loss: 0.4310 - box_loss: 0.0049 - reg_l2_loss: 0.0065 - loss: 0.6839 - learning_rate: 0.0050 - gradient_norm: 1.6591 - val_det_loss: 0.8095 - val_cls_loss: 0.4946 - val_box_loss: 0.0063 - val_reg_l2_loss: 0.0065 - val_loss: 0.8160\n",
      "Epoch 16/50\n",
      "21/21 [==============================] - ETA: 0s - det_loss: 0.7313 - cls_loss: 0.4654 - box_loss: 0.0053 - reg_l2_loss: 0.0065 - loss: 0.7377 - learning_rate: 0.0048 - gradient_norm: 1.8797"
     ]
    },
    {
     "name": "stderr",
     "output_type": "stream",
     "text": [
      "2024-04-15 15:04:52.216885: W tensorflow/core/framework/dataset.cc:768] Input of GeneratorDatasetOp::Dataset will not be optimized because the dataset does not implement the AsGraphDefInternal() method needed to apply optimizations.\n"
     ]
    },
    {
     "name": "stdout",
     "output_type": "stream",
     "text": [
      "21/21 [==============================] - 49s 2s/step - det_loss: 0.7293 - cls_loss: 0.4659 - box_loss: 0.0053 - reg_l2_loss: 0.0065 - loss: 0.7358 - learning_rate: 0.0048 - gradient_norm: 1.9092 - val_det_loss: 0.7877 - val_cls_loss: 0.4779 - val_box_loss: 0.0062 - val_reg_l2_loss: 0.0065 - val_loss: 0.7942\n",
      "Epoch 17/50\n",
      "21/21 [==============================] - ETA: 0s - det_loss: 0.7100 - cls_loss: 0.4448 - box_loss: 0.0053 - reg_l2_loss: 0.0065 - loss: 0.7164 - learning_rate: 0.0047 - gradient_norm: 1.7368"
     ]
    },
    {
     "name": "stderr",
     "output_type": "stream",
     "text": [
      "2024-04-15 15:05:46.392009: W tensorflow/core/framework/dataset.cc:768] Input of GeneratorDatasetOp::Dataset will not be optimized because the dataset does not implement the AsGraphDefInternal() method needed to apply optimizations.\n"
     ]
    },
    {
     "name": "stdout",
     "output_type": "stream",
     "text": [
      "21/21 [==============================] - 55s 3s/step - det_loss: 0.7183 - cls_loss: 0.4489 - box_loss: 0.0054 - reg_l2_loss: 0.0065 - loss: 0.7248 - learning_rate: 0.0047 - gradient_norm: 1.7378 - val_det_loss: 0.8171 - val_cls_loss: 0.4897 - val_box_loss: 0.0065 - val_reg_l2_loss: 0.0065 - val_loss: 0.8235\n",
      "Epoch 18/50\n",
      "21/21 [==============================] - ETA: 0s - det_loss: 0.6687 - cls_loss: 0.4201 - box_loss: 0.0050 - reg_l2_loss: 0.0065 - loss: 0.6752 - learning_rate: 0.0045 - gradient_norm: 1.6325"
     ]
    },
    {
     "name": "stderr",
     "output_type": "stream",
     "text": [
      "2024-04-15 15:06:42.958258: W tensorflow/core/framework/dataset.cc:768] Input of GeneratorDatasetOp::Dataset will not be optimized because the dataset does not implement the AsGraphDefInternal() method needed to apply optimizations.\n"
     ]
    },
    {
     "name": "stdout",
     "output_type": "stream",
     "text": [
      "21/21 [==============================] - 56s 3s/step - det_loss: 0.6748 - cls_loss: 0.4228 - box_loss: 0.0050 - reg_l2_loss: 0.0065 - loss: 0.6813 - learning_rate: 0.0045 - gradient_norm: 1.6283 - val_det_loss: 0.8172 - val_cls_loss: 0.4768 - val_box_loss: 0.0068 - val_reg_l2_loss: 0.0065 - val_loss: 0.8237\n",
      "Epoch 19/50\n",
      "21/21 [==============================] - ETA: 0s - det_loss: 0.7314 - cls_loss: 0.4614 - box_loss: 0.0054 - reg_l2_loss: 0.0065 - loss: 0.7379 - learning_rate: 0.0043 - gradient_norm: 2.0841"
     ]
    },
    {
     "name": "stderr",
     "output_type": "stream",
     "text": [
      "2024-04-15 15:07:31.805103: W tensorflow/core/framework/dataset.cc:768] Input of GeneratorDatasetOp::Dataset will not be optimized because the dataset does not implement the AsGraphDefInternal() method needed to apply optimizations.\n"
     ]
    },
    {
     "name": "stdout",
     "output_type": "stream",
     "text": [
      "21/21 [==============================] - 49s 2s/step - det_loss: 0.7257 - cls_loss: 0.4564 - box_loss: 0.0054 - reg_l2_loss: 0.0065 - loss: 0.7322 - learning_rate: 0.0043 - gradient_norm: 2.0654 - val_det_loss: 0.8399 - val_cls_loss: 0.5062 - val_box_loss: 0.0067 - val_reg_l2_loss: 0.0065 - val_loss: 0.8464\n",
      "Epoch 20/50\n",
      "21/21 [==============================] - ETA: 0s - det_loss: 0.6749 - cls_loss: 0.4254 - box_loss: 0.0050 - reg_l2_loss: 0.0065 - loss: 0.6814 - learning_rate: 0.0041 - gradient_norm: 1.7494"
     ]
    },
    {
     "name": "stderr",
     "output_type": "stream",
     "text": [
      "2024-04-15 15:08:20.688366: W tensorflow/core/framework/dataset.cc:768] Input of GeneratorDatasetOp::Dataset will not be optimized because the dataset does not implement the AsGraphDefInternal() method needed to apply optimizations.\n"
     ]
    },
    {
     "name": "stdout",
     "output_type": "stream",
     "text": [
      "21/21 [==============================] - 56s 3s/step - det_loss: 0.6714 - cls_loss: 0.4221 - box_loss: 0.0050 - reg_l2_loss: 0.0065 - loss: 0.6779 - learning_rate: 0.0041 - gradient_norm: 1.7313 - val_det_loss: 0.8211 - val_cls_loss: 0.4883 - val_box_loss: 0.0067 - val_reg_l2_loss: 0.0065 - val_loss: 0.8275\n",
      "Epoch 21/50\n",
      "21/21 [==============================] - ETA: 0s - det_loss: 0.7291 - cls_loss: 0.4712 - box_loss: 0.0052 - reg_l2_loss: 0.0065 - loss: 0.7356 - learning_rate: 0.0039 - gradient_norm: 2.0002"
     ]
    },
    {
     "name": "stderr",
     "output_type": "stream",
     "text": [
      "2024-04-15 15:09:15.917050: W tensorflow/core/framework/dataset.cc:768] Input of GeneratorDatasetOp::Dataset will not be optimized because the dataset does not implement the AsGraphDefInternal() method needed to apply optimizations.\n"
     ]
    },
    {
     "name": "stdout",
     "output_type": "stream",
     "text": [
      "21/21 [==============================] - 50s 2s/step - det_loss: 0.7283 - cls_loss: 0.4709 - box_loss: 0.0051 - reg_l2_loss: 0.0065 - loss: 0.7348 - learning_rate: 0.0039 - gradient_norm: 1.9977 - val_det_loss: 0.9022 - val_cls_loss: 0.5552 - val_box_loss: 0.0069 - val_reg_l2_loss: 0.0065 - val_loss: 0.9087\n",
      "Epoch 22/50\n",
      "21/21 [==============================] - ETA: 0s - det_loss: 0.6973 - cls_loss: 0.4426 - box_loss: 0.0051 - reg_l2_loss: 0.0065 - loss: 0.7038 - learning_rate: 0.0037 - gradient_norm: 1.8853"
     ]
    },
    {
     "name": "stderr",
     "output_type": "stream",
     "text": [
      "2024-04-15 15:10:04.480272: W tensorflow/core/framework/dataset.cc:768] Input of GeneratorDatasetOp::Dataset will not be optimized because the dataset does not implement the AsGraphDefInternal() method needed to apply optimizations.\n"
     ]
    },
    {
     "name": "stdout",
     "output_type": "stream",
     "text": [
      "21/21 [==============================] - 47s 2s/step - det_loss: 0.6884 - cls_loss: 0.4379 - box_loss: 0.0050 - reg_l2_loss: 0.0065 - loss: 0.6949 - learning_rate: 0.0037 - gradient_norm: 1.8806 - val_det_loss: 0.7908 - val_cls_loss: 0.4819 - val_box_loss: 0.0062 - val_reg_l2_loss: 0.0065 - val_loss: 0.7973\n",
      "Epoch 23/50\n",
      "21/21 [==============================] - ETA: 0s - det_loss: 0.6641 - cls_loss: 0.4212 - box_loss: 0.0049 - reg_l2_loss: 0.0065 - loss: 0.6705 - learning_rate: 0.0035 - gradient_norm: 1.7160"
     ]
    },
    {
     "name": "stderr",
     "output_type": "stream",
     "text": [
      "2024-04-15 15:10:51.207727: W tensorflow/core/framework/dataset.cc:768] Input of GeneratorDatasetOp::Dataset will not be optimized because the dataset does not implement the AsGraphDefInternal() method needed to apply optimizations.\n"
     ]
    },
    {
     "name": "stdout",
     "output_type": "stream",
     "text": [
      "21/21 [==============================] - 47s 2s/step - det_loss: 0.6583 - cls_loss: 0.4172 - box_loss: 0.0048 - reg_l2_loss: 0.0065 - loss: 0.6648 - learning_rate: 0.0035 - gradient_norm: 1.6994 - val_det_loss: 0.8131 - val_cls_loss: 0.4981 - val_box_loss: 0.0063 - val_reg_l2_loss: 0.0065 - val_loss: 0.8196\n",
      "Epoch 24/50\n",
      "21/21 [==============================] - ETA: 0s - det_loss: 0.6525 - cls_loss: 0.4136 - box_loss: 0.0048 - reg_l2_loss: 0.0065 - loss: 0.6590 - learning_rate: 0.0033 - gradient_norm: 1.7323"
     ]
    },
    {
     "name": "stderr",
     "output_type": "stream",
     "text": [
      "2024-04-15 15:11:37.979836: W tensorflow/core/framework/dataset.cc:768] Input of GeneratorDatasetOp::Dataset will not be optimized because the dataset does not implement the AsGraphDefInternal() method needed to apply optimizations.\n"
     ]
    },
    {
     "name": "stdout",
     "output_type": "stream",
     "text": [
      "21/21 [==============================] - 46s 2s/step - det_loss: 0.6562 - cls_loss: 0.4181 - box_loss: 0.0048 - reg_l2_loss: 0.0065 - loss: 0.6627 - learning_rate: 0.0033 - gradient_norm: 1.7403 - val_det_loss: 0.7554 - val_cls_loss: 0.4658 - val_box_loss: 0.0058 - val_reg_l2_loss: 0.0065 - val_loss: 0.7619\n",
      "Epoch 25/50\n",
      "21/21 [==============================] - ETA: 0s - det_loss: 0.6733 - cls_loss: 0.4237 - box_loss: 0.0050 - reg_l2_loss: 0.0065 - loss: 0.6798 - learning_rate: 0.0031 - gradient_norm: 1.8475"
     ]
    },
    {
     "name": "stderr",
     "output_type": "stream",
     "text": [
      "2024-04-15 15:12:25.363576: W tensorflow/core/framework/dataset.cc:768] Input of GeneratorDatasetOp::Dataset will not be optimized because the dataset does not implement the AsGraphDefInternal() method needed to apply optimizations.\n"
     ]
    },
    {
     "name": "stdout",
     "output_type": "stream",
     "text": [
      "21/21 [==============================] - 55s 3s/step - det_loss: 0.6785 - cls_loss: 0.4243 - box_loss: 0.0051 - reg_l2_loss: 0.0065 - loss: 0.6850 - learning_rate: 0.0031 - gradient_norm: 1.8674 - val_det_loss: 0.7623 - val_cls_loss: 0.4519 - val_box_loss: 0.0062 - val_reg_l2_loss: 0.0065 - val_loss: 0.7688\n",
      "Epoch 26/50\n",
      "21/21 [==============================] - ETA: 0s - det_loss: 0.6659 - cls_loss: 0.4212 - box_loss: 0.0049 - reg_l2_loss: 0.0065 - loss: 0.6724 - learning_rate: 0.0029 - gradient_norm: 1.9194"
     ]
    },
    {
     "name": "stderr",
     "output_type": "stream",
     "text": [
      "2024-04-15 15:13:21.822262: W tensorflow/core/framework/dataset.cc:768] Input of GeneratorDatasetOp::Dataset will not be optimized because the dataset does not implement the AsGraphDefInternal() method needed to apply optimizations.\n"
     ]
    },
    {
     "name": "stdout",
     "output_type": "stream",
     "text": [
      "21/21 [==============================] - 50s 2s/step - det_loss: 0.6644 - cls_loss: 0.4226 - box_loss: 0.0048 - reg_l2_loss: 0.0065 - loss: 0.6709 - learning_rate: 0.0029 - gradient_norm: 1.9161 - val_det_loss: 0.7788 - val_cls_loss: 0.4753 - val_box_loss: 0.0061 - val_reg_l2_loss: 0.0065 - val_loss: 0.7853\n",
      "Epoch 27/50\n",
      "21/21 [==============================] - ETA: 0s - det_loss: 0.6293 - cls_loss: 0.3994 - box_loss: 0.0046 - reg_l2_loss: 0.0065 - loss: 0.6358 - learning_rate: 0.0027 - gradient_norm: 1.7518"
     ]
    },
    {
     "name": "stderr",
     "output_type": "stream",
     "text": [
      "2024-04-15 15:14:14.520143: W tensorflow/core/framework/dataset.cc:768] Input of GeneratorDatasetOp::Dataset will not be optimized because the dataset does not implement the AsGraphDefInternal() method needed to apply optimizations.\n"
     ]
    },
    {
     "name": "stdout",
     "output_type": "stream",
     "text": [
      "21/21 [==============================] - 54s 3s/step - det_loss: 0.6280 - cls_loss: 0.3975 - box_loss: 0.0046 - reg_l2_loss: 0.0065 - loss: 0.6345 - learning_rate: 0.0027 - gradient_norm: 1.7546 - val_det_loss: 0.7797 - val_cls_loss: 0.4599 - val_box_loss: 0.0064 - val_reg_l2_loss: 0.0065 - val_loss: 0.7862\n",
      "Epoch 28/50\n",
      "21/21 [==============================] - ETA: 0s - det_loss: 0.6567 - cls_loss: 0.4160 - box_loss: 0.0048 - reg_l2_loss: 0.0065 - loss: 0.6632 - learning_rate: 0.0025 - gradient_norm: 1.9316"
     ]
    },
    {
     "name": "stderr",
     "output_type": "stream",
     "text": [
      "2024-04-15 15:15:11.404534: W tensorflow/core/framework/dataset.cc:768] Input of GeneratorDatasetOp::Dataset will not be optimized because the dataset does not implement the AsGraphDefInternal() method needed to apply optimizations.\n"
     ]
    },
    {
     "name": "stdout",
     "output_type": "stream",
     "text": [
      "21/21 [==============================] - 54s 3s/step - det_loss: 0.6506 - cls_loss: 0.4126 - box_loss: 0.0048 - reg_l2_loss: 0.0065 - loss: 0.6571 - learning_rate: 0.0025 - gradient_norm: 1.9535 - val_det_loss: 0.7860 - val_cls_loss: 0.4594 - val_box_loss: 0.0065 - val_reg_l2_loss: 0.0065 - val_loss: 0.7925\n",
      "Epoch 29/50\n",
      "21/21 [==============================] - ETA: 0s - det_loss: 0.6637 - cls_loss: 0.4148 - box_loss: 0.0050 - reg_l2_loss: 0.0065 - loss: 0.6702 - learning_rate: 0.0023 - gradient_norm: 1.8073"
     ]
    },
    {
     "name": "stderr",
     "output_type": "stream",
     "text": [
      "2024-04-15 15:15:58.097382: W tensorflow/core/framework/dataset.cc:768] Input of GeneratorDatasetOp::Dataset will not be optimized because the dataset does not implement the AsGraphDefInternal() method needed to apply optimizations.\n"
     ]
    },
    {
     "name": "stdout",
     "output_type": "stream",
     "text": [
      "21/21 [==============================] - 46s 2s/step - det_loss: 0.6587 - cls_loss: 0.4132 - box_loss: 0.0049 - reg_l2_loss: 0.0065 - loss: 0.6652 - learning_rate: 0.0023 - gradient_norm: 1.8040 - val_det_loss: 0.7884 - val_cls_loss: 0.4592 - val_box_loss: 0.0066 - val_reg_l2_loss: 0.0065 - val_loss: 0.7949\n",
      "Epoch 30/50\n",
      "21/21 [==============================] - ETA: 0s - det_loss: 0.7128 - cls_loss: 0.4270 - box_loss: 0.0057 - reg_l2_loss: 0.0065 - loss: 0.7193 - learning_rate: 0.0021 - gradient_norm: 2.0325"
     ]
    },
    {
     "name": "stderr",
     "output_type": "stream",
     "text": [
      "2024-04-15 15:16:43.753395: W tensorflow/core/framework/dataset.cc:768] Input of GeneratorDatasetOp::Dataset will not be optimized because the dataset does not implement the AsGraphDefInternal() method needed to apply optimizations.\n"
     ]
    },
    {
     "name": "stdout",
     "output_type": "stream",
     "text": [
      "21/21 [==============================] - 52s 3s/step - det_loss: 0.7232 - cls_loss: 0.4292 - box_loss: 0.0059 - reg_l2_loss: 0.0065 - loss: 0.7297 - learning_rate: 0.0021 - gradient_norm: 2.0672 - val_det_loss: 0.7711 - val_cls_loss: 0.4686 - val_box_loss: 0.0061 - val_reg_l2_loss: 0.0065 - val_loss: 0.7776\n",
      "Epoch 31/50\n",
      "21/21 [==============================] - ETA: 0s - det_loss: 0.6629 - cls_loss: 0.4262 - box_loss: 0.0047 - reg_l2_loss: 0.0065 - loss: 0.6694 - learning_rate: 0.0020 - gradient_norm: 1.9772"
     ]
    },
    {
     "name": "stderr",
     "output_type": "stream",
     "text": [
      "2024-04-15 15:17:36.440810: W tensorflow/core/framework/dataset.cc:768] Input of GeneratorDatasetOp::Dataset will not be optimized because the dataset does not implement the AsGraphDefInternal() method needed to apply optimizations.\n"
     ]
    },
    {
     "name": "stdout",
     "output_type": "stream",
     "text": [
      "21/21 [==============================] - 46s 2s/step - det_loss: 0.6596 - cls_loss: 0.4232 - box_loss: 0.0047 - reg_l2_loss: 0.0065 - loss: 0.6661 - learning_rate: 0.0020 - gradient_norm: 1.9543 - val_det_loss: 0.7607 - val_cls_loss: 0.4582 - val_box_loss: 0.0061 - val_reg_l2_loss: 0.0065 - val_loss: 0.7673\n",
      "Epoch 32/50\n",
      "21/21 [==============================] - ETA: 0s - det_loss: 0.6553 - cls_loss: 0.4163 - box_loss: 0.0048 - reg_l2_loss: 0.0065 - loss: 0.6618 - learning_rate: 0.0018 - gradient_norm: 1.9730"
     ]
    },
    {
     "name": "stderr",
     "output_type": "stream",
     "text": [
      "2024-04-15 15:18:23.745768: W tensorflow/core/framework/dataset.cc:768] Input of GeneratorDatasetOp::Dataset will not be optimized because the dataset does not implement the AsGraphDefInternal() method needed to apply optimizations.\n"
     ]
    },
    {
     "name": "stdout",
     "output_type": "stream",
     "text": [
      "21/21 [==============================] - 47s 2s/step - det_loss: 0.6618 - cls_loss: 0.4237 - box_loss: 0.0048 - reg_l2_loss: 0.0065 - loss: 0.6683 - learning_rate: 0.0018 - gradient_norm: 1.9751 - val_det_loss: 0.7695 - val_cls_loss: 0.4575 - val_box_loss: 0.0062 - val_reg_l2_loss: 0.0065 - val_loss: 0.7760\n",
      "Epoch 33/50\n",
      "21/21 [==============================] - ETA: 0s - det_loss: 0.6331 - cls_loss: 0.4014 - box_loss: 0.0046 - reg_l2_loss: 0.0065 - loss: 0.6396 - learning_rate: 0.0016 - gradient_norm: 1.8780"
     ]
    },
    {
     "name": "stderr",
     "output_type": "stream",
     "text": [
      "2024-04-15 15:19:14.000379: W tensorflow/core/framework/dataset.cc:768] Input of GeneratorDatasetOp::Dataset will not be optimized because the dataset does not implement the AsGraphDefInternal() method needed to apply optimizations.\n"
     ]
    },
    {
     "name": "stdout",
     "output_type": "stream",
     "text": [
      "21/21 [==============================] - 50s 2s/step - det_loss: 0.6247 - cls_loss: 0.3979 - box_loss: 0.0045 - reg_l2_loss: 0.0065 - loss: 0.6312 - learning_rate: 0.0016 - gradient_norm: 1.8581 - val_det_loss: 0.7379 - val_cls_loss: 0.4379 - val_box_loss: 0.0060 - val_reg_l2_loss: 0.0065 - val_loss: 0.7444\n",
      "Epoch 34/50\n",
      "21/21 [==============================] - ETA: 0s - det_loss: 0.6658 - cls_loss: 0.4189 - box_loss: 0.0049 - reg_l2_loss: 0.0065 - loss: 0.6724 - learning_rate: 0.0014 - gradient_norm: 1.8401"
     ]
    },
    {
     "name": "stderr",
     "output_type": "stream",
     "text": [
      "2024-04-15 15:19:58.723084: W tensorflow/core/framework/dataset.cc:768] Input of GeneratorDatasetOp::Dataset will not be optimized because the dataset does not implement the AsGraphDefInternal() method needed to apply optimizations.\n"
     ]
    },
    {
     "name": "stdout",
     "output_type": "stream",
     "text": [
      "21/21 [==============================] - 46s 2s/step - det_loss: 0.6672 - cls_loss: 0.4194 - box_loss: 0.0050 - reg_l2_loss: 0.0065 - loss: 0.6737 - learning_rate: 0.0014 - gradient_norm: 1.8559 - val_det_loss: 0.7471 - val_cls_loss: 0.4410 - val_box_loss: 0.0061 - val_reg_l2_loss: 0.0065 - val_loss: 0.7537\n",
      "Epoch 35/50\n",
      "21/21 [==============================] - ETA: 0s - det_loss: 0.6182 - cls_loss: 0.3822 - box_loss: 0.0047 - reg_l2_loss: 0.0065 - loss: 0.6247 - learning_rate: 0.0013 - gradient_norm: 1.8187"
     ]
    },
    {
     "name": "stderr",
     "output_type": "stream",
     "text": [
      "2024-04-15 15:20:44.509447: W tensorflow/core/framework/dataset.cc:768] Input of GeneratorDatasetOp::Dataset will not be optimized because the dataset does not implement the AsGraphDefInternal() method needed to apply optimizations.\n"
     ]
    },
    {
     "name": "stdout",
     "output_type": "stream",
     "text": [
      "21/21 [==============================] - 51s 2s/step - det_loss: 0.6141 - cls_loss: 0.3796 - box_loss: 0.0047 - reg_l2_loss: 0.0065 - loss: 0.6206 - learning_rate: 0.0013 - gradient_norm: 1.8218 - val_det_loss: 0.7352 - val_cls_loss: 0.4311 - val_box_loss: 0.0061 - val_reg_l2_loss: 0.0065 - val_loss: 0.7417\n",
      "Epoch 36/50\n",
      "21/21 [==============================] - ETA: 0s - det_loss: 0.6454 - cls_loss: 0.4069 - box_loss: 0.0048 - reg_l2_loss: 0.0065 - loss: 0.6519 - learning_rate: 0.0011 - gradient_norm: 1.8775"
     ]
    },
    {
     "name": "stderr",
     "output_type": "stream",
     "text": [
      "2024-04-15 15:21:35.532621: W tensorflow/core/framework/dataset.cc:768] Input of GeneratorDatasetOp::Dataset will not be optimized because the dataset does not implement the AsGraphDefInternal() method needed to apply optimizations.\n"
     ]
    },
    {
     "name": "stdout",
     "output_type": "stream",
     "text": [
      "21/21 [==============================] - 45s 2s/step - det_loss: 0.6468 - cls_loss: 0.4082 - box_loss: 0.0048 - reg_l2_loss: 0.0065 - loss: 0.6533 - learning_rate: 0.0011 - gradient_norm: 1.8850 - val_det_loss: 0.7443 - val_cls_loss: 0.4509 - val_box_loss: 0.0059 - val_reg_l2_loss: 0.0065 - val_loss: 0.7508\n",
      "Epoch 37/50\n",
      "21/21 [==============================] - ETA: 0s - det_loss: 0.6024 - cls_loss: 0.3850 - box_loss: 0.0043 - reg_l2_loss: 0.0065 - loss: 0.6089 - learning_rate: 9.5479e-04 - gradient_norm: 1.8103"
     ]
    },
    {
     "name": "stderr",
     "output_type": "stream",
     "text": [
      "2024-04-15 15:22:21.306287: W tensorflow/core/framework/dataset.cc:768] Input of GeneratorDatasetOp::Dataset will not be optimized because the dataset does not implement the AsGraphDefInternal() method needed to apply optimizations.\n"
     ]
    },
    {
     "name": "stdout",
     "output_type": "stream",
     "text": [
      "21/21 [==============================] - 45s 2s/step - det_loss: 0.6019 - cls_loss: 0.3821 - box_loss: 0.0044 - reg_l2_loss: 0.0065 - loss: 0.6084 - learning_rate: 9.5170e-04 - gradient_norm: 1.8189 - val_det_loss: 0.7500 - val_cls_loss: 0.4418 - val_box_loss: 0.0062 - val_reg_l2_loss: 0.0065 - val_loss: 0.7565\n",
      "Epoch 38/50\n",
      "21/21 [==============================] - ETA: 0s - det_loss: 0.5880 - cls_loss: 0.3676 - box_loss: 0.0044 - reg_l2_loss: 0.0065 - loss: 0.5945 - learning_rate: 8.1524e-04 - gradient_norm: 1.8129"
     ]
    },
    {
     "name": "stderr",
     "output_type": "stream",
     "text": [
      "2024-04-15 15:23:07.436652: W tensorflow/core/framework/dataset.cc:768] Input of GeneratorDatasetOp::Dataset will not be optimized because the dataset does not implement the AsGraphDefInternal() method needed to apply optimizations.\n"
     ]
    },
    {
     "name": "stdout",
     "output_type": "stream",
     "text": [
      "21/21 [==============================] - 47s 2s/step - det_loss: 0.5863 - cls_loss: 0.3671 - box_loss: 0.0044 - reg_l2_loss: 0.0065 - loss: 0.5928 - learning_rate: 8.1235e-04 - gradient_norm: 1.8112 - val_det_loss: 0.7455 - val_cls_loss: 0.4431 - val_box_loss: 0.0060 - val_reg_l2_loss: 0.0065 - val_loss: 0.7520\n",
      "Epoch 39/50\n",
      "21/21 [==============================] - ETA: 0s - det_loss: 0.6225 - cls_loss: 0.3947 - box_loss: 0.0046 - reg_l2_loss: 0.0065 - loss: 0.6290 - learning_rate: 6.8517e-04 - gradient_norm: 1.9127"
     ]
    },
    {
     "name": "stderr",
     "output_type": "stream",
     "text": [
      "2024-04-15 15:23:53.559285: W tensorflow/core/framework/dataset.cc:768] Input of GeneratorDatasetOp::Dataset will not be optimized because the dataset does not implement the AsGraphDefInternal() method needed to apply optimizations.\n"
     ]
    },
    {
     "name": "stdout",
     "output_type": "stream",
     "text": [
      "21/21 [==============================] - 46s 2s/step - det_loss: 0.6219 - cls_loss: 0.3937 - box_loss: 0.0046 - reg_l2_loss: 0.0065 - loss: 0.6284 - learning_rate: 6.8249e-04 - gradient_norm: 1.9302 - val_det_loss: 0.7501 - val_cls_loss: 0.4417 - val_box_loss: 0.0062 - val_reg_l2_loss: 0.0065 - val_loss: 0.7566\n",
      "Epoch 40/50\n",
      "21/21 [==============================] - ETA: 0s - det_loss: 0.5818 - cls_loss: 0.3708 - box_loss: 0.0042 - reg_l2_loss: 0.0065 - loss: 0.5884 - learning_rate: 5.6513e-04 - gradient_norm: 1.8122"
     ]
    },
    {
     "name": "stderr",
     "output_type": "stream",
     "text": [
      "2024-04-15 15:24:40.410423: W tensorflow/core/framework/dataset.cc:768] Input of GeneratorDatasetOp::Dataset will not be optimized because the dataset does not implement the AsGraphDefInternal() method needed to apply optimizations.\n"
     ]
    },
    {
     "name": "stdout",
     "output_type": "stream",
     "text": [
      "21/21 [==============================] - 54s 3s/step - det_loss: 0.5807 - cls_loss: 0.3715 - box_loss: 0.0042 - reg_l2_loss: 0.0065 - loss: 0.5872 - learning_rate: 5.6268e-04 - gradient_norm: 1.8448 - val_det_loss: 0.7398 - val_cls_loss: 0.4425 - val_box_loss: 0.0059 - val_reg_l2_loss: 0.0065 - val_loss: 0.7463\n",
      "Epoch 41/50\n",
      "21/21 [==============================] - ETA: 0s - det_loss: 0.6620 - cls_loss: 0.4179 - box_loss: 0.0049 - reg_l2_loss: 0.0065 - loss: 0.6685 - learning_rate: 4.5561e-04 - gradient_norm: 2.0230"
     ]
    },
    {
     "name": "stderr",
     "output_type": "stream",
     "text": [
      "2024-04-15 15:25:36.365305: W tensorflow/core/framework/dataset.cc:768] Input of GeneratorDatasetOp::Dataset will not be optimized because the dataset does not implement the AsGraphDefInternal() method needed to apply optimizations.\n"
     ]
    },
    {
     "name": "stdout",
     "output_type": "stream",
     "text": [
      "21/21 [==============================] - 49s 2s/step - det_loss: 0.6656 - cls_loss: 0.4191 - box_loss: 0.0049 - reg_l2_loss: 0.0065 - loss: 0.6721 - learning_rate: 4.5339e-04 - gradient_norm: 2.0305 - val_det_loss: 0.7366 - val_cls_loss: 0.4375 - val_box_loss: 0.0060 - val_reg_l2_loss: 0.0065 - val_loss: 0.7431\n",
      "Epoch 42/50\n",
      "21/21 [==============================] - ETA: 0s - det_loss: 0.5990 - cls_loss: 0.3853 - box_loss: 0.0043 - reg_l2_loss: 0.0065 - loss: 0.6055 - learning_rate: 3.5706e-04 - gradient_norm: 1.9220"
     ]
    },
    {
     "name": "stderr",
     "output_type": "stream",
     "text": [
      "2024-04-15 15:26:24.489485: W tensorflow/core/framework/dataset.cc:768] Input of GeneratorDatasetOp::Dataset will not be optimized because the dataset does not implement the AsGraphDefInternal() method needed to apply optimizations.\n"
     ]
    },
    {
     "name": "stdout",
     "output_type": "stream",
     "text": [
      "21/21 [==============================] - 48s 2s/step - det_loss: 0.5901 - cls_loss: 0.3796 - box_loss: 0.0042 - reg_l2_loss: 0.0065 - loss: 0.5967 - learning_rate: 3.5509e-04 - gradient_norm: 1.9096 - val_det_loss: 0.7420 - val_cls_loss: 0.4421 - val_box_loss: 0.0060 - val_reg_l2_loss: 0.0065 - val_loss: 0.7485\n",
      "Epoch 43/50\n",
      "21/21 [==============================] - ETA: 0s - det_loss: 0.6022 - cls_loss: 0.3785 - box_loss: 0.0045 - reg_l2_loss: 0.0065 - loss: 0.6087 - learning_rate: 2.6988e-04 - gradient_norm: 1.9275"
     ]
    },
    {
     "name": "stderr",
     "output_type": "stream",
     "text": [
      "2024-04-15 15:27:12.658976: W tensorflow/core/framework/dataset.cc:768] Input of GeneratorDatasetOp::Dataset will not be optimized because the dataset does not implement the AsGraphDefInternal() method needed to apply optimizations.\n"
     ]
    },
    {
     "name": "stdout",
     "output_type": "stream",
     "text": [
      "21/21 [==============================] - 49s 2s/step - det_loss: 0.5997 - cls_loss: 0.3777 - box_loss: 0.0044 - reg_l2_loss: 0.0065 - loss: 0.6062 - learning_rate: 2.6816e-04 - gradient_norm: 1.9275 - val_det_loss: 0.7373 - val_cls_loss: 0.4366 - val_box_loss: 0.0060 - val_reg_l2_loss: 0.0065 - val_loss: 0.7438\n",
      "Epoch 44/50\n",
      "21/21 [==============================] - ETA: 0s - det_loss: 0.5830 - cls_loss: 0.3662 - box_loss: 0.0043 - reg_l2_loss: 0.0065 - loss: 0.5895 - learning_rate: 1.9444e-04 - gradient_norm: 1.7823"
     ]
    },
    {
     "name": "stderr",
     "output_type": "stream",
     "text": [
      "2024-04-15 15:27:59.750013: W tensorflow/core/framework/dataset.cc:768] Input of GeneratorDatasetOp::Dataset will not be optimized because the dataset does not implement the AsGraphDefInternal() method needed to apply optimizations.\n"
     ]
    },
    {
     "name": "stdout",
     "output_type": "stream",
     "text": [
      "21/21 [==============================] - 47s 2s/step - det_loss: 0.5810 - cls_loss: 0.3667 - box_loss: 0.0043 - reg_l2_loss: 0.0065 - loss: 0.5875 - learning_rate: 1.9297e-04 - gradient_norm: 1.8334 - val_det_loss: 0.7361 - val_cls_loss: 0.4369 - val_box_loss: 0.0060 - val_reg_l2_loss: 0.0065 - val_loss: 0.7427\n",
      "Epoch 45/50\n",
      "21/21 [==============================] - ETA: 0s - det_loss: 0.6176 - cls_loss: 0.3845 - box_loss: 0.0047 - reg_l2_loss: 0.0065 - loss: 0.6241 - learning_rate: 1.3104e-04 - gradient_norm: 1.8526"
     ]
    },
    {
     "name": "stderr",
     "output_type": "stream",
     "text": [
      "2024-04-15 15:28:52.634907: W tensorflow/core/framework/dataset.cc:768] Input of GeneratorDatasetOp::Dataset will not be optimized because the dataset does not implement the AsGraphDefInternal() method needed to apply optimizations.\n"
     ]
    },
    {
     "name": "stdout",
     "output_type": "stream",
     "text": [
      "21/21 [==============================] - 60s 3s/step - det_loss: 0.6118 - cls_loss: 0.3803 - box_loss: 0.0046 - reg_l2_loss: 0.0065 - loss: 0.6183 - learning_rate: 1.2984e-04 - gradient_norm: 1.8463 - val_det_loss: 0.7382 - val_cls_loss: 0.4414 - val_box_loss: 0.0059 - val_reg_l2_loss: 0.0065 - val_loss: 0.7447\n",
      "Epoch 46/50\n",
      "21/21 [==============================] - ETA: 0s - det_loss: 0.6390 - cls_loss: 0.3973 - box_loss: 0.0048 - reg_l2_loss: 0.0065 - loss: 0.6456 - learning_rate: 7.9936e-05 - gradient_norm: 1.8837"
     ]
    },
    {
     "name": "stderr",
     "output_type": "stream",
     "text": [
      "2024-04-15 15:29:47.063282: W tensorflow/core/framework/dataset.cc:768] Input of GeneratorDatasetOp::Dataset will not be optimized because the dataset does not implement the AsGraphDefInternal() method needed to apply optimizations.\n"
     ]
    },
    {
     "name": "stdout",
     "output_type": "stream",
     "text": [
      "21/21 [==============================] - 48s 2s/step - det_loss: 0.6342 - cls_loss: 0.3939 - box_loss: 0.0048 - reg_l2_loss: 0.0065 - loss: 0.6407 - learning_rate: 7.9005e-05 - gradient_norm: 1.8804 - val_det_loss: 0.7381 - val_cls_loss: 0.4407 - val_box_loss: 0.0059 - val_reg_l2_loss: 0.0065 - val_loss: 0.7446\n",
      "Epoch 47/50\n",
      "21/21 [==============================] - ETA: 0s - det_loss: 0.6016 - cls_loss: 0.3824 - box_loss: 0.0044 - reg_l2_loss: 0.0065 - loss: 0.6081 - learning_rate: 4.1349e-05 - gradient_norm: 1.8125"
     ]
    },
    {
     "name": "stderr",
     "output_type": "stream",
     "text": [
      "2024-04-15 15:30:34.770315: W tensorflow/core/framework/dataset.cc:768] Input of GeneratorDatasetOp::Dataset will not be optimized because the dataset does not implement the AsGraphDefInternal() method needed to apply optimizations.\n"
     ]
    },
    {
     "name": "stdout",
     "output_type": "stream",
     "text": [
      "21/21 [==============================] - 47s 2s/step - det_loss: 0.6075 - cls_loss: 0.3841 - box_loss: 0.0045 - reg_l2_loss: 0.0065 - loss: 0.6140 - learning_rate: 4.0692e-05 - gradient_norm: 1.8210 - val_det_loss: 0.7397 - val_cls_loss: 0.4419 - val_box_loss: 0.0060 - val_reg_l2_loss: 0.0065 - val_loss: 0.7462\n",
      "Epoch 48/50\n",
      "21/21 [==============================] - ETA: 0s - det_loss: 0.6371 - cls_loss: 0.3981 - box_loss: 0.0048 - reg_l2_loss: 0.0065 - loss: 0.6436 - learning_rate: 1.5433e-05 - gradient_norm: 1.9509"
     ]
    },
    {
     "name": "stderr",
     "output_type": "stream",
     "text": [
      "2024-04-15 15:31:29.441912: W tensorflow/core/framework/dataset.cc:768] Input of GeneratorDatasetOp::Dataset will not be optimized because the dataset does not implement the AsGraphDefInternal() method needed to apply optimizations.\n"
     ]
    },
    {
     "name": "stdout",
     "output_type": "stream",
     "text": [
      "21/21 [==============================] - 60s 3s/step - det_loss: 0.6447 - cls_loss: 0.4014 - box_loss: 0.0049 - reg_l2_loss: 0.0065 - loss: 0.6512 - learning_rate: 1.5052e-05 - gradient_norm: 1.9532 - val_det_loss: 0.7361 - val_cls_loss: 0.4395 - val_box_loss: 0.0059 - val_reg_l2_loss: 0.0065 - val_loss: 0.7426\n",
      "Epoch 49/50\n",
      "21/21 [==============================] - ETA: 0s - det_loss: 0.6248 - cls_loss: 0.3937 - box_loss: 0.0046 - reg_l2_loss: 0.0065 - loss: 0.6313 - learning_rate: 2.2958e-06 - gradient_norm: 1.8216"
     ]
    },
    {
     "name": "stderr",
     "output_type": "stream",
     "text": [
      "2024-04-15 15:32:34.917782: W tensorflow/core/framework/dataset.cc:768] Input of GeneratorDatasetOp::Dataset will not be optimized because the dataset does not implement the AsGraphDefInternal() method needed to apply optimizations.\n"
     ]
    },
    {
     "name": "stdout",
     "output_type": "stream",
     "text": [
      "21/21 [==============================] - 60s 3s/step - det_loss: 0.6312 - cls_loss: 0.3976 - box_loss: 0.0047 - reg_l2_loss: 0.0065 - loss: 0.6377 - learning_rate: 2.1921e-06 - gradient_norm: 1.8340 - val_det_loss: 0.7344 - val_cls_loss: 0.4389 - val_box_loss: 0.0059 - val_reg_l2_loss: 0.0065 - val_loss: 0.7409\n",
      "Epoch 50/50\n",
      "21/21 [==============================] - ETA: 0s - det_loss: 0.6223 - cls_loss: 0.3995 - box_loss: 0.0045 - reg_l2_loss: 0.0065 - loss: 0.6288 - learning_rate: 1.9901e-06 - gradient_norm: 1.9345"
     ]
    },
    {
     "name": "stderr",
     "output_type": "stream",
     "text": [
      "2024-04-15 15:33:34.214025: W tensorflow/core/framework/dataset.cc:768] Input of GeneratorDatasetOp::Dataset will not be optimized because the dataset does not implement the AsGraphDefInternal() method needed to apply optimizations.\n"
     ]
    },
    {
     "name": "stdout",
     "output_type": "stream",
     "text": [
      "21/21 [==============================] - 67s 3s/step - det_loss: 0.6289 - cls_loss: 0.4032 - box_loss: 0.0045 - reg_l2_loss: 0.0065 - loss: 0.6354 - learning_rate: 2.1643e-06 - gradient_norm: 1.9632 - val_det_loss: 0.7353 - val_cls_loss: 0.4398 - val_box_loss: 0.0059 - val_reg_l2_loss: 0.0065 - val_loss: 0.7418\n"
     ]
    }
   ],
   "source": [
    "# Entraîner entièrement le modèle (fine-tuning) ?\n",
    "train_whole_model=True\n",
    "epochs=80\n",
    "batch_size=5\n",
    "model = object_detector.create(train_data, \n",
    "                               validation_data=val_data,\n",
    "                               model_spec=spec, \n",
    "                               train_whole_model=train_whole_model,\n",
    "                               epochs=epochs,\n",
    "                               batch_size=batch_size\n",
    "                               )\n"
   ]
  },
  {
   "cell_type": "code",
   "execution_count": 26,
   "metadata": {},
   "outputs": [
    {
     "name": "stdout",
     "output_type": "stream",
     "text": [
      "Model: \"\"\n",
      "_________________________________________________________________\n",
      " Layer (type)                Output Shape              Param #   \n",
      "=================================================================\n",
      " keras_layer_1 (KerasLayer)  multiple                  8315968   \n",
      "                                                                 \n",
      " class_net/class-predict (Se  multiple                 4338      \n",
      " parableConv2D)                                                  \n",
      "                                                                 \n",
      " box_net/box-predict (Separa  multiple                 7236      \n",
      " bleConv2D)                                                      \n",
      "                                                                 \n",
      "=================================================================\n",
      "Total params: 8,327,542\n",
      "Trainable params: 8,223,350\n",
      "Non-trainable params: 104,192\n",
      "_________________________________________________________________\n"
     ]
    }
   ],
   "source": [
    "summary = model.summary()\n",
    "summary"
   ]
  },
  {
   "cell_type": "markdown",
   "metadata": {},
   "source": [
    "## Evaluation du modèle"
   ]
  },
  {
   "cell_type": "code",
   "execution_count": 27,
   "metadata": {},
   "outputs": [
    {
     "name": "stderr",
     "output_type": "stream",
     "text": [
      "2024-04-15 15:34:01.621430: W tensorflow/core/framework/cpu_allocator_impl.cc:82] Allocation of 1132462080 exceeds 10% of free system memory.\n"
     ]
    },
    {
     "name": "stdout",
     "output_type": "stream",
     "text": [
      "1/1 [==============================] - 17s 17s/step\n",
      "\n"
     ]
    },
    {
     "data": {
      "image/png": "[encoded data removed]",
      "text/plain": [
       "<Figure size 640x480 with 1 Axes>"
      ]
     },
     "metadata": {},
     "output_type": "display_data"
    }
   ],
   "source": [
    "# https://cocodataset.org/#detection-eval\n",
    "# val_loss, val_accuracy = model.evaluate(val_data)\n",
    "\n",
    "evaluation = model.evaluate(val_data)\n",
    "\n",
    "def plotEvaluation(eval, title=\"Résultats de l\\'évaluation du modèle'\"):\n",
    "    import matplotlib.pyplot as plt\n",
    "    plt.bar(eval.keys(), eval.values(), color='skyblue')\n",
    "    plt.xlabel('Métrique')\n",
    "    plt.ylabel('Valeur')\n",
    "    plt.title(title)\n",
    "    plt.xticks(rotation=45, ha=\"right\")\n",
    "    plt.tight_layout()\n",
    "    plt.show()\n",
    "\n",
    "plotEvaluation(evaluation)"
   ]
  },
  {
   "cell_type": "markdown",
   "metadata": {},
   "source": [
    "## Export du modèle au format Tensorflow lite"
   ]
  },
  {
   "cell_type": "code",
   "execution_count": 28,
   "metadata": {},
   "outputs": [
    {
     "name": "stderr",
     "output_type": "stream",
     "text": [
      "2024-04-15 15:35:26.606720: W tensorflow/core/common_runtime/graph_constructor.cc:803] Node 'resample_p7/PartitionedCall' has 1 outputs but the _output_shapes attribute specifies shapes for 3 outputs. Output shapes may be inaccurate.\n",
      "2024-04-15 15:35:44.313639: W tensorflow/compiler/mlir/lite/python/tf_tfl_flatbuffer_helpers.cc:357] Ignored output_format.\n",
      "2024-04-15 15:35:44.313693: W tensorflow/compiler/mlir/lite/python/tf_tfl_flatbuffer_helpers.cc:360] Ignored drop_control_dependency.\n",
      "2024-04-15 15:35:44.316854: I tensorflow/cc/saved_model/reader.cc:43] Reading SavedModel from: /tmp/tmpyykxomnv\n",
      "2024-04-15 15:35:44.466132: I tensorflow/cc/saved_model/reader.cc:78] Reading meta graph with tags { serve }\n",
      "2024-04-15 15:35:44.466169: I tensorflow/cc/saved_model/reader.cc:119] Reading SavedModel debug info (if present) from: /tmp/tmpyykxomnv\n",
      "2024-04-15 15:35:45.147020: I tensorflow/cc/saved_model/loader.cc:228] Restoring SavedModel bundle.\n",
      "2024-04-15 15:35:48.133008: I tensorflow/cc/saved_model/loader.cc:212] Running initialization op on SavedModel bundle at path: /tmp/tmpyykxomnv\n",
      "2024-04-15 15:35:49.528651: I tensorflow/cc/saved_model/loader.cc:301] SavedModel load for tags { serve }; Status: success: OK. Took 5212958 microseconds.\n",
      "2024-04-15 15:35:55.374627: I tensorflow/compiler/mlir/lite/flatbuffer_export.cc:1963] Estimated count of arithmetic ops: 13.698 G  ops, equivalently 6.849 G  MACs\n",
      "\n"
     ]
    },
    {
     "name": "stdout",
     "output_type": "stream",
     "text": [
      "Estimated count of arithmetic ops: 13.698 G  ops, equivalently 6.849 G  MACs\n"
     ]
    },
    {
     "name": "stderr",
     "output_type": "stream",
     "text": [
      "fully_quantize: 0, inference_type: 6, input_inference_type: 3, output_inference_type: 0\n",
      "2024-04-15 15:38:15.922735: I tensorflow/compiler/mlir/lite/flatbuffer_export.cc:1963] Estimated count of arithmetic ops: 13.698 G  ops, equivalently 6.849 G  MACs\n",
      "\n"
     ]
    },
    {
     "name": "stdout",
     "output_type": "stream",
     "text": [
      "Estimated count of arithmetic ops: 13.698 G  ops, equivalently 6.849 G  MACs\n"
     ]
    }
   ],
   "source": [
    "config = QuantizationConfig.for_float16()\n",
    "model.export(export_dir='bin/', \n",
    "             tflite_filename='greengardians-full.tflite', \n",
    "            #quantization_config=config\n",
    "             )\n",
    "# model.export(export_dir='bin/', \n",
    "#              quantization_config=config,\n",
    "#              export_format=[ExportFormat.SAVED_MODEL, ExportFormat.LABEL])\n"
   ]
  },
  {
   "cell_type": "markdown",
   "metadata": {},
   "source": [
    "## Evaluation du modèle entrainé"
   ]
  },
  {
   "cell_type": "code",
   "execution_count": 29,
   "metadata": {},
   "outputs": [
    {
     "name": "stdout",
     "output_type": "stream",
     "text": [
      "16/16 [==============================] - 7s 364ms/step\n",
      "\n"
     ]
    },
    {
     "data": {
      "image/png": "[encoded data removed]",
      "text/plain": [
       "<Figure size 640x480 with 1 Axes>"
      ]
     },
     "metadata": {},
     "output_type": "display_data"
    }
   ],
   "source": [
    "model_path = 'bin/greengardians.tflite'\n",
    "evaluation_lite = model.evaluate_tflite(model_path, test_data)\n",
    "\n",
    "plotEvaluation(evaluation_lite)"
   ]
  },
  {
   "cell_type": "code",
   "execution_count": 30,
   "metadata": {},
   "outputs": [],
   "source": [
    "# NUMBER_OF_TPUS =  2\n",
    "\n",
    "# !edgetpu_compiler 'bin/greengardians-full.tflite' --num_segments=$NUMBER_OF_TPUS"
   ]
  },
  {
   "cell_type": "markdown",
   "metadata": {},
   "source": [
    "## Utilitaires"
   ]
  },
  {
   "cell_type": "code",
   "execution_count": 31,
   "metadata": {},
   "outputs": [
    {
     "name": "stdout",
     "output_type": "stream",
     "text": [
      "classes ['plastique', 'canette']\n"
     ]
    }
   ],
   "source": [
    "import cv2\n",
    "\n",
    "from PIL import Image\n",
    "\n",
    "# Load the labels into a list\n",
    "classes = ['???'] * model.model_spec.config.num_classes\n",
    "label_map = model.model_spec.config.label_map\n",
    "for label_id, label_name in label_map.as_dict().items():\n",
    "  classes[label_id-1] = label_name\n",
    "\n",
    "# classes = {0: \"plastique\", 1: \"canette\"}\n",
    "print('classes', classes)\n",
    "\n",
    "# Define a list of colors for visualization\n",
    "COLORS = np.random.randint(0, 255, size=(len(classes), 3), dtype=np.uint8)\n",
    "\n",
    "def preprocess_image(image_path, input_size):\n",
    "  \"\"\"Preprocess the input image to feed to the TFLite model\"\"\"\n",
    "  img = tf.io.read_file(image_path)\n",
    "  img = tf.io.decode_image(img, channels=3)\n",
    "  img = tf.image.convert_image_dtype(img, tf.uint8)\n",
    "  original_image = img\n",
    "  resized_img = tf.image.resize(img, input_size)\n",
    "  resized_img = resized_img[tf.newaxis, :]\n",
    "  resized_img = tf.cast(resized_img, dtype=tf.uint8)\n",
    "  return resized_img, original_image\n",
    "\n",
    "\n",
    "def detect_objects(interpreter, image, threshold):\n",
    "  \"\"\"Returns a list of detection results, each a dictionary of object info.\"\"\"\n",
    "\n",
    "  signature_fn = interpreter.get_signature_runner()\n",
    "\n",
    "  # Feed the input image to the model\n",
    "  output = signature_fn(images=image)\n",
    "\n",
    "\n",
    "  # Get all outputs from the model\n",
    "  count = int(np.squeeze(output['output_0']))\n",
    "  scores = np.squeeze(output['output_1'])\n",
    "  classes = np.squeeze(output['output_2'])\n",
    "  boxes = np.squeeze(output['output_3'])\n",
    "\n",
    "\n",
    "  results = []\n",
    "  for i in range(count):\n",
    "    if scores[i] >= threshold:\n",
    "      result = {\n",
    "        'bounding_box': boxes[i],\n",
    "        'class_id': classes[i],\n",
    "        'score': scores[i]\n",
    "      }\n",
    "      results.append(result)\n",
    "  return results\n",
    "\n",
    "def run_odt_and_draw_results(image_path, interpreter, threshold=0.5):\n",
    "  \"\"\"Run object detection on the input image and draw the detection results\"\"\"\n",
    "  # Load the input shape required by the model\n",
    "  _, input_height, input_width, _ = interpreter.get_input_details()[0]['shape']\n",
    "\n",
    "  # Load the input image and preprocess it\n",
    "  preprocessed_image, original_image = preprocess_image(\n",
    "      image_path,\n",
    "      (input_height, input_width)\n",
    "    )\n",
    "\n",
    "  # Run object detection on the input image\n",
    "  results = detect_objects(interpreter, preprocessed_image, threshold=threshold)\n",
    "\n",
    "  print('results', results)\n",
    "\n",
    "  # Plot the detection results on the input image\n",
    "  original_image_np = original_image.numpy().astype(np.uint8)\n",
    "  for obj in results:\n",
    "    # Convert the object bounding box from relative coordinates to absolute\n",
    "    # coordinates based on the original image resolution\n",
    "    ymin, xmin, ymax, xmax = obj['bounding_box']\n",
    "    xmin = int(xmin * original_image_np.shape[1])\n",
    "    xmax = int(xmax * original_image_np.shape[1])\n",
    "    ymin = int(ymin * original_image_np.shape[0])\n",
    "    ymax = int(ymax * original_image_np.shape[0])\n",
    "\n",
    "    # Find the class index of the current object\n",
    "    class_id = int(obj['class_id'])\n",
    "\n",
    "    # Draw the bounding box and label on the image\n",
    "    color = [int(c) for c in COLORS[class_id]]\n",
    "    cv2.rectangle(original_image_np, (xmin, ymin), (xmax, ymax), color, 2)\n",
    "    # Make adjustments to make the label visible for all objects\n",
    "    y = ymin - 15 if ymin - 15 > 15 else ymin + 15\n",
    "    label = \"{}: {:.0f}%\".format(classes[class_id], obj['score'] * 100)\n",
    "    cv2.putText(original_image_np, label, (xmin, y),\n",
    "        cv2.FONT_HERSHEY_SIMPLEX, 0.5, color, 2)\n",
    "\n",
    "  # Return the final image\n",
    "  original_uint8 = original_image_np.astype(np.uint8)\n",
    "  return original_uint8"
   ]
  },
  {
   "cell_type": "markdown",
   "metadata": {},
   "source": [
    "## Prediction"
   ]
  },
  {
   "cell_type": "code",
   "execution_count": 32,
   "metadata": {},
   "outputs": [
    {
     "name": "stdout",
     "output_type": "stream",
     "text": [
      "/home/charles/web/alyra/villepropre/vp-server/train/datasets/dataset.voc/test//IMG_20231025_095258_jpg.rf.4fefc8f385ce0cc9867dc873007fdfc5.jpg\n"
     ]
    },
    {
     "ename": "ValueError",
     "evalue": "Cannot set tensor: Got value of type UINT8 but expected type FLOAT32 for input 0, name: serving_default_images:0 ",
     "output_type": "error",
     "traceback": [
      "\u001b[0;31m---------------------------------------------------------------------------\u001b[0m",
      "\u001b[0;31mValueError\u001b[0m                                Traceback (most recent call last)",
      "Cell \u001b[0;32mIn[32], line 22\u001b[0m\n\u001b[1;32m     20\u001b[0m imageToPredict \u001b[38;5;241m=\u001b[39m random\u001b[38;5;241m.\u001b[39mchoice(files)\n\u001b[1;32m     21\u001b[0m \u001b[38;5;28mprint\u001b[39m(imageToPredict)\n\u001b[0;32m---> 22\u001b[0m detection_result_image \u001b[38;5;241m=\u001b[39m \u001b[43mrun_odt_and_draw_results\u001b[49m\u001b[43m(\u001b[49m\n\u001b[1;32m     23\u001b[0m \u001b[43m        \u001b[49m\u001b[43mimageToPredict\u001b[49m\u001b[43m,\u001b[49m\n\u001b[1;32m     24\u001b[0m \u001b[43m        \u001b[49m\u001b[43minterpreter\u001b[49m\u001b[43m,\u001b[49m\n\u001b[1;32m     25\u001b[0m \u001b[43m        \u001b[49m\u001b[43mthreshold\u001b[49m\u001b[38;5;241;43m=\u001b[39;49m\u001b[43mDETECTION_THRESHOLD\u001b[49m\n\u001b[1;32m     26\u001b[0m \u001b[43m)\u001b[49m\n\u001b[1;32m     27\u001b[0m \u001b[38;5;66;03m# for file in files:\u001b[39;00m\n\u001b[1;32m     28\u001b[0m \u001b[38;5;66;03m#     detection_result_image = run_odt_and_draw_results(\u001b[39;00m\n\u001b[1;32m     29\u001b[0m \u001b[38;5;66;03m#         file,\u001b[39;00m\n\u001b[0;32m   (...)\u001b[0m\n\u001b[1;32m     32\u001b[0m \u001b[38;5;66;03m#     )\u001b[39;00m\n\u001b[1;32m     33\u001b[0m \u001b[38;5;66;03m#     l_detection_result_image.append(detection_result_image)\u001b[39;00m\n",
      "Cell \u001b[0;32mIn[31], line 68\u001b[0m, in \u001b[0;36mrun_odt_and_draw_results\u001b[0;34m(image_path, interpreter, threshold)\u001b[0m\n\u001b[1;32m     62\u001b[0m preprocessed_image, original_image \u001b[38;5;241m=\u001b[39m preprocess_image(\n\u001b[1;32m     63\u001b[0m     image_path,\n\u001b[1;32m     64\u001b[0m     (input_height, input_width)\n\u001b[1;32m     65\u001b[0m   )\n\u001b[1;32m     67\u001b[0m \u001b[38;5;66;03m# Run object detection on the input image\u001b[39;00m\n\u001b[0;32m---> 68\u001b[0m results \u001b[38;5;241m=\u001b[39m \u001b[43mdetect_objects\u001b[49m\u001b[43m(\u001b[49m\u001b[43minterpreter\u001b[49m\u001b[43m,\u001b[49m\u001b[43m \u001b[49m\u001b[43mpreprocessed_image\u001b[49m\u001b[43m,\u001b[49m\u001b[43m \u001b[49m\u001b[43mthreshold\u001b[49m\u001b[38;5;241;43m=\u001b[39;49m\u001b[43mthreshold\u001b[49m\u001b[43m)\u001b[49m\n\u001b[1;32m     70\u001b[0m \u001b[38;5;28mprint\u001b[39m(\u001b[38;5;124m'\u001b[39m\u001b[38;5;124mresults\u001b[39m\u001b[38;5;124m'\u001b[39m, results)\n\u001b[1;32m     72\u001b[0m \u001b[38;5;66;03m# Plot the detection results on the input image\u001b[39;00m\n",
      "Cell \u001b[0;32mIn[31], line 35\u001b[0m, in \u001b[0;36mdetect_objects\u001b[0;34m(interpreter, image, threshold)\u001b[0m\n\u001b[1;32m     32\u001b[0m signature_fn \u001b[38;5;241m=\u001b[39m interpreter\u001b[38;5;241m.\u001b[39mget_signature_runner()\n\u001b[1;32m     34\u001b[0m \u001b[38;5;66;03m# Feed the input image to the model\u001b[39;00m\n\u001b[0;32m---> 35\u001b[0m output \u001b[38;5;241m=\u001b[39m \u001b[43msignature_fn\u001b[49m\u001b[43m(\u001b[49m\u001b[43mimages\u001b[49m\u001b[38;5;241;43m=\u001b[39;49m\u001b[43mimage\u001b[49m\u001b[43m)\u001b[49m\n\u001b[1;32m     38\u001b[0m \u001b[38;5;66;03m# Get all outputs from the model\u001b[39;00m\n\u001b[1;32m     39\u001b[0m count \u001b[38;5;241m=\u001b[39m \u001b[38;5;28mint\u001b[39m(np\u001b[38;5;241m.\u001b[39msqueeze(output[\u001b[38;5;124m'\u001b[39m\u001b[38;5;124moutput_0\u001b[39m\u001b[38;5;124m'\u001b[39m]))\n",
      "File \u001b[0;32m~/web/alyra/villepropre/vp-server/.venv/lib/python3.9/site-packages/tensorflow/lite/python/interpreter.py:255\u001b[0m, in \u001b[0;36mSignatureRunner.__call__\u001b[0;34m(self, **kwargs)\u001b[0m\n\u001b[1;32m    253\u001b[0m \u001b[38;5;66;03m# Set the input values.\u001b[39;00m\n\u001b[1;32m    254\u001b[0m \u001b[38;5;28;01mfor\u001b[39;00m input_name, value \u001b[38;5;129;01min\u001b[39;00m kwargs\u001b[38;5;241m.\u001b[39mitems():\n\u001b[0;32m--> 255\u001b[0m   \u001b[38;5;28;43mself\u001b[39;49m\u001b[38;5;241;43m.\u001b[39;49m\u001b[43m_interpreter_wrapper\u001b[49m\u001b[38;5;241;43m.\u001b[39;49m\u001b[43mSetTensor\u001b[49m\u001b[43m(\u001b[49m\u001b[38;5;28;43mself\u001b[39;49m\u001b[38;5;241;43m.\u001b[39;49m\u001b[43m_inputs\u001b[49m\u001b[43m[\u001b[49m\u001b[43minput_name\u001b[49m\u001b[43m]\u001b[49m\u001b[43m,\u001b[49m\u001b[43m \u001b[49m\u001b[43mvalue\u001b[49m\u001b[43m,\u001b[49m\n\u001b[1;32m    256\u001b[0m \u001b[43m                                      \u001b[49m\u001b[38;5;28;43mself\u001b[39;49m\u001b[38;5;241;43m.\u001b[39;49m\u001b[43m_subgraph_index\u001b[49m\u001b[43m)\u001b[49m\n\u001b[1;32m    258\u001b[0m \u001b[38;5;28mself\u001b[39m\u001b[38;5;241m.\u001b[39m_interpreter_wrapper\u001b[38;5;241m.\u001b[39mInvoke(\u001b[38;5;28mself\u001b[39m\u001b[38;5;241m.\u001b[39m_subgraph_index)\n\u001b[1;32m    259\u001b[0m result \u001b[38;5;241m=\u001b[39m {}\n",
      "\u001b[0;31mValueError\u001b[0m: Cannot set tensor: Got value of type UINT8 but expected type FLOAT32 for input 0, name: serving_default_images:0 "
     ]
    }
   ],
   "source": [
    "# Load the TFLite model\n",
    "import os, random\n",
    "from pathlib import Path\n",
    "model_path = 'bin/greengardians.tflite'\n",
    "\n",
    "interpreter = tf.lite.Interpreter(model_path=model_path)\n",
    "interpreter.allocate_tensors()\n",
    "\n",
    "# # Run inference and draw detection result on the local copy of the original file\n",
    "DETECTION_THRESHOLD = 0.5\n",
    "          \n",
    "PROJECT_FOLDER = Path(Path.cwd())\n",
    "image_folder = str(PROJECT_FOLDER) + '/datasets/dataset.voc/test/'\n",
    "# imageToPredict = 'datasets/dataset.voc/test/IMG_20231025_095509_jpg.rf.c83cb3628dda974ef28a37ce404b9ab7.jpg'\n",
    "                                                          \n",
    "l_detection_result_image = []\n",
    "files = [image_folder +'/'+ f for f in os.listdir(image_folder) if f.endswith('.jpg')]\n",
    "\n",
    "# imageToPredict = 'datasets/dataset.voc/test/IMG_20231025_095509_jpg.rf.c83cb3628dda974ef28a37ce404b9ab7.jpg'\n",
    "imageToPredict = random.choice(files)\n",
    "print(imageToPredict)\n",
    "detection_result_image = run_odt_and_draw_results(\n",
    "        imageToPredict,\n",
    "        interpreter,\n",
    "        threshold=DETECTION_THRESHOLD\n",
    ")\n",
    "# for file in files:\n",
    "#     detection_result_image = run_odt_and_draw_results(\n",
    "#         file,\n",
    "#         interpreter,\n",
    "#         threshold=DETECTION_THRESHOLD\n",
    "#     )\n",
    "#     l_detection_result_image.append(detection_result_image)"
   ]
  },
  {
   "cell_type": "code",
   "execution_count": null,
   "metadata": {},
   "outputs": [
    {
     "ename": "TypeError",
     "evalue": "Image data of dtype <U142 cannot be converted to float",
     "output_type": "error",
     "traceback": [
      "\u001b[0;31m---------------------------------------------------------------------------\u001b[0m",
      "\u001b[0;31mTypeError\u001b[0m                                 Traceback (most recent call last)",
      "Cell \u001b[0;32mIn[15], line 3\u001b[0m\n\u001b[1;32m      1\u001b[0m \u001b[38;5;28;01mimport\u001b[39;00m \u001b[38;5;21;01mmatplotlib\u001b[39;00m\u001b[38;5;21;01m.\u001b[39;00m\u001b[38;5;21;01mpyplot\u001b[39;00m \u001b[38;5;28;01mas\u001b[39;00m \u001b[38;5;21;01mplt\u001b[39;00m\n\u001b[1;32m      2\u001b[0m plt\u001b[38;5;241m.\u001b[39mfigure(figsize\u001b[38;5;241m=\u001b[39m(\u001b[38;5;241m5\u001b[39m, \u001b[38;5;241m5\u001b[39m))\n\u001b[0;32m----> 3\u001b[0m \u001b[43mplt\u001b[49m\u001b[38;5;241;43m.\u001b[39;49m\u001b[43mimshow\u001b[49m\u001b[43m(\u001b[49m\u001b[43mimageToPredict\u001b[49m\u001b[43m)\u001b[49m\n\u001b[1;32m      4\u001b[0m plt\u001b[38;5;241m.\u001b[39mshow()\n\u001b[1;32m      5\u001b[0m plt\u001b[38;5;241m.\u001b[39mclose()\n",
      "File \u001b[0;32m~/web/alyra/villepropre/vp-server/.venv/lib/python3.9/site-packages/matplotlib/pyplot.py:2903\u001b[0m, in \u001b[0;36mimshow\u001b[0;34m(X, cmap, norm, aspect, interpolation, alpha, vmin, vmax, origin, extent, filternorm, filterrad, resample, url, data, **kwargs)\u001b[0m\n\u001b[1;32m   2897\u001b[0m \u001b[38;5;129m@_copy_docstring_and_deprecators\u001b[39m(Axes\u001b[38;5;241m.\u001b[39mimshow)\n\u001b[1;32m   2898\u001b[0m \u001b[38;5;28;01mdef\u001b[39;00m \u001b[38;5;21mimshow\u001b[39m(\n\u001b[1;32m   2899\u001b[0m         X, cmap\u001b[38;5;241m=\u001b[39m\u001b[38;5;28;01mNone\u001b[39;00m, norm\u001b[38;5;241m=\u001b[39m\u001b[38;5;28;01mNone\u001b[39;00m, aspect\u001b[38;5;241m=\u001b[39m\u001b[38;5;28;01mNone\u001b[39;00m, interpolation\u001b[38;5;241m=\u001b[39m\u001b[38;5;28;01mNone\u001b[39;00m,\n\u001b[1;32m   2900\u001b[0m         alpha\u001b[38;5;241m=\u001b[39m\u001b[38;5;28;01mNone\u001b[39;00m, vmin\u001b[38;5;241m=\u001b[39m\u001b[38;5;28;01mNone\u001b[39;00m, vmax\u001b[38;5;241m=\u001b[39m\u001b[38;5;28;01mNone\u001b[39;00m, origin\u001b[38;5;241m=\u001b[39m\u001b[38;5;28;01mNone\u001b[39;00m, extent\u001b[38;5;241m=\u001b[39m\u001b[38;5;28;01mNone\u001b[39;00m, \u001b[38;5;241m*\u001b[39m,\n\u001b[1;32m   2901\u001b[0m         filternorm\u001b[38;5;241m=\u001b[39m\u001b[38;5;28;01mTrue\u001b[39;00m, filterrad\u001b[38;5;241m=\u001b[39m\u001b[38;5;241m4.0\u001b[39m, resample\u001b[38;5;241m=\u001b[39m\u001b[38;5;28;01mNone\u001b[39;00m, url\u001b[38;5;241m=\u001b[39m\u001b[38;5;28;01mNone\u001b[39;00m,\n\u001b[1;32m   2902\u001b[0m         data\u001b[38;5;241m=\u001b[39m\u001b[38;5;28;01mNone\u001b[39;00m, \u001b[38;5;241m*\u001b[39m\u001b[38;5;241m*\u001b[39mkwargs):\n\u001b[0;32m-> 2903\u001b[0m     __ret \u001b[38;5;241m=\u001b[39m \u001b[43mgca\u001b[49m\u001b[43m(\u001b[49m\u001b[43m)\u001b[49m\u001b[38;5;241;43m.\u001b[39;49m\u001b[43mimshow\u001b[49m\u001b[43m(\u001b[49m\n\u001b[1;32m   2904\u001b[0m \u001b[43m        \u001b[49m\u001b[43mX\u001b[49m\u001b[43m,\u001b[49m\u001b[43m \u001b[49m\u001b[43mcmap\u001b[49m\u001b[38;5;241;43m=\u001b[39;49m\u001b[43mcmap\u001b[49m\u001b[43m,\u001b[49m\u001b[43m \u001b[49m\u001b[43mnorm\u001b[49m\u001b[38;5;241;43m=\u001b[39;49m\u001b[43mnorm\u001b[49m\u001b[43m,\u001b[49m\u001b[43m \u001b[49m\u001b[43maspect\u001b[49m\u001b[38;5;241;43m=\u001b[39;49m\u001b[43maspect\u001b[49m\u001b[43m,\u001b[49m\n\u001b[1;32m   2905\u001b[0m \u001b[43m        \u001b[49m\u001b[43minterpolation\u001b[49m\u001b[38;5;241;43m=\u001b[39;49m\u001b[43minterpolation\u001b[49m\u001b[43m,\u001b[49m\u001b[43m \u001b[49m\u001b[43malpha\u001b[49m\u001b[38;5;241;43m=\u001b[39;49m\u001b[43malpha\u001b[49m\u001b[43m,\u001b[49m\u001b[43m \u001b[49m\u001b[43mvmin\u001b[49m\u001b[38;5;241;43m=\u001b[39;49m\u001b[43mvmin\u001b[49m\u001b[43m,\u001b[49m\n\u001b[1;32m   2906\u001b[0m \u001b[43m        \u001b[49m\u001b[43mvmax\u001b[49m\u001b[38;5;241;43m=\u001b[39;49m\u001b[43mvmax\u001b[49m\u001b[43m,\u001b[49m\u001b[43m \u001b[49m\u001b[43morigin\u001b[49m\u001b[38;5;241;43m=\u001b[39;49m\u001b[43morigin\u001b[49m\u001b[43m,\u001b[49m\u001b[43m \u001b[49m\u001b[43mextent\u001b[49m\u001b[38;5;241;43m=\u001b[39;49m\u001b[43mextent\u001b[49m\u001b[43m,\u001b[49m\n\u001b[1;32m   2907\u001b[0m \u001b[43m        \u001b[49m\u001b[43mfilternorm\u001b[49m\u001b[38;5;241;43m=\u001b[39;49m\u001b[43mfilternorm\u001b[49m\u001b[43m,\u001b[49m\u001b[43m \u001b[49m\u001b[43mfilterrad\u001b[49m\u001b[38;5;241;43m=\u001b[39;49m\u001b[43mfilterrad\u001b[49m\u001b[43m,\u001b[49m\u001b[43m \u001b[49m\u001b[43mresample\u001b[49m\u001b[38;5;241;43m=\u001b[39;49m\u001b[43mresample\u001b[49m\u001b[43m,\u001b[49m\n\u001b[1;32m   2908\u001b[0m \u001b[43m        \u001b[49m\u001b[43murl\u001b[49m\u001b[38;5;241;43m=\u001b[39;49m\u001b[43murl\u001b[49m\u001b[43m,\u001b[49m\u001b[43m \u001b[49m\u001b[38;5;241;43m*\u001b[39;49m\u001b[38;5;241;43m*\u001b[39;49m\u001b[43m(\u001b[49m\u001b[43m{\u001b[49m\u001b[38;5;124;43m\"\u001b[39;49m\u001b[38;5;124;43mdata\u001b[39;49m\u001b[38;5;124;43m\"\u001b[39;49m\u001b[43m:\u001b[49m\u001b[43m \u001b[49m\u001b[43mdata\u001b[49m\u001b[43m}\u001b[49m\u001b[43m \u001b[49m\u001b[38;5;28;43;01mif\u001b[39;49;00m\u001b[43m \u001b[49m\u001b[43mdata\u001b[49m\u001b[43m \u001b[49m\u001b[38;5;129;43;01mis\u001b[39;49;00m\u001b[43m \u001b[49m\u001b[38;5;129;43;01mnot\u001b[39;49;00m\u001b[43m \u001b[49m\u001b[38;5;28;43;01mNone\u001b[39;49;00m\u001b[43m \u001b[49m\u001b[38;5;28;43;01melse\u001b[39;49;00m\u001b[43m \u001b[49m\u001b[43m{\u001b[49m\u001b[43m}\u001b[49m\u001b[43m)\u001b[49m\u001b[43m,\u001b[49m\n\u001b[1;32m   2909\u001b[0m \u001b[43m        \u001b[49m\u001b[38;5;241;43m*\u001b[39;49m\u001b[38;5;241;43m*\u001b[39;49m\u001b[43mkwargs\u001b[49m\u001b[43m)\u001b[49m\n\u001b[1;32m   2910\u001b[0m     sci(__ret)\n\u001b[1;32m   2911\u001b[0m     \u001b[38;5;28;01mreturn\u001b[39;00m __ret\n",
      "File \u001b[0;32m~/web/alyra/villepropre/vp-server/.venv/lib/python3.9/site-packages/matplotlib/__init__.py:1361\u001b[0m, in \u001b[0;36m_preprocess_data.<locals>.inner\u001b[0;34m(ax, data, *args, **kwargs)\u001b[0m\n\u001b[1;32m   1358\u001b[0m \u001b[38;5;129m@functools\u001b[39m\u001b[38;5;241m.\u001b[39mwraps(func)\n\u001b[1;32m   1359\u001b[0m \u001b[38;5;28;01mdef\u001b[39;00m \u001b[38;5;21minner\u001b[39m(ax, \u001b[38;5;241m*\u001b[39margs, data\u001b[38;5;241m=\u001b[39m\u001b[38;5;28;01mNone\u001b[39;00m, \u001b[38;5;241m*\u001b[39m\u001b[38;5;241m*\u001b[39mkwargs):\n\u001b[1;32m   1360\u001b[0m     \u001b[38;5;28;01mif\u001b[39;00m data \u001b[38;5;129;01mis\u001b[39;00m \u001b[38;5;28;01mNone\u001b[39;00m:\n\u001b[0;32m-> 1361\u001b[0m         \u001b[38;5;28;01mreturn\u001b[39;00m \u001b[43mfunc\u001b[49m\u001b[43m(\u001b[49m\u001b[43max\u001b[49m\u001b[43m,\u001b[49m\u001b[43m \u001b[49m\u001b[38;5;241;43m*\u001b[39;49m\u001b[38;5;28;43mmap\u001b[39;49m\u001b[43m(\u001b[49m\u001b[43msanitize_sequence\u001b[49m\u001b[43m,\u001b[49m\u001b[43m \u001b[49m\u001b[43margs\u001b[49m\u001b[43m)\u001b[49m\u001b[43m,\u001b[49m\u001b[43m \u001b[49m\u001b[38;5;241;43m*\u001b[39;49m\u001b[38;5;241;43m*\u001b[39;49m\u001b[43mkwargs\u001b[49m\u001b[43m)\u001b[49m\n\u001b[1;32m   1363\u001b[0m     bound \u001b[38;5;241m=\u001b[39m new_sig\u001b[38;5;241m.\u001b[39mbind(ax, \u001b[38;5;241m*\u001b[39margs, \u001b[38;5;241m*\u001b[39m\u001b[38;5;241m*\u001b[39mkwargs)\n\u001b[1;32m   1364\u001b[0m     auto_label \u001b[38;5;241m=\u001b[39m (bound\u001b[38;5;241m.\u001b[39marguments\u001b[38;5;241m.\u001b[39mget(label_namer)\n\u001b[1;32m   1365\u001b[0m                   \u001b[38;5;129;01mor\u001b[39;00m bound\u001b[38;5;241m.\u001b[39mkwargs\u001b[38;5;241m.\u001b[39mget(label_namer))\n",
      "File \u001b[0;32m~/web/alyra/villepropre/vp-server/.venv/lib/python3.9/site-packages/matplotlib/axes/_axes.py:5609\u001b[0m, in \u001b[0;36mAxes.imshow\u001b[0;34m(self, X, cmap, norm, aspect, interpolation, alpha, vmin, vmax, origin, extent, filternorm, filterrad, resample, url, **kwargs)\u001b[0m\n\u001b[1;32m   5604\u001b[0m \u001b[38;5;28mself\u001b[39m\u001b[38;5;241m.\u001b[39mset_aspect(aspect)\n\u001b[1;32m   5605\u001b[0m im \u001b[38;5;241m=\u001b[39m mimage\u001b[38;5;241m.\u001b[39mAxesImage(\u001b[38;5;28mself\u001b[39m, cmap, norm, interpolation, origin, extent,\n\u001b[1;32m   5606\u001b[0m                       filternorm\u001b[38;5;241m=\u001b[39mfilternorm, filterrad\u001b[38;5;241m=\u001b[39mfilterrad,\n\u001b[1;32m   5607\u001b[0m                       resample\u001b[38;5;241m=\u001b[39mresample, \u001b[38;5;241m*\u001b[39m\u001b[38;5;241m*\u001b[39mkwargs)\n\u001b[0;32m-> 5609\u001b[0m \u001b[43mim\u001b[49m\u001b[38;5;241;43m.\u001b[39;49m\u001b[43mset_data\u001b[49m\u001b[43m(\u001b[49m\u001b[43mX\u001b[49m\u001b[43m)\u001b[49m\n\u001b[1;32m   5610\u001b[0m im\u001b[38;5;241m.\u001b[39mset_alpha(alpha)\n\u001b[1;32m   5611\u001b[0m \u001b[38;5;28;01mif\u001b[39;00m im\u001b[38;5;241m.\u001b[39mget_clip_path() \u001b[38;5;129;01mis\u001b[39;00m \u001b[38;5;28;01mNone\u001b[39;00m:\n\u001b[1;32m   5612\u001b[0m     \u001b[38;5;66;03m# image does not already have clipping set, clip to axes patch\u001b[39;00m\n",
      "File \u001b[0;32m~/web/alyra/villepropre/vp-server/.venv/lib/python3.9/site-packages/matplotlib/image.py:700\u001b[0m, in \u001b[0;36m_ImageBase.set_data\u001b[0;34m(self, A)\u001b[0m\n\u001b[1;32m    696\u001b[0m \u001b[38;5;28mself\u001b[39m\u001b[38;5;241m.\u001b[39m_A \u001b[38;5;241m=\u001b[39m cbook\u001b[38;5;241m.\u001b[39msafe_masked_invalid(A, copy\u001b[38;5;241m=\u001b[39m\u001b[38;5;28;01mTrue\u001b[39;00m)\n\u001b[1;32m    698\u001b[0m \u001b[38;5;28;01mif\u001b[39;00m (\u001b[38;5;28mself\u001b[39m\u001b[38;5;241m.\u001b[39m_A\u001b[38;5;241m.\u001b[39mdtype \u001b[38;5;241m!=\u001b[39m np\u001b[38;5;241m.\u001b[39muint8 \u001b[38;5;129;01mand\u001b[39;00m\n\u001b[1;32m    699\u001b[0m         \u001b[38;5;129;01mnot\u001b[39;00m np\u001b[38;5;241m.\u001b[39mcan_cast(\u001b[38;5;28mself\u001b[39m\u001b[38;5;241m.\u001b[39m_A\u001b[38;5;241m.\u001b[39mdtype, \u001b[38;5;28mfloat\u001b[39m, \u001b[38;5;124m\"\u001b[39m\u001b[38;5;124msame_kind\u001b[39m\u001b[38;5;124m\"\u001b[39m)):\n\u001b[0;32m--> 700\u001b[0m     \u001b[38;5;28;01mraise\u001b[39;00m \u001b[38;5;167;01mTypeError\u001b[39;00m(\u001b[38;5;124m\"\u001b[39m\u001b[38;5;124mImage data of dtype \u001b[39m\u001b[38;5;132;01m{}\u001b[39;00m\u001b[38;5;124m cannot be converted to \u001b[39m\u001b[38;5;124m\"\u001b[39m\n\u001b[1;32m    701\u001b[0m                     \u001b[38;5;124m\"\u001b[39m\u001b[38;5;124mfloat\u001b[39m\u001b[38;5;124m\"\u001b[39m\u001b[38;5;241m.\u001b[39mformat(\u001b[38;5;28mself\u001b[39m\u001b[38;5;241m.\u001b[39m_A\u001b[38;5;241m.\u001b[39mdtype))\n\u001b[1;32m    703\u001b[0m \u001b[38;5;28;01mif\u001b[39;00m \u001b[38;5;28mself\u001b[39m\u001b[38;5;241m.\u001b[39m_A\u001b[38;5;241m.\u001b[39mndim \u001b[38;5;241m==\u001b[39m \u001b[38;5;241m3\u001b[39m \u001b[38;5;129;01mand\u001b[39;00m \u001b[38;5;28mself\u001b[39m\u001b[38;5;241m.\u001b[39m_A\u001b[38;5;241m.\u001b[39mshape[\u001b[38;5;241m-\u001b[39m\u001b[38;5;241m1\u001b[39m] \u001b[38;5;241m==\u001b[39m \u001b[38;5;241m1\u001b[39m:\n\u001b[1;32m    704\u001b[0m     \u001b[38;5;66;03m# If just one dimension assume scalar and apply colormap\u001b[39;00m\n\u001b[1;32m    705\u001b[0m     \u001b[38;5;28mself\u001b[39m\u001b[38;5;241m.\u001b[39m_A \u001b[38;5;241m=\u001b[39m \u001b[38;5;28mself\u001b[39m\u001b[38;5;241m.\u001b[39m_A[:, :, \u001b[38;5;241m0\u001b[39m]\n",
      "\u001b[0;31mTypeError\u001b[0m: Image data of dtype <U142 cannot be converted to float"
     ]
    },
    {
     "data": {
      "image/png": "[encoded data removed]",
      "text/plain": [
       "<Figure size 500x500 with 1 Axes>"
      ]
     },
     "metadata": {},
     "output_type": "display_data"
    }
   ],
   "source": [
    "Image.fromarray(detection_result_image)\n",
    "\n",
    "# import matplotlib.pyplot as plt\n",
    "# plt.figure(figsize=(5, 5))\n",
    "# plt.imshow(imageToPredict)\n",
    "# plt.show()\n",
    "# plt.close()\n",
    "# test_validation_folder = str(PROJECT_FOLDER) + '/datasets/dataset.voc/test_val/'\n",
    "\n",
    "# # Show all the detection result\n",
    "# for image in l_detection_result_image:\n",
    "#     plt.figure(figsize=(5, 5))\n",
    "#     plt.imshow(image)\n",
    "#     plt.show()\n",
    "#     # Save the image in the validation folder    \n",
    "#     plt.close()"
   ]
  }
 ],
 "metadata": {
  "kernelspec": {
   "display_name": ".venv",
   "language": "python",
   "name": "python3"
  },
  "language_info": {
   "codemirror_mode": {
    "name": "ipython",
    "version": 3
   },
   "file_extension": ".py",
   "mimetype": "text/x-python",
   "name": "python",
   "nbconvert_exporter": "python",
   "pygments_lexer": "ipython3",
   "version": "3.9.19"
  }
 },
 "nbformat": 4,
 "nbformat_minor": 2
}
